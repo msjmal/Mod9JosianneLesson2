{
 "cells": [
  {
   "cell_type": "markdown",
   "id": "ee416a0c-25ac-495a-9bb5-76831279704f",
   "metadata": {},
   "source": [
    "# Lesson 3\n",
    "\n",
    "This lesson will cover the following topics: \n",
    "\n",
    "1. Advanced numpy and matplotlib\n",
    "2. Using pandas to create indexable dictionaries\n",
    "3. Understanding and using dataframes \n",
    "4. Transforming data using np and pandas\n",
    "5. Importing data from CSV/Excel\n",
    "\n",
    "NumPy allows for many useful packages, and as scientists and engineers one of the most useful is the ```linalg``` package.\n",
    "\n",
    "This package provides us with many prewritten functions to perform linear algebra operations."
   ]
  },
  {
   "cell_type": "code",
   "execution_count": 2,
   "id": "567f9267-e040-4cca-bf64-36e8f2424dd9",
   "metadata": {},
   "outputs": [],
   "source": [
    "import numpy as np"
   ]
  },
  {
   "cell_type": "code",
   "execution_count": 3,
   "id": "3b530ce4-91de-4189-a1b3-2f8193409180",
   "metadata": {},
   "outputs": [
    {
     "name": "stdout",
     "output_type": "stream",
     "text": [
      "[[ 1.72421884 -1.84701759 -0.74891268  0.04203957]\n",
      " [ 0.18729642  0.02558965 -0.45009261  1.58411389]\n",
      " [-1.41819987  0.4509753  -0.61602027  0.57406989]\n",
      " [ 1.07671784  0.15515016 -1.26810627  0.33770542]]\n"
     ]
    }
   ],
   "source": [
    "#create a 4x4 matrix with random numbers\n",
    "matrix = np.random.randn(4, 4) #4 rows by 4 columns\n",
    "\n",
    "print(matrix)"
   ]
  },
  {
   "cell_type": "markdown",
   "id": "8ddc7df5-9d30-40f9-8d7a-50c5587c745f",
   "metadata": {},
   "source": [
    "We can calculate the inverse of a matrix by calling the ```inv()``` function from the ```linalg``` package as follows:"
   ]
  },
  {
   "cell_type": "code",
   "execution_count": 5,
   "id": "c15cc647-bedb-4e21-8248-a1e15fa7cdc8",
   "metadata": {},
   "outputs": [
    {
     "name": "stdout",
     "output_type": "stream",
     "text": [
      "[[-0.11797112  0.15442699 -0.59677333  0.30476002]\n",
      " [-0.57982939  0.02952786 -0.32803797  0.49130689]\n",
      " [-0.17839691  0.32223656 -0.56974913 -0.52082037]\n",
      " [-0.02737299  0.70408894 -0.08602411 -0.19194973]]\n"
     ]
    }
   ],
   "source": [
    "inv = np.linalg.inv(matrix)\n",
    "\n",
    "print(inv)"
   ]
  },
  {
   "cell_type": "markdown",
   "id": "3f0f2b1b-24f9-42a3-b1e9-6c97accd81ee",
   "metadata": {},
   "source": [
    "To prove that it is in fact the inverse of the matrix we can multiply ```inv``` and ```matrix``` whose result should be the identity matrix."
   ]
  },
  {
   "cell_type": "code",
   "execution_count": 7,
   "id": "11accc08-8ac4-4bc5-bddc-c3e1f12272e2",
   "metadata": {},
   "outputs": [
    {
     "name": "stdout",
     "output_type": "stream",
     "text": [
      "[[ 1.00000000e+00 -1.04083409e-17  1.11022302e-16  0.00000000e+00]\n",
      " [-1.38777878e-17  1.00000000e+00  0.00000000e+00 -5.55111512e-17]\n",
      " [ 0.00000000e+00  0.00000000e+00  1.00000000e+00 -1.52655666e-16]\n",
      " [-4.16333634e-17  2.77555756e-17 -9.71445147e-17  1.00000000e+00]]\n"
     ]
    }
   ],
   "source": [
    "experimental_identity = np.matmul(matrix, inv)\n",
    "print(experimental_identity)"
   ]
  },
  {
   "cell_type": "markdown",
   "id": "fbe0145c-3f07-4c8f-86bb-27847956b018",
   "metadata": {},
   "source": [
    "We can see that this is close to the identity matrix to the degree of some rounding errors off of the main diagonal, so all the values off the diagonal are really close to zero, with the values on the diagonal being equal to 1. But what if we wanted NumPy to check for us? Then we can use the ```allclose()``` function to check if all the values in one matrix are close to some degree to another matrix. \n",
    "\n",
    "First we have to have an identity matrix to which we can compare ```experimental_identity```. For this we can use the ```eye()``` function. This function creates a 2-dimensional array with 1's on the diagonal and 0's everywhere else."
   ]
  },
  {
   "cell_type": "markdown",
   "id": "8ae0147c-0ab4-4654-8b90-496f60ea4b04",
   "metadata": {},
   "source": [
    "true_identity = np.eye(4)\n",
    "print(true_identity)"
   ]
  },
  {
   "cell_type": "markdown",
   "id": "acd3127f-612c-4eff-b472-29957acb5e86",
   "metadata": {},
   "source": [
    "Now we can compare ```experimental_identity``` and ```true_identity```, which does not contain the rounding errors, but is close enough to the identity matrix. "
   ]
  },
  {
   "cell_type": "code",
   "execution_count": 11,
   "id": "e3d59450-c0e5-400a-89a4-df601b352f1f",
   "metadata": {},
   "outputs": [
    {
     "name": "stdout",
     "output_type": "stream",
     "text": [
      "True\n"
     ]
    }
   ],
   "source": [
    "print(np.allclose(experimental_identity, true_identity))"
   ]
  },
  {
   "cell_type": "markdown",
   "id": "d4d8686d-5038-455a-8540-df8392c9f9a3",
   "metadata": {},
   "source": [
    "The ```numpy``` and ```linalg``` packages also allows some basic but usually tedious linear algebra operations should we have to code them ourselves. These operations include but are not limited to:\n",
    "\n",
    "```sum()```: calculates the elementwise sum of a matrix (sum of all of its entities)\n",
    "\n",
    "```trace()```: calculates the trace of a matrix (the sum of its diagonal entities)\n",
    "\n",
    "```det()```: calculates the determinant of a matrix (which corresponds to how that matrix scales other data.  For a square matrix abcd, determinant is ad-cd) \n",
    "\n",
    "```norm()```: calculates the norm of a matrix or vector, which is a useful function for comparing matrices.\n",
    "\n",
    "\n",
    "\n"
   ]
  },
  {
   "cell_type": "code",
   "execution_count": 13,
   "id": "bc62c6a1-2d54-4e8e-ac04-fd4e03cbf3b2",
   "metadata": {},
   "outputs": [],
   "source": [
    "matrix = np.random.randint(5, size=(2,2))\n",
    "matrix_sum = np.sum(matrix)\n",
    "matrix_trace = np.trace(matrix)\n",
    "matrix_det = np.linalg.det(matrix)"
   ]
  },
  {
   "cell_type": "code",
   "execution_count": 14,
   "id": "03d89019-4db1-4733-9b8a-79e9be73dcf0",
   "metadata": {},
   "outputs": [
    {
     "name": "stdout",
     "output_type": "stream",
     "text": [
      "[[0 3]\n",
      " [3 1]]\n",
      "7\n",
      "1\n",
      "-9.000000000000002\n"
     ]
    }
   ],
   "source": [
    "print(matrix)\n",
    "print(matrix_sum)\n",
    "print(matrix_trace)\n",
    "print(matrix_det)"
   ]
  },
  {
   "cell_type": "code",
   "execution_count": 15,
   "id": "ee54002a-c460-4599-a3ce-368463096264",
   "metadata": {},
   "outputs": [
    {
     "name": "stdout",
     "output_type": "stream",
     "text": [
      "7.0710678118654755\n",
      "2.23606797749979\n"
     ]
    }
   ],
   "source": [
    "a = np.array([5, 5])\n",
    "b = np.array([1, 2])\n",
    "print(np.linalg.norm(a))\n",
    "print(np.linalg.norm(b))"
   ]
  },
  {
   "cell_type": "markdown",
   "id": "bef2944a-c5cc-4b4d-961a-84c69ebd0478",
   "metadata": {},
   "source": [
    "This allows us to quickly calculate the distance between two data points, as data points are represented as vectors. \n"
   ]
  },
  {
   "attachments": {
    "Distance_Between_Vectors.PNG": {
     "image/png": "[encoded data removed]"
    }
   },
   "cell_type": "markdown",
   "id": "91d0ed50-6fe2-42ef-a803-992113c7862e",
   "metadata": {},
   "source": [
    "![Distance_Between_Vectors.PNG](attachment:Distance_Between_Vectors.PNG)"
   ]
  },
  {
   "cell_type": "code",
   "execution_count": 18,
   "id": "6cb9ecdd-6259-452b-b556-03150272ad7e",
   "metadata": {},
   "outputs": [
    {
     "name": "stdout",
     "output_type": "stream",
     "text": [
      "5.0\n"
     ]
    }
   ],
   "source": [
    "print(np.linalg.norm(a-b))"
   ]
  },
  {
   "cell_type": "markdown",
   "id": "eb8633ee-3868-4beb-b436-67ad2d4bc7d0",
   "metadata": {},
   "source": [
    "This above line of code is one of the fundamental principles of machine learning and optimization tasks. When we are training a machine to perform a task well we are asking it to predict an answer. Then we compare its prediction to some data to which we know the correct answer (what we call training data). Then, depending on how close its prediction is, the machine updates itself and tries again until it converges closer to the answer. Thus, the goal of machine learning is minimizing the distance between the prediction of the machine and the true answer."
   ]
  },
  {
   "cell_type": "markdown",
   "id": "c574d566-0f97-4752-9ce1-a5abbbf66269",
   "metadata": {},
   "source": [
    "## Advanced Numpy : Matplotlib"
   ]
  },
  {
   "cell_type": "markdown",
   "id": "e85a14c1-0c57-4102-94f1-3c973dc36c08",
   "metadata": {},
   "source": [
    "One reason for Ipython’s popularity in analytical computing is that it integrates well with data visualization and other user interface libraries like matplotlib. Matplotlib is a desktop plotting package designed for creating most two dimensional publication quality plots.\n",
    "\n",
    "The  %matplotlib  magic function configures its integration with the Ipython shell or Jupyter notebook. This is important, as otherwise plots will either not appear(notebook) or take control of the session until closed(shell)."
   ]
  },
  {
   "cell_type": "code",
   "execution_count": 22,
   "id": "ad969297-e728-496c-88fa-4044b4e12b4a",
   "metadata": {},
   "outputs": [
    {
     "name": "stdout",
     "output_type": "stream",
     "text": [
      "[0 1 2 3 4 5 6 7 8 9]\n"
     ]
    },
    {
     "data": {
      "image/png": "[encoded data removed]",
      "text/plain": [
       "<Figure size 640x480 with 1 Axes>"
      ]
     },
     "metadata": {},
     "output_type": "display_data"
    }
   ],
   "source": [
    "import matplotlib.pyplot as plt\n",
    "import numpy as np\n",
    "data = np.arange(10) # to give a range\n",
    "print(data)\n",
    "plt.plot(data)\n",
    "plt.show()"
   ]
  },
  {
   "cell_type": "markdown",
   "id": "3365fc09-b1df-4b76-b4f7-9c081d1d589b",
   "metadata": {},
   "source": [
    "Plots in matplotlib reside within a Figure object. We can create a new figure and subplots as below :"
   ]
  },
  {
   "cell_type": "code",
   "execution_count": 176,
   "id": "129312a9-b98f-4092-a815-fd2209be533d",
   "metadata": {},
   "outputs": [
    {
     "ename": "NameError",
     "evalue": "name 'data2' is not defined",
     "output_type": "error",
     "traceback": [
      "\u001b[1;31m---------------------------------------------------------------------------\u001b[0m",
      "\u001b[1;31mNameError\u001b[0m                                 Traceback (most recent call last)",
      "Cell \u001b[1;32mIn[176], line 8\u001b[0m\n\u001b[0;32m      5\u001b[0m ax2 \u001b[38;5;241m=\u001b[39m fig\u001b[38;5;241m.\u001b[39madd_subplot( \u001b[38;5;241m2\u001b[39m, \u001b[38;5;241m2\u001b[39m, \u001b[38;5;241m4\u001b[39m)\n\u001b[0;32m      7\u001b[0m ax1\u001b[38;5;241m.\u001b[39mplot(data)\n\u001b[1;32m----> 8\u001b[0m ax2\u001b[38;5;241m.\u001b[39mplot(data2)\n",
      "\u001b[1;31mNameError\u001b[0m: name 'data2' is not defined"
     ]
    },
    {
     "data": {
      "image/png": "[encoded data removed]",
      "text/plain": [
       "<Figure size 640x480 with 4 Axes>"
      ]
     },
     "metadata": {},
     "output_type": "display_data"
    }
   ],
   "source": [
    "fig = plt.figure()  ##to present confusion matrix\n",
    "ax1 = fig.add_subplot( 2, 2, 1)  # here 2,2 represents number of plots that is 2*2 = 4 and 1 represents the position of the plot, in this case the first plot.\n",
    "ax2 = fig.add_subplot( 2, 2, 2)\n",
    "ax2 = fig.add_subplot( 2, 2, 3)\n",
    "ax2 = fig.add_subplot( 2, 2, 4)\n",
    "\n",
    "ax1.plot(data)\n",
    "ax2.plot(data2)\n"
   ]
  },
  {
   "cell_type": "markdown",
   "id": "7761ee89-d005-4d89-8712-3e1954b45604",
   "metadata": {},
   "source": [
    "Behavior of the subplots can be defined as follows:\n",
    "\n",
    "* nrows : Number of rows of subplots\n",
    "* ncolumns :  Number of columns of subplots\n",
    "* sharex : All subplots should use the same x-axis ticks(adjusting the xlim will affect all subplots)\n",
    "* sharey : All subplots should use the same y-axis ticks(adjusting the ylim will affect all subplots)\n",
    "* subplot_kw : Dict of keywords passed to add_subplot call used to create each subplot.\n",
    "* **fig_kw : Additional keywords to subplots are used when creating the figure, such as plt.subplot(2, 2, figsize=(8, 6))"
   ]
  },
  {
   "cell_type": "markdown",
   "id": "31145379-9e1e-4d04-8e57-51ab3f330574",
   "metadata": {},
   "source": [
    "** Subplots_adjust : ** Used to create padding around subplots and spacing between subplots. <br>\n",
    "\n",
    "<code> subplots_adjust(left = None, right=None, top=None, bottom=None, wspace=None, hspace=None) </code> <br>\n",
    "\n",
    "where wspace and hspace controls the percent of the figure width and figure height, respectively, to use as spacing between subplots. <br>\n",
    "Example : "
   ]
  },
  {
   "cell_type": "code",
   "execution_count": 27,
   "id": "1e8ede5c-66de-4d7e-9d39-e4cb370ac6ee",
   "metadata": {},
   "outputs": [
    {
     "data": {
      "image/png": "[encoded data removed]",
      "text/plain": [
       "<Figure size 640x480 with 4 Axes>"
      ]
     },
     "metadata": {},
     "output_type": "display_data"
    }
   ],
   "source": [
    "fig, axes = plt.subplots(2, 2, sharex=True, sharey=True) \n",
    "                        \n",
    "for i in range(2):\n",
    "    for j in range(2):\n",
    "        axes[i, j].hist(np.random.randn(5000), bins=50, color='k', alpha=0.5)\n",
    "plt.subplots_adjust(wspace=1, hspace=1)"
   ]
  },
  {
   "cell_type": "markdown",
   "id": "3780c4d7-be1f-4402-ad07-a5cc3de490fa",
   "metadata": {},
   "source": [
    "** Colors: **\n",
    "Matplotlib’s main plot function accepts arrays of x and y coordinates and optionally a string abbreviation indicating color and style. <br>\n",
    "\n",
    "For example, to plot x versus y with green dashes, there are two ways: \n",
    "\n",
    "<code> ax.plot(x, y, 'g--') </code>\n",
    "or \n",
    "<code> ax.plot(x, y, linestyle = '--', color = 'g') </code>\n"
   ]
  },
  {
   "cell_type": "markdown",
   "id": "41c87159-3f70-4776-91c3-fe4735164ab9",
   "metadata": {},
   "source": [
    "** Markers: **\n",
    "Line plots can additionally have markers to highlight the actual data points. Since matplotlib creates a continuous line plot, interpolating between points, it can occasionally be unclear where the points lie. \n",
    "<br> Marker can be part of the style string, which must have color followed by marker type and line style"
   ]
  },
  {
   "cell_type": "code",
   "execution_count": 30,
   "id": "c437de9d-f80a-40d7-b226-b350eb8945f4",
   "metadata": {},
   "outputs": [
    {
     "data": {
      "text/plain": [
       "[<matplotlib.lines.Line2D at 0x278a0b73680>]"
      ]
     },
     "execution_count": 30,
     "metadata": {},
     "output_type": "execute_result"
    },
    {
     "data": {
      "image/png": "[encoded data removed]",
      "text/plain": [
       "<Figure size 640x480 with 1 Axes>"
      ]
     },
     "metadata": {},
     "output_type": "display_data"
    }
   ],
   "source": [
    "from numpy.random import randn\n",
    "plt.plot(randn(30).cumsum(), 'ko--')"
   ]
  },
  {
   "cell_type": "code",
   "execution_count": 31,
   "id": "a38e7dd2-b313-4b3d-b081-1462e5ebf485",
   "metadata": {},
   "outputs": [
    {
     "data": {
      "text/plain": [
       "[<matplotlib.lines.Line2D at 0x278a1d9ca10>]"
      ]
     },
     "execution_count": 31,
     "metadata": {},
     "output_type": "execute_result"
    },
    {
     "data": {
      "image/png": "[encoded data removed]",
      "text/plain": [
       "<Figure size 640x480 with 1 Axes>"
      ]
     },
     "metadata": {},
     "output_type": "display_data"
    }
   ],
   "source": [
    "plt.plot(randn(30).cumsum(), color = 'g', linestyle = 'dashed', marker = '*')"
   ]
  },
  {
   "cell_type": "markdown",
   "id": "7e76dea7-afa1-4d6c-9465-3b89434a6e24",
   "metadata": {},
   "source": [
    "** Ticks and Labels: **\n",
    "The pyplot interface designed for interactive use, consists of methods like xlim, xticks, and xticklabels. These control the plot range, tick locations and tick labels, respectively. They can be used in two ways: <br>\n",
    "* Called with no arguments returns the current parameter value( e.g., plt.xlim() returns the current x-axis plotting range)\n",
    "* Called with parameters sets the parameter value (e.g., plt.xlim([0, 10]), sets the x-axis range to 0 to 10)."
   ]
  },
  {
   "cell_type": "code",
   "execution_count": 33,
   "id": "a82feda2-292f-4a68-b4d5-199575eeab82",
   "metadata": {},
   "outputs": [
    {
     "data": {
      "text/plain": [
       "[<matplotlib.lines.Line2D at 0x278a0c31280>]"
      ]
     },
     "execution_count": 33,
     "metadata": {},
     "output_type": "execute_result"
    },
    {
     "data": {
      "image/png": "[encoded data removed]",
      "text/plain": [
       "<Figure size 640x480 with 1 Axes>"
      ]
     },
     "metadata": {},
     "output_type": "display_data"
    }
   ],
   "source": [
    "fig = plt.figure()\n",
    "ax = fig.add_subplot(1, 1, 1)\n",
    "ax.plot(np.random.randn(1000).cumsum())"
   ]
  },
  {
   "cell_type": "markdown",
   "id": "eb45942d-794c-4a58-b42e-a37df8a1d5a3",
   "metadata": {},
   "source": [
    "** Legends: **\n",
    "Legends are another critical element for identifying plot elements. There are couple of ways to add one. The easiest is to pass the label argument when adding each piece of the plot:\n",
    "\n"
   ]
  },
  {
   "cell_type": "code",
   "execution_count": 35,
   "id": "20924b10-2eae-4884-a391-402227e3e8b2",
   "metadata": {},
   "outputs": [
    {
     "data": {
      "text/plain": [
       "<matplotlib.legend.Legend at 0x278a076f260>"
      ]
     },
     "execution_count": 35,
     "metadata": {},
     "output_type": "execute_result"
    },
    {
     "data": {
      "image/png": "[encoded data removed]",
      "text/plain": [
       "<Figure size 640x480 with 1 Axes>"
      ]
     },
     "metadata": {},
     "output_type": "display_data"
    }
   ],
   "source": [
    "from numpy.random import randn\n",
    "fig = plt.figure()\n",
    "ax = fig.add_subplot(1,1,1)\n",
    "ax.plot(randn(1000). cumsum(), 'k', label = 'one')\n",
    "ax.plot(randn(1000). cumsum(), 'k--', label = 'two')\n",
    "ax.plot(randn(1000). cumsum(), 'k.', label = 'three')\n",
    "ax.legend(loc = 'best') # to automatically create the legend for the plot."
   ]
  },
  {
   "cell_type": "markdown",
   "id": "997e4b95-4d89-458e-907b-6c590b033bb8",
   "metadata": {},
   "source": [
    "** Annotations: **\n",
    "In addition to the standard plots, text, arrows or other shapes are used to customize the plot annotations. ‘Text’ draws text at a given coordinates(x,y) on the plot with optional custome styling: <br>\n",
    "<code> ax.text(x,y, ‘Hello World!’, family = ‘monospace’, fontsize =10) </code>\n",
    "\n",
    "Similarly, arrows along with the text can be arranged appropriately. There is another method called ‘ax.annotate’, this method can draw labels at the indicated x and y coordinates. Here we use set_xlim and set_ylim methods to manually set the start and end boundaries for the plot rather than matplotlib’s default. To add main title of the plot, we use ax.set_title.   \n",
    "\n",
    "Drawing shapes requires some more care. Matplotlib has objects that represent many common shapes, referred to as “Patches”. Some of these likes rectangle and circle are found in matplotlib.pyplot, but the full set is located in matplotlib.patches."
   ]
  },
  {
   "cell_type": "markdown",
   "id": "4078350a-214c-4b48-8101-a8b41b9f90d2",
   "metadata": {},
   "source": [
    "** Saving Plots **\n",
    "You can save the active figure to file using plt.savefig. This method is equivalent to the figure object’s savefig instance method. For example, to save an SVG version of a figure, you need only type: <br>\n",
    "<code> plt.savefig(‘figpath.svg’) </code>\n",
    "\n",
    "The file type is inferred from the file extension, like .pdf for PDF files. Two more important options that are used frequently for publishing graphics are dpi and bbox_inches, which controls the dots-per-inch resolution and can trim the whitespace around the actual figure respectively. \n",
    "\n",
    "<code> plt.savefig('figpath.png', dpi = 400, bbox_inches = 'tight') </code>"
   ]
  },
  {
   "cell_type": "markdown",
   "id": "1254d1fc-f31b-498d-91d2-c2975c4ddef8",
   "metadata": {},
   "source": [
    "## Pandas\n",
    "\n",
    "Pandas is the fundamental package for data manipulation and analysis in Python:\n",
    "- Extremely useful for doing anything with data, from simple Excel style operations to complex SQL-style data manipulations\n",
    "- Built on top of NumPy\n",
    "- It is conventional to import Pandas as \"pd\"\n",
    "\n",
    "For more information about Pandas:\n",
    "https://pandas.pydata.org\n"
   ]
  },
  {
   "cell_type": "markdown",
   "id": "f0842013-af67-43d5-bff2-6e5b062bb8c7",
   "metadata": {
    "tags": []
   },
   "source": [
    "# Data Structures\n",
    "\n",
    "The two most versatile data structures in Pandas are ```Series``` and ```DataFrame``` which are built on top of NumPy. So, before starting, we need to import the ```NumPy``` and ```Pandas``` libraries"
   ]
  },
  {
   "cell_type": "code",
   "execution_count": 40,
   "id": "52d537ab-64dc-4185-a57f-13425fa450a1",
   "metadata": {
    "tags": []
   },
   "outputs": [],
   "source": [
    "# import the numpy and pandas libraries and aliasing as np and pd respectively\n",
    "\n",
    "import numpy as np\n",
    "import pandas as pd"
   ]
  },
  {
   "cell_type": "markdown",
   "id": "26883d32-a1d6-4644-880c-66741e2f1955",
   "metadata": {},
   "source": [
    "## Series"
   ]
  },
  {
   "cell_type": "markdown",
   "id": "e15e2398-9745-4f30-8c03-ed5a2f5af468",
   "metadata": {},
   "source": [
    "A series is a one-dimensional object and can be created using various inputs like ```Array```, ```Dict```, and ```Scalar value or constant```. By default, each value in a series will receive an index from 0 to N-1, which N is the length of the data."
   ]
  },
  {
   "cell_type": "code",
   "execution_count": 43,
   "id": "d154cef2-c732-433f-a7bd-d9a8f4b790f4",
   "metadata": {},
   "outputs": [
    {
     "name": "stdout",
     "output_type": "stream",
     "text": [
      "0      3.14\n",
      "1    python\n",
      "2       -10\n",
      "3      BC34\n",
      "dtype: object\n"
     ]
    }
   ],
   "source": [
    "# example of creating a simple series\n",
    "MySeries = pd.Series ([3.14, \"python\", -10, 'BC34'])\n",
    "print (MySeries)"
   ]
  },
  {
   "cell_type": "markdown",
   "id": "86905c51-2f5b-4198-ab5e-5a9c3a2f17fc",
   "metadata": {},
   "source": [
    "You can specify an index to each data in the series like below:"
   ]
  },
  {
   "cell_type": "code",
   "execution_count": 45,
   "id": "a6a106a9-e91f-431b-9ef7-6201d552143e",
   "metadata": {},
   "outputs": [
    {
     "name": "stdout",
     "output_type": "stream",
     "text": [
      "A      3.14\n",
      "B    python\n",
      "C       -10\n",
      "D      BC34\n",
      "dtype: object\n"
     ]
    }
   ],
   "source": [
    "MySeries2 = pd.Series ( [3.14, \"python\", -10, 'BC34'], \n",
    "                 index=['A', 'B', 'C', 'D'])\n",
    "print (MySeries2)"
   ]
  },
  {
   "cell_type": "code",
   "execution_count": 46,
   "id": "2c75513b-4223-424d-bbde-5a5403207df9",
   "metadata": {},
   "outputs": [
    {
     "data": {
      "text/plain": [
       "array([3.14, 'python', -10, 'BC34'], dtype=object)"
      ]
     },
     "execution_count": 46,
     "metadata": {},
     "output_type": "execute_result"
    }
   ],
   "source": [
    "MySeries2.values"
   ]
  },
  {
   "cell_type": "markdown",
   "id": "acca20d0-ae6b-4aa7-ae8a-cce1582a95be",
   "metadata": {},
   "source": [
    "Using index for calling values in a series."
   ]
  },
  {
   "cell_type": "code",
   "execution_count": 48,
   "id": "d1e25347-cc10-493b-b0f6-b2211b2a7dfa",
   "metadata": {},
   "outputs": [
    {
     "name": "stdout",
     "output_type": "stream",
     "text": [
      "C       -10\n",
      "B    python\n",
      "dtype: object\n",
      "0    3.14\n",
      "2     -10\n",
      "dtype: object\n"
     ]
    }
   ],
   "source": [
    "print(MySeries2[['C','B',]])   # Using index for calling values in a series.\n",
    "\n",
    "print(MySeries[[0,2]])"
   ]
  },
  {
   "cell_type": "markdown",
   "id": "931c75cc-d64a-4458-b640-3710e9a2a701",
   "metadata": {},
   "source": [
    "### Creating a series by passing the dictionary"
   ]
  },
  {
   "cell_type": "code",
   "execution_count": 50,
   "id": "1b144772-6205-46b9-b719-fa35d7ea7900",
   "metadata": {},
   "outputs": [
    {
     "name": "stdout",
     "output_type": "stream",
     "text": [
      "Name         [Bob, John, Mary]\n",
      "Age               [15, 23, 17]\n",
      "Color    [white, black, black]\n",
      "dtype: object\n"
     ]
    }
   ],
   "source": [
    "Data = {'Name': ['Bob', 'John', 'Mary'], 'Age': [15, 23, 17], 'Color': ['white', 'black', 'black']}\n",
    "\n",
    "Sdata = pd.Series(Data)\n",
    "print (Sdata)"
   ]
  },
  {
   "cell_type": "markdown",
   "id": "f64d3284-9d57-4725-b656-1d0fc92af6cd",
   "metadata": {},
   "source": [
    "In this example, the dict' s keys are indexes in Data. So you can recall values by using these keys:"
   ]
  },
  {
   "cell_type": "code",
   "execution_count": 52,
   "id": "4a2432c9-cd82-4bab-8643-f102f0aa83da",
   "metadata": {},
   "outputs": [
    {
     "name": "stdout",
     "output_type": "stream",
     "text": [
      "Name    [Bob, John, Mary]\n",
      "Age          [15, 23, 17]\n",
      "dtype: object\n"
     ]
    }
   ],
   "source": [
    "Features = ['Name', 'Age']\n",
    "\n",
    "Sdata2 = pd.Series (Data, index = Features)\n",
    "print (Sdata2)"
   ]
  },
  {
   "cell_type": "code",
   "execution_count": 53,
   "id": "191ed3b0-14dc-4b1b-ae89-9ecae1a52bcb",
   "metadata": {},
   "outputs": [
    {
     "name": "stdout",
     "output_type": "stream",
     "text": [
      "Name          [Bob, John, Mary]\n",
      "Age                [15, 23, 17]\n",
      "Color     [white, black, black]\n",
      "Weight                      NaN\n",
      "dtype: object\n"
     ]
    }
   ],
   "source": [
    "Features = ['Name', 'Age', 'Color', 'Weight']\n",
    "\n",
    "Sdata2 = pd.Series (Data, index = Features)\n",
    "print (Sdata2)"
   ]
  },
  {
   "cell_type": "markdown",
   "id": "5a5db941-cf1e-4f03-8b6b-25480094734a",
   "metadata": {},
   "source": [
    "Note: Since we do not have any value for ```Weight``` in 'Data' dictionary, it appears as NaN. This kind of data is considered as 'missing data' or 'NA values'."
   ]
  },
  {
   "cell_type": "markdown",
   "id": "26ed654a-ae38-434a-a066-8186de35e6f9",
   "metadata": {},
   "source": [
    "In big data, detecting missing data is essential. For this purpose, The ```isnull``` and ```notnull``` functions should be used."
   ]
  },
  {
   "cell_type": "code",
   "execution_count": 56,
   "id": "4152b49c-b057-42b4-9510-de406c377f33",
   "metadata": {},
   "outputs": [
    {
     "data": {
      "text/plain": [
       "Name      False\n",
       "Age       False\n",
       "Color     False\n",
       "Weight     True\n",
       "dtype: bool"
      ]
     },
     "execution_count": 56,
     "metadata": {},
     "output_type": "execute_result"
    }
   ],
   "source": [
    "pd.isnull(Sdata2)"
   ]
  },
  {
   "cell_type": "code",
   "execution_count": 57,
   "id": "b4daca77-7f18-4357-829d-eabbc433f3db",
   "metadata": {},
   "outputs": [
    {
     "data": {
      "text/plain": [
       "Name       True\n",
       "Age        True\n",
       "Color      True\n",
       "Weight    False\n",
       "dtype: bool"
      ]
     },
     "execution_count": 57,
     "metadata": {},
     "output_type": "execute_result"
    }
   ],
   "source": [
    "pd.notnull(Sdata2)"
   ]
  },
  {
   "cell_type": "code",
   "execution_count": 58,
   "id": "1e586d4c-69a4-4b9d-aeba-bd0c0973e93c",
   "metadata": {},
   "outputs": [
    {
     "name": "stdout",
     "output_type": "stream",
     "text": [
      "b    20\n",
      "c    30\n",
      "d    40\n",
      "e    50\n",
      "dtype: int64\n",
      "d    40\n",
      "dtype: int64\n"
     ]
    }
   ],
   "source": [
    "# Retrieve some elements from a series\n",
    "\n",
    "Ser = pd.Series ([10,20,30,40,50,60,70], index = ['a','b','c','d','e','f','g'])\n",
    "\n",
    "print (Ser[1:5])\n",
    "print (Ser[3:4])"
   ]
  },
  {
   "cell_type": "code",
   "execution_count": 59,
   "id": "23221e1d-8015-4af8-b369-7eea4c5cf4ac",
   "metadata": {},
   "outputs": [
    {
     "name": "stdout",
     "output_type": "stream",
     "text": [
      "e    50\n",
      "f    60\n",
      "g    70\n",
      "dtype: int64\n"
     ]
    }
   ],
   "source": [
    "print (Ser[-3:])"
   ]
  },
  {
   "cell_type": "code",
   "execution_count": 60,
   "id": "5416341f-bc3b-46b5-98e3-ff3b7e17c5fe",
   "metadata": {},
   "outputs": [
    {
     "name": "stdout",
     "output_type": "stream",
     "text": [
      "a    10\n",
      "d    40\n",
      "f    60\n",
      "g    70\n",
      "dtype: int64\n"
     ]
    }
   ],
   "source": [
    "#Retrieve data using index\n",
    "\n",
    "print (Ser [['a','d','f','g']])"
   ]
  },
  {
   "cell_type": "markdown",
   "id": "710f0572-1fe4-4d1f-8b5a-b821a40b6d10",
   "metadata": {},
   "source": [
    "### Creating a series by passing the scalar"
   ]
  },
  {
   "cell_type": "markdown",
   "id": "0e76c8d4-6397-4ff9-bdad-5833be07ba86",
   "metadata": {},
   "source": [
    "If data is a scalar value, the value will be repeated to the number of indexes. The important point is, an index must be provided in the series."
   ]
  },
  {
   "cell_type": "code",
   "execution_count": 63,
   "id": "70e68dee-5b62-4bfa-bc01-20c97d20962f",
   "metadata": {},
   "outputs": [
    {
     "name": "stdout",
     "output_type": "stream",
     "text": [
      "0    23\n",
      "1    23\n",
      "2    23\n",
      "3    23\n",
      "4    23\n",
      "dtype: int64\n"
     ]
    }
   ],
   "source": [
    "Ser = pd.Series (23 , index = [0,1,2,3,4])\n",
    "print (Ser)"
   ]
  },
  {
   "cell_type": "markdown",
   "id": "c85d648f-a042-4a3f-8076-ce45b83012f6",
   "metadata": {},
   "source": [
    "We can use a function to define the index, <code>range(8)</code>, and and <code>dtype</code> to determine the data type."
   ]
  },
  {
   "cell_type": "code",
   "execution_count": 65,
   "id": "b4e8fe2a-f618-4740-9208-0fb0a37c8ef1",
   "metadata": {},
   "outputs": [
    {
     "name": "stdout",
     "output_type": "stream",
     "text": [
      "0    23.0\n",
      "1    23.0\n",
      "2    23.0\n",
      "3    23.0\n",
      "4    23.0\n",
      "5    23.0\n",
      "6    23.0\n",
      "7    23.0\n",
      "dtype: float64\n"
     ]
    }
   ],
   "source": [
    "Ser = pd.Series (23, index = range(8), dtype=float)\n",
    "print (Ser)"
   ]
  },
  {
   "cell_type": "markdown",
   "id": "f32313d4-27ea-4b87-b998-3139b163d659",
   "metadata": {},
   "source": [
    "## Basic Functionality in Series"
   ]
  },
  {
   "cell_type": "markdown",
   "id": "ffb42c81-5a6c-43b9-b7ff-b0ab143abbf3",
   "metadata": {},
   "source": [
    "```axes``` Returns a list of the row axis labels.\n",
    "\n",
    "```dtype``` Returns the dtype of the object.\n",
    "\n",
    "```empty``` Returns True if series is empty.\n",
    "\n",
    "```ndim```  Returns the number of dimensions of the underlying data.\n",
    "\n",
    "```size``` Returns the number of elements in the underlying data.\n",
    "\n",
    "```values``` Returns the Series as ndarray.\n",
    "\n",
    "```head()``` Returns the first n rows.\n",
    "\n",
    "```tail()``` Returns the last n rows.\n",
    "\n",
    "\n",
    "\n",
    "(Reference :www.tutorialspoint.com/python_pandas)"
   ]
  },
  {
   "cell_type": "markdown",
   "id": "dd62a0a9-f5f9-4aaa-9090-3c2c754c4ad1",
   "metadata": {},
   "source": [
    "#### The structure of using these functions is like below:\n",
    "\n",
    "#### NameSeries.```function```"
   ]
  },
  {
   "cell_type": "code",
   "execution_count": 69,
   "id": "c2a20a5a-6931-47a0-a464-f0d5543401d0",
   "metadata": {},
   "outputs": [
    {
     "name": "stdout",
     "output_type": "stream",
     "text": [
      "The axes are: \n",
      "[Index(['a', 'b', 'c', 'd', 'e', 'f', 'g', 'h'], dtype='object')]\n",
      "The dimentions of the object is: \n",
      "1\n",
      "The size of the object is: \n",
      "8\n",
      "The data in the Series is: \n",
      "[10 20 30 40 50 60 70 80]\n",
      "The first 4 rows of the data series: \n",
      "a    10\n",
      "b    20\n",
      "c    30\n",
      "d    40\n",
      "dtype: int64\n",
      "The last 2 rows of the data series: \n",
      "g    70\n",
      "h    80\n",
      "dtype: int64\n"
     ]
    }
   ],
   "source": [
    "# Some example of using functions in Series:\n",
    "\n",
    "\n",
    "Ser = pd.Series ([10,20,30,40,50,60,70, 80], index = ['a','b','c','d','e','f','g','h'])\n",
    "\n",
    "print (\"The axes are: \")\n",
    "print (Ser.axes)\n",
    "\n",
    "print (\"The dimentions of the object is: \")\n",
    "print (Ser.ndim)\n",
    "\n",
    "print (\"The size of the object is: \")\n",
    "print (Ser.size)\n",
    "\n",
    "print (\"The data in the Series is: \")\n",
    "print (Ser.values)\n",
    "\n",
    "print (\"The first 4 rows of the data series: \")\n",
    "print (Ser.head(4))\n",
    "\n",
    "print (\"The last 2 rows of the data series: \")\n",
    "print (Ser.tail(2))\n"
   ]
  },
  {
   "cell_type": "markdown",
   "id": "cb661f74-8c36-4785-ad13-a549ddb726f8",
   "metadata": {},
   "source": [
    "## DataFrame"
   ]
  },
  {
   "cell_type": "markdown",
   "id": "a7960831-c062-450a-bc14-d82c68866bc7",
   "metadata": {},
   "source": [
    "A ```DataFrame``` is a two-dimensional data structure resembling a table consisting of an ordered collection of columns, each of which could be of a different value type. A ```DataFrame``` has both row and column indexes.  One can compare a DataFrame to an excel sheet, in that it contains data in a very similar structure.\n",
    "\n",
    "A ```DataFrame``` can be created using various inputs like: ```List```, ```Dictionary```, ```Series```, and ```Numpy ndarrays```. "
   ]
  },
  {
   "cell_type": "markdown",
   "id": "20b99a85-d220-4ea7-9ce5-46c96adc4aa0",
   "metadata": {},
   "source": [
    "### Creating a DataFrame by passing a Lists"
   ]
  },
  {
   "cell_type": "code",
   "execution_count": 73,
   "id": "7a7d5ff4-7731-4da5-a5b7-f13bf56d7c41",
   "metadata": {},
   "outputs": [
    {
     "data": {
      "text/html": [
       "<div>\n",
       "<style scoped>\n",
       "    .dataframe tbody tr th:only-of-type {\n",
       "        vertical-align: middle;\n",
       "    }\n",
       "\n",
       "    .dataframe tbody tr th {\n",
       "        vertical-align: top;\n",
       "    }\n",
       "\n",
       "    .dataframe thead th {\n",
       "        text-align: right;\n",
       "    }\n",
       "</style>\n",
       "<table border=\"1\" class=\"dataframe\">\n",
       "  <thead>\n",
       "    <tr style=\"text-align: right;\">\n",
       "      <th></th>\n",
       "      <th>0</th>\n",
       "    </tr>\n",
       "  </thead>\n",
       "  <tbody>\n",
       "    <tr>\n",
       "      <th>0</th>\n",
       "      <td>100</td>\n",
       "    </tr>\n",
       "    <tr>\n",
       "      <th>1</th>\n",
       "      <td>120</td>\n",
       "    </tr>\n",
       "    <tr>\n",
       "      <th>2</th>\n",
       "      <td>130</td>\n",
       "    </tr>\n",
       "    <tr>\n",
       "      <th>3</th>\n",
       "      <td>140</td>\n",
       "    </tr>\n",
       "    <tr>\n",
       "      <th>4</th>\n",
       "      <td>150</td>\n",
       "    </tr>\n",
       "  </tbody>\n",
       "</table>\n",
       "</div>"
      ],
      "text/plain": [
       "     0\n",
       "0  100\n",
       "1  120\n",
       "2  130\n",
       "3  140\n",
       "4  150"
      ]
     },
     "execution_count": 73,
     "metadata": {},
     "output_type": "execute_result"
    }
   ],
   "source": [
    "Data = [100, 120, 130, 140, 150]\n",
    "\n",
    "df = pd.DataFrame(Data)\n",
    "df"
   ]
  },
  {
   "cell_type": "code",
   "execution_count": 74,
   "id": "a3fe01e5-81b3-46f4-aa72-edbf05d6edc1",
   "metadata": {
    "scrolled": true
   },
   "outputs": [
    {
     "data": {
      "text/html": [
       "<div>\n",
       "<style scoped>\n",
       "    .dataframe tbody tr th:only-of-type {\n",
       "        vertical-align: middle;\n",
       "    }\n",
       "\n",
       "    .dataframe tbody tr th {\n",
       "        vertical-align: top;\n",
       "    }\n",
       "\n",
       "    .dataframe thead th {\n",
       "        text-align: right;\n",
       "    }\n",
       "</style>\n",
       "<table border=\"1\" class=\"dataframe\">\n",
       "  <thead>\n",
       "    <tr style=\"text-align: right;\">\n",
       "      <th></th>\n",
       "      <th>first_name</th>\n",
       "      <th>last_name</th>\n",
       "      <th>age</th>\n",
       "      <th>preTestScore</th>\n",
       "      <th>postTestScore</th>\n",
       "      <th>weight</th>\n",
       "    </tr>\n",
       "  </thead>\n",
       "  <tbody>\n",
       "    <tr>\n",
       "      <th>0</th>\n",
       "      <td>Bruce</td>\n",
       "      <td>Banner</td>\n",
       "      <td>38</td>\n",
       "      <td>4</td>\n",
       "      <td>25</td>\n",
       "      <td>0</td>\n",
       "    </tr>\n",
       "    <tr>\n",
       "      <th>1</th>\n",
       "      <td>Tony</td>\n",
       "      <td>Stark</td>\n",
       "      <td>42</td>\n",
       "      <td>24</td>\n",
       "      <td>94</td>\n",
       "      <td>0</td>\n",
       "    </tr>\n",
       "    <tr>\n",
       "      <th>2</th>\n",
       "      <td>Hal</td>\n",
       "      <td>Jordan</td>\n",
       "      <td>25</td>\n",
       "      <td>31</td>\n",
       "      <td>57</td>\n",
       "      <td>0</td>\n",
       "    </tr>\n",
       "    <tr>\n",
       "      <th>3</th>\n",
       "      <td>Bruce</td>\n",
       "      <td>Wayne</td>\n",
       "      <td>32</td>\n",
       "      <td>2</td>\n",
       "      <td>62</td>\n",
       "      <td>0</td>\n",
       "    </tr>\n",
       "    <tr>\n",
       "      <th>4</th>\n",
       "      <td>Clark</td>\n",
       "      <td>Kent</td>\n",
       "      <td>28</td>\n",
       "      <td>3</td>\n",
       "      <td>70</td>\n",
       "      <td>0</td>\n",
       "    </tr>\n",
       "  </tbody>\n",
       "</table>\n",
       "</div>"
      ],
      "text/plain": [
       "  first_name last_name  age  preTestScore  postTestScore  weight\n",
       "0      Bruce    Banner   38             4             25       0\n",
       "1       Tony     Stark   42            24             94       0\n",
       "2        Hal    Jordan   25            31             57       0\n",
       "3      Bruce     Wayne   32             2             62       0\n",
       "4      Clark      Kent   28             3             70       0"
      ]
     },
     "execution_count": 74,
     "metadata": {},
     "output_type": "execute_result"
    }
   ],
   "source": [
    "raw_data = [['Bruce','Banner',38,4,25,0],['Tony','Stark',42,24,94,0],['Hal','Jordan',25,31,57,0],['Bruce','Wayne',32,2,62,0],\n",
    "            ['Clark','Kent',28,3,70,0]]\n",
    "df = pd.DataFrame (raw_data, columns = ['first_name', 'last_name','age','preTestScore','postTestScore','weight'])\n",
    "df"
   ]
  },
  {
   "cell_type": "markdown",
   "id": "b6d13477-9966-423e-a53d-e4467701fcfe",
   "metadata": {},
   "source": [
    "### Creating a DataFrame by passing a dictionary"
   ]
  },
  {
   "cell_type": "code",
   "execution_count": 76,
   "id": "5a52e4bd-33a9-4111-8082-14a0717555dd",
   "metadata": {},
   "outputs": [
    {
     "name": "stdout",
     "output_type": "stream",
     "text": [
      "rank1    Bruce\n",
      "rank2     Tony\n",
      "rank3      Hal\n",
      "rank4    Bruce\n",
      "rank5    Clark\n",
      "Name: first_name, dtype: object\n"
     ]
    }
   ],
   "source": [
    "raw_data = {'first_name': ['Bruce','Tony','Hal','Bruce','Clark'], 'last_name': ['Banner','Stark','Jordan','Wayne','Kent'], \n",
    "           'age': [38,42,25,32,28], 'preTestScore': [4,24,31,2,3], 'postTestScore': [25,94,57,62,70],'weight':[0,0,0,0,0]}\n",
    "\n",
    "df = pd.DataFrame (raw_data , index = ['rank1','rank2','rank3','rank4','rank5'])\n",
    "df\n",
    "\n",
    "print(df['first_name'])"
   ]
  },
  {
   "cell_type": "code",
   "execution_count": 77,
   "id": "e357ed3e-336c-43c6-bae2-012acb446ebe",
   "metadata": {},
   "outputs": [
    {
     "data": {
      "text/html": [
       "<div>\n",
       "<style scoped>\n",
       "    .dataframe tbody tr th:only-of-type {\n",
       "        vertical-align: middle;\n",
       "    }\n",
       "\n",
       "    .dataframe tbody tr th {\n",
       "        vertical-align: top;\n",
       "    }\n",
       "\n",
       "    .dataframe thead th {\n",
       "        text-align: right;\n",
       "    }\n",
       "</style>\n",
       "<table border=\"1\" class=\"dataframe\">\n",
       "  <thead>\n",
       "    <tr style=\"text-align: right;\">\n",
       "      <th></th>\n",
       "      <th>first_attempt</th>\n",
       "      <th>second_attempt</th>\n",
       "      <th>third_attempt</th>\n",
       "      <th>fourth_attempt</th>\n",
       "    </tr>\n",
       "  </thead>\n",
       "  <tbody>\n",
       "    <tr>\n",
       "      <th>0</th>\n",
       "      <td>12.0</td>\n",
       "      <td>10.78</td>\n",
       "      <td>NaN</td>\n",
       "      <td>NaN</td>\n",
       "    </tr>\n",
       "    <tr>\n",
       "      <th>1</th>\n",
       "      <td>14.1</td>\n",
       "      <td>13.20</td>\n",
       "      <td>12.0</td>\n",
       "      <td>NaN</td>\n",
       "    </tr>\n",
       "    <tr>\n",
       "      <th>2</th>\n",
       "      <td>12.0</td>\n",
       "      <td>15.78</td>\n",
       "      <td>12.0</td>\n",
       "      <td>3.0</td>\n",
       "    </tr>\n",
       "  </tbody>\n",
       "</table>\n",
       "</div>"
      ],
      "text/plain": [
       "   first_attempt  second_attempt  third_attempt  fourth_attempt\n",
       "0           12.0           10.78            NaN             NaN\n",
       "1           14.1           13.20           12.0             NaN\n",
       "2           12.0           15.78           12.0             3.0"
      ]
     },
     "execution_count": 77,
     "metadata": {},
     "output_type": "execute_result"
    }
   ],
   "source": [
    "# Create a DataFrame from list of dicts\n",
    "\n",
    "Data = [{'first_attempt':12, 'second_attempt':10.78,}, \n",
    "        {'first_attempt':14.1, 'second_attempt':13.2, 'third_attempt':12},\n",
    "       {'first_attempt':12, 'second_attempt':15.78,'third_attempt':12,'fourth_attempt':3}\n",
    "       ]\n",
    "\n",
    "df = pd.DataFrame (Data)\n",
    "df"
   ]
  },
  {
   "cell_type": "code",
   "execution_count": 78,
   "id": "4691da7a-de22-4955-92b0-b9399effbd04",
   "metadata": {},
   "outputs": [
    {
     "data": {
      "text/html": [
       "<div>\n",
       "<style scoped>\n",
       "    .dataframe tbody tr th:only-of-type {\n",
       "        vertical-align: middle;\n",
       "    }\n",
       "\n",
       "    .dataframe tbody tr th {\n",
       "        vertical-align: top;\n",
       "    }\n",
       "\n",
       "    .dataframe thead th {\n",
       "        text-align: right;\n",
       "    }\n",
       "</style>\n",
       "<table border=\"1\" class=\"dataframe\">\n",
       "  <thead>\n",
       "    <tr style=\"text-align: right;\">\n",
       "      <th></th>\n",
       "      <th>first_attempt</th>\n",
       "      <th>second_attempt</th>\n",
       "      <th>third_attempt</th>\n",
       "      <th>fourth_attempt</th>\n",
       "    </tr>\n",
       "  </thead>\n",
       "  <tbody>\n",
       "    <tr>\n",
       "      <th>score1</th>\n",
       "      <td>12.0</td>\n",
       "      <td>10.78</td>\n",
       "      <td>NaN</td>\n",
       "      <td>NaN</td>\n",
       "    </tr>\n",
       "    <tr>\n",
       "      <th>score2</th>\n",
       "      <td>14.1</td>\n",
       "      <td>13.20</td>\n",
       "      <td>12.0</td>\n",
       "      <td>NaN</td>\n",
       "    </tr>\n",
       "    <tr>\n",
       "      <th>score3</th>\n",
       "      <td>12.0</td>\n",
       "      <td>15.78</td>\n",
       "      <td>12.0</td>\n",
       "      <td>3.0</td>\n",
       "    </tr>\n",
       "  </tbody>\n",
       "</table>\n",
       "</div>"
      ],
      "text/plain": [
       "        first_attempt  second_attempt  third_attempt  fourth_attempt\n",
       "score1           12.0           10.78            NaN             NaN\n",
       "score2           14.1           13.20           12.0             NaN\n",
       "score3           12.0           15.78           12.0             3.0"
      ]
     },
     "execution_count": 78,
     "metadata": {},
     "output_type": "execute_result"
    }
   ],
   "source": [
    "# define index - we define a particular index to label specific rows\n",
    "\n",
    "df = pd.DataFrame (Data, index = ['score1','score2','score3'])\n",
    "df"
   ]
  },
  {
   "cell_type": "markdown",
   "id": "78bfac9c-2739-4e8e-a14e-739bc15da2d0",
   "metadata": {},
   "source": [
    "### Creating a DataFrame from Dict of Series"
   ]
  },
  {
   "cell_type": "code",
   "execution_count": 80,
   "id": "57df4b5f-4922-4dea-ab77-3e34688992f5",
   "metadata": {},
   "outputs": [
    {
     "data": {
      "text/html": [
       "<div>\n",
       "<style scoped>\n",
       "    .dataframe tbody tr th:only-of-type {\n",
       "        vertical-align: middle;\n",
       "    }\n",
       "\n",
       "    .dataframe tbody tr th {\n",
       "        vertical-align: top;\n",
       "    }\n",
       "\n",
       "    .dataframe thead th {\n",
       "        text-align: right;\n",
       "    }\n",
       "</style>\n",
       "<table border=\"1\" class=\"dataframe\">\n",
       "  <thead>\n",
       "    <tr style=\"text-align: right;\">\n",
       "      <th></th>\n",
       "      <th>first</th>\n",
       "      <th>second</th>\n",
       "    </tr>\n",
       "  </thead>\n",
       "  <tbody>\n",
       "    <tr>\n",
       "      <th>a</th>\n",
       "      <td>1.0</td>\n",
       "      <td>1</td>\n",
       "    </tr>\n",
       "    <tr>\n",
       "      <th>b</th>\n",
       "      <td>2.0</td>\n",
       "      <td>2</td>\n",
       "    </tr>\n",
       "    <tr>\n",
       "      <th>c</th>\n",
       "      <td>3.0</td>\n",
       "      <td>3</td>\n",
       "    </tr>\n",
       "    <tr>\n",
       "      <th>d</th>\n",
       "      <td>NaN</td>\n",
       "      <td>4</td>\n",
       "    </tr>\n",
       "  </tbody>\n",
       "</table>\n",
       "</div>"
      ],
      "text/plain": [
       "   first  second\n",
       "a    1.0       1\n",
       "b    2.0       2\n",
       "c    3.0       3\n",
       "d    NaN       4"
      ]
     },
     "execution_count": 80,
     "metadata": {},
     "output_type": "execute_result"
    }
   ],
   "source": [
    "\n",
    "Data = {'first' : pd.Series([1, 2, 3], index=['a', 'b', 'c']),\n",
    "      'second' : pd.Series([1, 2, 3, 4], index=['a', 'b', 'c', 'd'])}\n",
    "\n",
    "df = pd.DataFrame(Data)\n",
    "df"
   ]
  },
  {
   "cell_type": "markdown",
   "id": "8784e212-5af7-4d8c-88c5-f7add34a9829",
   "metadata": {},
   "source": [
    "### Column Addition"
   ]
  },
  {
   "cell_type": "code",
   "execution_count": 82,
   "id": "3acc7b31-1d7a-4925-8425-442f57f5762a",
   "metadata": {
    "scrolled": true
   },
   "outputs": [
    {
     "name": "stdout",
     "output_type": "stream",
     "text": [
      "Original data: \n"
     ]
    },
    {
     "data": {
      "text/html": [
       "<div>\n",
       "<style scoped>\n",
       "    .dataframe tbody tr th:only-of-type {\n",
       "        vertical-align: middle;\n",
       "    }\n",
       "\n",
       "    .dataframe tbody tr th {\n",
       "        vertical-align: top;\n",
       "    }\n",
       "\n",
       "    .dataframe thead th {\n",
       "        text-align: right;\n",
       "    }\n",
       "</style>\n",
       "<table border=\"1\" class=\"dataframe\">\n",
       "  <thead>\n",
       "    <tr style=\"text-align: right;\">\n",
       "      <th></th>\n",
       "      <th>first_name</th>\n",
       "      <th>last_name</th>\n",
       "      <th>age</th>\n",
       "      <th>preTestScore</th>\n",
       "      <th>postTestScore</th>\n",
       "    </tr>\n",
       "  </thead>\n",
       "  <tbody>\n",
       "    <tr>\n",
       "      <th>rank1</th>\n",
       "      <td>Bruce</td>\n",
       "      <td>Banner</td>\n",
       "      <td>38</td>\n",
       "      <td>4</td>\n",
       "      <td>25</td>\n",
       "    </tr>\n",
       "    <tr>\n",
       "      <th>rank2</th>\n",
       "      <td>Tony</td>\n",
       "      <td>Stark</td>\n",
       "      <td>42</td>\n",
       "      <td>24</td>\n",
       "      <td>94</td>\n",
       "    </tr>\n",
       "    <tr>\n",
       "      <th>rank3</th>\n",
       "      <td>Hal</td>\n",
       "      <td>Jordan</td>\n",
       "      <td>25</td>\n",
       "      <td>31</td>\n",
       "      <td>57</td>\n",
       "    </tr>\n",
       "    <tr>\n",
       "      <th>rank4</th>\n",
       "      <td>Bruce</td>\n",
       "      <td>Wayne</td>\n",
       "      <td>32</td>\n",
       "      <td>2</td>\n",
       "      <td>62</td>\n",
       "    </tr>\n",
       "    <tr>\n",
       "      <th>rank5</th>\n",
       "      <td>Clark</td>\n",
       "      <td>Kent</td>\n",
       "      <td>28</td>\n",
       "      <td>3</td>\n",
       "      <td>70</td>\n",
       "    </tr>\n",
       "    <tr>\n",
       "      <th>rank6</th>\n",
       "      <td>Clark</td>\n",
       "      <td>Clark</td>\n",
       "      <td>0</td>\n",
       "      <td>0</td>\n",
       "      <td>0</td>\n",
       "    </tr>\n",
       "  </tbody>\n",
       "</table>\n",
       "</div>"
      ],
      "text/plain": [
       "      first_name last_name  age  preTestScore  postTestScore\n",
       "rank1      Bruce    Banner   38             4             25\n",
       "rank2       Tony     Stark   42            24             94\n",
       "rank3        Hal    Jordan   25            31             57\n",
       "rank4      Bruce     Wayne   32             2             62\n",
       "rank5      Clark      Kent   28             3             70\n",
       "rank6      Clark     Clark    0             0              0"
      ]
     },
     "execution_count": 82,
     "metadata": {},
     "output_type": "execute_result"
    }
   ],
   "source": [
    "raw_data = {'first_name': ['Bruce','Tony','Hal','Bruce','Clark','Clark'], 'last_name': ['Banner','Stark','Jordan','Wayne','Kent','Clark'], \n",
    "           'age': [38,42,25,32,28,0], 'preTestScore': [4,24,31,2,3,0], 'postTestScore': [25,94,57,62,70,0]}\n",
    "df = pd.DataFrame (raw_data , index = ['rank1','rank2','rank3','rank4','rank5','rank6'])\n",
    "\n",
    "print (\"Original data: \")\n",
    "\n",
    "df"
   ]
  },
  {
   "cell_type": "code",
   "execution_count": 83,
   "id": "edabd4e7-2aac-4f55-82e4-bb5bd45f6214",
   "metadata": {},
   "outputs": [
    {
     "name": "stdout",
     "output_type": "stream",
     "text": [
      "New DataFrame after inserting the 'date' column\n"
     ]
    },
    {
     "data": {
      "text/html": [
       "<div>\n",
       "<style scoped>\n",
       "    .dataframe tbody tr th:only-of-type {\n",
       "        vertical-align: middle;\n",
       "    }\n",
       "\n",
       "    .dataframe tbody tr th {\n",
       "        vertical-align: top;\n",
       "    }\n",
       "\n",
       "    .dataframe thead th {\n",
       "        text-align: right;\n",
       "    }\n",
       "</style>\n",
       "<table border=\"1\" class=\"dataframe\">\n",
       "  <thead>\n",
       "    <tr style=\"text-align: right;\">\n",
       "      <th></th>\n",
       "      <th>first_name</th>\n",
       "      <th>last_name</th>\n",
       "      <th>age</th>\n",
       "      <th>preTestScore</th>\n",
       "      <th>postTestScore</th>\n",
       "      <th>date</th>\n",
       "    </tr>\n",
       "  </thead>\n",
       "  <tbody>\n",
       "    <tr>\n",
       "      <th>rank1</th>\n",
       "      <td>Bruce</td>\n",
       "      <td>Banner</td>\n",
       "      <td>38</td>\n",
       "      <td>4</td>\n",
       "      <td>25</td>\n",
       "      <td>2017.0</td>\n",
       "    </tr>\n",
       "    <tr>\n",
       "      <th>rank2</th>\n",
       "      <td>Tony</td>\n",
       "      <td>Stark</td>\n",
       "      <td>42</td>\n",
       "      <td>24</td>\n",
       "      <td>94</td>\n",
       "      <td>2018.0</td>\n",
       "    </tr>\n",
       "    <tr>\n",
       "      <th>rank3</th>\n",
       "      <td>Hal</td>\n",
       "      <td>Jordan</td>\n",
       "      <td>25</td>\n",
       "      <td>31</td>\n",
       "      <td>57</td>\n",
       "      <td>2017.0</td>\n",
       "    </tr>\n",
       "    <tr>\n",
       "      <th>rank4</th>\n",
       "      <td>Bruce</td>\n",
       "      <td>Wayne</td>\n",
       "      <td>32</td>\n",
       "      <td>2</td>\n",
       "      <td>62</td>\n",
       "      <td>NaN</td>\n",
       "    </tr>\n",
       "    <tr>\n",
       "      <th>rank5</th>\n",
       "      <td>Clark</td>\n",
       "      <td>Kent</td>\n",
       "      <td>28</td>\n",
       "      <td>3</td>\n",
       "      <td>70</td>\n",
       "      <td>2015.0</td>\n",
       "    </tr>\n",
       "    <tr>\n",
       "      <th>rank6</th>\n",
       "      <td>Clark</td>\n",
       "      <td>Clark</td>\n",
       "      <td>0</td>\n",
       "      <td>0</td>\n",
       "      <td>0</td>\n",
       "      <td>2019.0</td>\n",
       "    </tr>\n",
       "  </tbody>\n",
       "</table>\n",
       "</div>"
      ],
      "text/plain": [
       "      first_name last_name  age  preTestScore  postTestScore    date\n",
       "rank1      Bruce    Banner   38             4             25  2017.0\n",
       "rank2       Tony     Stark   42            24             94  2018.0\n",
       "rank3        Hal    Jordan   25            31             57  2017.0\n",
       "rank4      Bruce     Wayne   32             2             62     NaN\n",
       "rank5      Clark      Kent   28             3             70  2015.0\n",
       "rank6      Clark     Clark    0             0              0  2019.0"
      ]
     },
     "execution_count": 83,
     "metadata": {},
     "output_type": "execute_result"
    }
   ],
   "source": [
    "# adding a new column to an existing columns in DataFrame object\n",
    "\n",
    "date = [2017, 2018,2017,np.nan,2015,2019]\n",
    "df[\"date\"] = date\n",
    "print (\"New DataFrame after inserting the 'date' column\")\n",
    "df"
   ]
  },
  {
   "cell_type": "code",
   "execution_count": 84,
   "id": "1fd811bb-06da-4e5e-886a-da6af3f560e3",
   "metadata": {},
   "outputs": [
    {
     "data": {
      "text/html": [
       "<div>\n",
       "<style scoped>\n",
       "    .dataframe tbody tr th:only-of-type {\n",
       "        vertical-align: middle;\n",
       "    }\n",
       "\n",
       "    .dataframe tbody tr th {\n",
       "        vertical-align: top;\n",
       "    }\n",
       "\n",
       "    .dataframe thead th {\n",
       "        text-align: right;\n",
       "    }\n",
       "</style>\n",
       "<table border=\"1\" class=\"dataframe\">\n",
       "  <thead>\n",
       "    <tr style=\"text-align: right;\">\n",
       "      <th></th>\n",
       "      <th>first_name</th>\n",
       "      <th>last_name</th>\n",
       "      <th>age</th>\n",
       "      <th>preTestScore</th>\n",
       "      <th>postTestScore</th>\n",
       "      <th>date</th>\n",
       "    </tr>\n",
       "  </thead>\n",
       "  <tbody>\n",
       "    <tr>\n",
       "      <th>rank1</th>\n",
       "      <td>Bruce</td>\n",
       "      <td>Banner</td>\n",
       "      <td>38</td>\n",
       "      <td>4</td>\n",
       "      <td>25</td>\n",
       "      <td>2017.0</td>\n",
       "    </tr>\n",
       "    <tr>\n",
       "      <th>rank2</th>\n",
       "      <td>Tony</td>\n",
       "      <td>Stark</td>\n",
       "      <td>42</td>\n",
       "      <td>24</td>\n",
       "      <td>94</td>\n",
       "      <td>2018.0</td>\n",
       "    </tr>\n",
       "    <tr>\n",
       "      <th>rank3</th>\n",
       "      <td>Hal</td>\n",
       "      <td>Jordan</td>\n",
       "      <td>25</td>\n",
       "      <td>31</td>\n",
       "      <td>57</td>\n",
       "      <td>2017.0</td>\n",
       "    </tr>\n",
       "    <tr>\n",
       "      <th>rank4</th>\n",
       "      <td>Bruce</td>\n",
       "      <td>Wayne</td>\n",
       "      <td>32</td>\n",
       "      <td>2</td>\n",
       "      <td>62</td>\n",
       "      <td>NaN</td>\n",
       "    </tr>\n",
       "    <tr>\n",
       "      <th>rank5</th>\n",
       "      <td>Clark</td>\n",
       "      <td>Kent</td>\n",
       "      <td>28</td>\n",
       "      <td>3</td>\n",
       "      <td>70</td>\n",
       "      <td>2015.0</td>\n",
       "    </tr>\n",
       "    <tr>\n",
       "      <th>rank6</th>\n",
       "      <td>Clark</td>\n",
       "      <td>Clark</td>\n",
       "      <td>0</td>\n",
       "      <td>0</td>\n",
       "      <td>0</td>\n",
       "      <td>2020.0</td>\n",
       "    </tr>\n",
       "  </tbody>\n",
       "</table>\n",
       "</div>"
      ],
      "text/plain": [
       "      first_name last_name  age  preTestScore  postTestScore    date\n",
       "rank1      Bruce    Banner   38             4             25  2017.0\n",
       "rank2       Tony     Stark   42            24             94  2018.0\n",
       "rank3        Hal    Jordan   25            31             57  2017.0\n",
       "rank4      Bruce     Wayne   32             2             62     NaN\n",
       "rank5      Clark      Kent   28             3             70  2015.0\n",
       "rank6      Clark     Clark    0             0              0  2020.0"
      ]
     },
     "execution_count": 84,
     "metadata": {},
     "output_type": "execute_result"
    }
   ],
   "source": [
    "date = [2017, 2018,2017,np.nan,2015,2020]\n",
    "df[\"date\"] = date\n",
    "df"
   ]
  },
  {
   "cell_type": "code",
   "execution_count": 85,
   "id": "6d2c8b13-811f-417e-8944-1f21f1a6568c",
   "metadata": {},
   "outputs": [
    {
     "data": {
      "text/html": [
       "<div>\n",
       "<style scoped>\n",
       "    .dataframe tbody tr th:only-of-type {\n",
       "        vertical-align: middle;\n",
       "    }\n",
       "\n",
       "    .dataframe tbody tr th {\n",
       "        vertical-align: top;\n",
       "    }\n",
       "\n",
       "    .dataframe thead th {\n",
       "        text-align: right;\n",
       "    }\n",
       "</style>\n",
       "<table border=\"1\" class=\"dataframe\">\n",
       "  <thead>\n",
       "    <tr style=\"text-align: right;\">\n",
       "      <th></th>\n",
       "      <th>first_name</th>\n",
       "      <th>last_name</th>\n",
       "      <th>age</th>\n",
       "      <th>preTestScore</th>\n",
       "      <th>postTestScore</th>\n",
       "      <th>date</th>\n",
       "    </tr>\n",
       "  </thead>\n",
       "  <tbody>\n",
       "    <tr>\n",
       "      <th>rank1</th>\n",
       "      <td>Bruce</td>\n",
       "      <td>Banner</td>\n",
       "      <td>38</td>\n",
       "      <td>4</td>\n",
       "      <td>25</td>\n",
       "      <td>2017.0</td>\n",
       "    </tr>\n",
       "    <tr>\n",
       "      <th>rank2</th>\n",
       "      <td>Tony</td>\n",
       "      <td>Stark</td>\n",
       "      <td>42</td>\n",
       "      <td>24</td>\n",
       "      <td>94</td>\n",
       "      <td>2018.0</td>\n",
       "    </tr>\n",
       "    <tr>\n",
       "      <th>rank3</th>\n",
       "      <td>Hal</td>\n",
       "      <td>Jordan</td>\n",
       "      <td>25</td>\n",
       "      <td>31</td>\n",
       "      <td>57</td>\n",
       "      <td>2017.0</td>\n",
       "    </tr>\n",
       "    <tr>\n",
       "      <th>rank4</th>\n",
       "      <td>Bruce</td>\n",
       "      <td>Wayne</td>\n",
       "      <td>32</td>\n",
       "      <td>2</td>\n",
       "      <td>62</td>\n",
       "      <td>NaN</td>\n",
       "    </tr>\n",
       "    <tr>\n",
       "      <th>rank5</th>\n",
       "      <td>Clark</td>\n",
       "      <td>Kent</td>\n",
       "      <td>28</td>\n",
       "      <td>3</td>\n",
       "      <td>70</td>\n",
       "      <td>2015.0</td>\n",
       "    </tr>\n",
       "    <tr>\n",
       "      <th>rank6</th>\n",
       "      <td>Clark</td>\n",
       "      <td>Clark</td>\n",
       "      <td>0</td>\n",
       "      <td>0</td>\n",
       "      <td>0</td>\n",
       "      <td>2016.0</td>\n",
       "    </tr>\n",
       "  </tbody>\n",
       "</table>\n",
       "</div>"
      ],
      "text/plain": [
       "      first_name last_name  age  preTestScore  postTestScore    date\n",
       "rank1      Bruce    Banner   38             4             25  2017.0\n",
       "rank2       Tony     Stark   42            24             94  2018.0\n",
       "rank3        Hal    Jordan   25            31             57  2017.0\n",
       "rank4      Bruce     Wayne   32             2             62     NaN\n",
       "rank5      Clark      Kent   28             3             70  2015.0\n",
       "rank6      Clark     Clark    0             0              0  2016.0"
      ]
     },
     "execution_count": 85,
     "metadata": {},
     "output_type": "execute_result"
    }
   ],
   "source": [
    "date = [2017, 2018,2017,np.nan,2015,2016]\n",
    "df[\"date\"] = date\n",
    "df"
   ]
  },
  {
   "cell_type": "code",
   "execution_count": 86,
   "id": "a97a1a40-7a07-4c56-92df-d98feba7c9dc",
   "metadata": {},
   "outputs": [
    {
     "data": {
      "text/html": [
       "<div>\n",
       "<style scoped>\n",
       "    .dataframe tbody tr th:only-of-type {\n",
       "        vertical-align: middle;\n",
       "    }\n",
       "\n",
       "    .dataframe tbody tr th {\n",
       "        vertical-align: top;\n",
       "    }\n",
       "\n",
       "    .dataframe thead th {\n",
       "        text-align: right;\n",
       "    }\n",
       "</style>\n",
       "<table border=\"1\" class=\"dataframe\">\n",
       "  <thead>\n",
       "    <tr style=\"text-align: right;\">\n",
       "      <th></th>\n",
       "      <th>first_name</th>\n",
       "      <th>last_name</th>\n",
       "      <th>age</th>\n",
       "      <th>preTestScore</th>\n",
       "      <th>postTestScore</th>\n",
       "      <th>date</th>\n",
       "    </tr>\n",
       "  </thead>\n",
       "  <tbody>\n",
       "    <tr>\n",
       "      <th>rank1</th>\n",
       "      <td>Bruce</td>\n",
       "      <td>Banner</td>\n",
       "      <td>2017.0</td>\n",
       "      <td>4</td>\n",
       "      <td>25</td>\n",
       "      <td>2017.0</td>\n",
       "    </tr>\n",
       "    <tr>\n",
       "      <th>rank2</th>\n",
       "      <td>Tony</td>\n",
       "      <td>Stark</td>\n",
       "      <td>2018.0</td>\n",
       "      <td>24</td>\n",
       "      <td>94</td>\n",
       "      <td>2018.0</td>\n",
       "    </tr>\n",
       "    <tr>\n",
       "      <th>rank3</th>\n",
       "      <td>Hal</td>\n",
       "      <td>Jordan</td>\n",
       "      <td>2017.0</td>\n",
       "      <td>31</td>\n",
       "      <td>57</td>\n",
       "      <td>2017.0</td>\n",
       "    </tr>\n",
       "    <tr>\n",
       "      <th>rank4</th>\n",
       "      <td>Bruce</td>\n",
       "      <td>Wayne</td>\n",
       "      <td>NaN</td>\n",
       "      <td>2</td>\n",
       "      <td>62</td>\n",
       "      <td>NaN</td>\n",
       "    </tr>\n",
       "    <tr>\n",
       "      <th>rank5</th>\n",
       "      <td>Clark</td>\n",
       "      <td>Kent</td>\n",
       "      <td>2015.0</td>\n",
       "      <td>3</td>\n",
       "      <td>70</td>\n",
       "      <td>2015.0</td>\n",
       "    </tr>\n",
       "    <tr>\n",
       "      <th>rank6</th>\n",
       "      <td>Clark</td>\n",
       "      <td>Clark</td>\n",
       "      <td>2016.0</td>\n",
       "      <td>0</td>\n",
       "      <td>0</td>\n",
       "      <td>2016.0</td>\n",
       "    </tr>\n",
       "  </tbody>\n",
       "</table>\n",
       "</div>"
      ],
      "text/plain": [
       "      first_name last_name     age  preTestScore  postTestScore    date\n",
       "rank1      Bruce    Banner  2017.0             4             25  2017.0\n",
       "rank2       Tony     Stark  2018.0            24             94  2018.0\n",
       "rank3        Hal    Jordan  2017.0            31             57  2017.0\n",
       "rank4      Bruce     Wayne     NaN             2             62     NaN\n",
       "rank5      Clark      Kent  2015.0             3             70  2015.0\n",
       "rank6      Clark     Clark  2016.0             0              0  2016.0"
      ]
     },
     "execution_count": 86,
     "metadata": {},
     "output_type": "execute_result"
    }
   ],
   "source": [
    "date = [2017, 2018,2017,np.nan,2015,2016]\n",
    "df[\"age\"] = date\n",
    "df"
   ]
  },
  {
   "cell_type": "code",
   "execution_count": 87,
   "id": "fdd82363-f60a-437c-a5e2-7d59c25c4966",
   "metadata": {},
   "outputs": [
    {
     "name": "stdout",
     "output_type": "stream",
     "text": [
      "   first  second\n",
      "a    1.0       1\n",
      "b    2.0       2\n",
      "c    3.0       3\n",
      "d    NaN       4\n",
      "New DataFrame after inserting the 'third' column\n",
      "   first  second  third\n",
      "a    1.0       1    100\n",
      "b    2.0       2    200\n",
      "c    3.0       3    300\n",
      "d    NaN       4    400\n",
      "   first  second  third  fourth\n",
      "a    1.0       1    100   100.0\n",
      "b    2.0       2    200   200.0\n",
      "c    3.0       3    300   300.0\n",
      "d    NaN       4    400     NaN\n",
      "   first  second  third  fourth  fifth\n",
      "a    1.0       1    100   100.0    NaN\n",
      "b    2.0       2    200   200.0    NaN\n",
      "c    3.0       3    300   300.0    NaN\n",
      "d    NaN       4    400     NaN  500.0\n"
     ]
    }
   ],
   "source": [
    "Data = {'first' : pd.Series([1, 2, 3], index=['a', 'b', 'c']),\n",
    "      'second' : pd.Series([1, 2, 3, 4], index=['a', 'b', 'c', 'd'])}\n",
    "\n",
    "df2 = pd.DataFrame(Data)\n",
    "print (df2)\n",
    "\n",
    "# adding a new column to an existing columns in DataFrame object\n",
    "\n",
    "df2 ['third'] = pd.Series([100,200,300,400], index = ['a','b','c','d'])\n",
    "\n",
    "print (\"New DataFrame after inserting the 'third' column\")\n",
    "\n",
    "print (df2)\n",
    "\n",
    "df2 ['fourth'] = pd.Series([100,200,300], index = ['a','b','c'])\n",
    "\n",
    "print (df2)\n",
    "\n",
    "df2['fifth'] = pd.Series([500], index = ['d'])\n",
    "\n",
    "print (df2)"
   ]
  },
  {
   "cell_type": "markdown",
   "id": "61445598-4cb0-4b8c-b3db-3867339a32d5",
   "metadata": {},
   "source": [
    "### Retrieving Columns and Rows as Series"
   ]
  },
  {
   "cell_type": "code",
   "execution_count": 89,
   "id": "8a7a4c16-eddd-466c-8617-420cdea75030",
   "metadata": {},
   "outputs": [
    {
     "data": {
      "text/html": [
       "<div>\n",
       "<style scoped>\n",
       "    .dataframe tbody tr th:only-of-type {\n",
       "        vertical-align: middle;\n",
       "    }\n",
       "\n",
       "    .dataframe tbody tr th {\n",
       "        vertical-align: top;\n",
       "    }\n",
       "\n",
       "    .dataframe thead th {\n",
       "        text-align: right;\n",
       "    }\n",
       "</style>\n",
       "<table border=\"1\" class=\"dataframe\">\n",
       "  <thead>\n",
       "    <tr style=\"text-align: right;\">\n",
       "      <th></th>\n",
       "      <th>first_name</th>\n",
       "      <th>last_name</th>\n",
       "      <th>age</th>\n",
       "      <th>preTestScore</th>\n",
       "      <th>postTestScore</th>\n",
       "    </tr>\n",
       "  </thead>\n",
       "  <tbody>\n",
       "    <tr>\n",
       "      <th>rank1</th>\n",
       "      <td>Bruce</td>\n",
       "      <td>Banner</td>\n",
       "      <td>38</td>\n",
       "      <td>4</td>\n",
       "      <td>25</td>\n",
       "    </tr>\n",
       "    <tr>\n",
       "      <th>rank2</th>\n",
       "      <td>Tony</td>\n",
       "      <td>Stark</td>\n",
       "      <td>42</td>\n",
       "      <td>24</td>\n",
       "      <td>94</td>\n",
       "    </tr>\n",
       "    <tr>\n",
       "      <th>rank3</th>\n",
       "      <td>Hal</td>\n",
       "      <td>Jordan</td>\n",
       "      <td>25</td>\n",
       "      <td>31</td>\n",
       "      <td>57</td>\n",
       "    </tr>\n",
       "    <tr>\n",
       "      <th>rank4</th>\n",
       "      <td>Bruce</td>\n",
       "      <td>Wayne</td>\n",
       "      <td>32</td>\n",
       "      <td>2</td>\n",
       "      <td>62</td>\n",
       "    </tr>\n",
       "    <tr>\n",
       "      <th>rank5</th>\n",
       "      <td>Clark</td>\n",
       "      <td>Kent</td>\n",
       "      <td>28</td>\n",
       "      <td>3</td>\n",
       "      <td>70</td>\n",
       "    </tr>\n",
       "  </tbody>\n",
       "</table>\n",
       "</div>"
      ],
      "text/plain": [
       "      first_name last_name  age  preTestScore  postTestScore\n",
       "rank1      Bruce    Banner   38             4             25\n",
       "rank2       Tony     Stark   42            24             94\n",
       "rank3        Hal    Jordan   25            31             57\n",
       "rank4      Bruce     Wayne   32             2             62\n",
       "rank5      Clark      Kent   28             3             70"
      ]
     },
     "execution_count": 89,
     "metadata": {},
     "output_type": "execute_result"
    }
   ],
   "source": [
    "raw_data = {'first_name': ['Bruce','Tony','Hal','Bruce','Clark'], 'last_name': ['Banner','Stark','Jordan','Wayne','Kent'], \n",
    "           'age': [38,42,25,32,28], 'preTestScore': [4,24,31,2,3], 'postTestScore': [25,94,57,62,70]}\n",
    "df = pd.DataFrame (raw_data , index = ['rank1','rank2','rank3','rank4','rank5'])\n",
    "df"
   ]
  },
  {
   "cell_type": "code",
   "execution_count": 90,
   "id": "6e80ba75-1da0-4586-8df8-5ba4f49ae886",
   "metadata": {},
   "outputs": [
    {
     "data": {
      "text/plain": [
       "rank1    Banner\n",
       "rank2     Stark\n",
       "rank3    Jordan\n",
       "rank4     Wayne\n",
       "rank5      Kent\n",
       "Name: last_name, dtype: object"
      ]
     },
     "execution_count": 90,
     "metadata": {},
     "output_type": "execute_result"
    }
   ],
   "source": [
    "df[\"last_name\"]"
   ]
  },
  {
   "cell_type": "code",
   "execution_count": 91,
   "id": "81e9cf18-250b-486b-9fe8-fd0df28ddce7",
   "metadata": {},
   "outputs": [
    {
     "data": {
      "text/plain": [
       "first_name       Clark\n",
       "last_name         Kent\n",
       "age                 28\n",
       "preTestScore         3\n",
       "postTestScore       70\n",
       "Name: rank5, dtype: object"
      ]
     },
     "execution_count": 91,
     "metadata": {},
     "output_type": "execute_result"
    }
   ],
   "source": [
    "df.loc[\"rank5\"]"
   ]
  },
  {
   "cell_type": "markdown",
   "id": "3412d758-65d1-40c5-bc98-e2ff6e34345d",
   "metadata": {},
   "source": [
    "### Column and Row Deletion"
   ]
  },
  {
   "cell_type": "code",
   "execution_count": 93,
   "id": "3b6fc8e4-153d-4cf2-8a87-3cc86dbd338d",
   "metadata": {},
   "outputs": [
    {
     "data": {
      "text/html": [
       "<div>\n",
       "<style scoped>\n",
       "    .dataframe tbody tr th:only-of-type {\n",
       "        vertical-align: middle;\n",
       "    }\n",
       "\n",
       "    .dataframe tbody tr th {\n",
       "        vertical-align: top;\n",
       "    }\n",
       "\n",
       "    .dataframe thead th {\n",
       "        text-align: right;\n",
       "    }\n",
       "</style>\n",
       "<table border=\"1\" class=\"dataframe\">\n",
       "  <thead>\n",
       "    <tr style=\"text-align: right;\">\n",
       "      <th></th>\n",
       "      <th>first_name</th>\n",
       "      <th>last_name</th>\n",
       "      <th>age</th>\n",
       "      <th>preTestScore</th>\n",
       "      <th>postTestScore</th>\n",
       "    </tr>\n",
       "  </thead>\n",
       "  <tbody>\n",
       "    <tr>\n",
       "      <th>0</th>\n",
       "      <td>Bruce</td>\n",
       "      <td>Banner</td>\n",
       "      <td>38</td>\n",
       "      <td>4</td>\n",
       "      <td>25</td>\n",
       "    </tr>\n",
       "    <tr>\n",
       "      <th>1</th>\n",
       "      <td>Tony</td>\n",
       "      <td>Stark</td>\n",
       "      <td>42</td>\n",
       "      <td>24</td>\n",
       "      <td>94</td>\n",
       "    </tr>\n",
       "    <tr>\n",
       "      <th>2</th>\n",
       "      <td>Hal</td>\n",
       "      <td>Jordan</td>\n",
       "      <td>25</td>\n",
       "      <td>31</td>\n",
       "      <td>57</td>\n",
       "    </tr>\n",
       "    <tr>\n",
       "      <th>3</th>\n",
       "      <td>Bruce</td>\n",
       "      <td>Wayne</td>\n",
       "      <td>32</td>\n",
       "      <td>2</td>\n",
       "      <td>62</td>\n",
       "    </tr>\n",
       "    <tr>\n",
       "      <th>4</th>\n",
       "      <td>Clark</td>\n",
       "      <td>Kent</td>\n",
       "      <td>28</td>\n",
       "      <td>3</td>\n",
       "      <td>70</td>\n",
       "    </tr>\n",
       "  </tbody>\n",
       "</table>\n",
       "</div>"
      ],
      "text/plain": [
       "  first_name last_name  age  preTestScore  postTestScore\n",
       "0      Bruce    Banner   38             4             25\n",
       "1       Tony     Stark   42            24             94\n",
       "2        Hal    Jordan   25            31             57\n",
       "3      Bruce     Wayne   32             2             62\n",
       "4      Clark      Kent   28             3             70"
      ]
     },
     "execution_count": 93,
     "metadata": {},
     "output_type": "execute_result"
    }
   ],
   "source": [
    "raw_data = {'first_name': ['Bruce','Tony','Hal','Bruce','Clark'], 'last_name': ['Banner','Stark','Jordan','Wayne','Kent'], \n",
    "           'age': [38,42,25,32,28], 'preTestScore': [4,24,31,2,3], 'postTestScore': [25,94,57,62,70]}\n",
    "df = pd.DataFrame(raw_data)\n",
    "df"
   ]
  },
  {
   "cell_type": "code",
   "execution_count": 94,
   "id": "cfc1eb46-0eda-4f8e-82ed-3dd9c0a375f8",
   "metadata": {},
   "outputs": [
    {
     "data": {
      "text/html": [
       "<div>\n",
       "<style scoped>\n",
       "    .dataframe tbody tr th:only-of-type {\n",
       "        vertical-align: middle;\n",
       "    }\n",
       "\n",
       "    .dataframe tbody tr th {\n",
       "        vertical-align: top;\n",
       "    }\n",
       "\n",
       "    .dataframe thead th {\n",
       "        text-align: right;\n",
       "    }\n",
       "</style>\n",
       "<table border=\"1\" class=\"dataframe\">\n",
       "  <thead>\n",
       "    <tr style=\"text-align: right;\">\n",
       "      <th></th>\n",
       "      <th>first_name</th>\n",
       "      <th>last_name</th>\n",
       "      <th>age</th>\n",
       "      <th>postTestScore</th>\n",
       "    </tr>\n",
       "  </thead>\n",
       "  <tbody>\n",
       "    <tr>\n",
       "      <th>0</th>\n",
       "      <td>Bruce</td>\n",
       "      <td>Banner</td>\n",
       "      <td>38</td>\n",
       "      <td>25</td>\n",
       "    </tr>\n",
       "    <tr>\n",
       "      <th>1</th>\n",
       "      <td>Tony</td>\n",
       "      <td>Stark</td>\n",
       "      <td>42</td>\n",
       "      <td>94</td>\n",
       "    </tr>\n",
       "    <tr>\n",
       "      <th>2</th>\n",
       "      <td>Hal</td>\n",
       "      <td>Jordan</td>\n",
       "      <td>25</td>\n",
       "      <td>57</td>\n",
       "    </tr>\n",
       "    <tr>\n",
       "      <th>3</th>\n",
       "      <td>Bruce</td>\n",
       "      <td>Wayne</td>\n",
       "      <td>32</td>\n",
       "      <td>62</td>\n",
       "    </tr>\n",
       "    <tr>\n",
       "      <th>4</th>\n",
       "      <td>Clark</td>\n",
       "      <td>Kent</td>\n",
       "      <td>28</td>\n",
       "      <td>70</td>\n",
       "    </tr>\n",
       "  </tbody>\n",
       "</table>\n",
       "</div>"
      ],
      "text/plain": [
       "  first_name last_name  age  postTestScore\n",
       "0      Bruce    Banner   38             25\n",
       "1       Tony     Stark   42             94\n",
       "2        Hal    Jordan   25             57\n",
       "3      Bruce     Wayne   32             62\n",
       "4      Clark      Kent   28             70"
      ]
     },
     "execution_count": 94,
     "metadata": {},
     "output_type": "execute_result"
    }
   ],
   "source": [
    "df.drop('preTestScore', axis = 1)             # drop column \"preTestScore\", the argument axis=1 denotes column"
   ]
  },
  {
   "cell_type": "code",
   "execution_count": 95,
   "id": "a47e9cc0-96b4-45ef-b112-c40085bc8d71",
   "metadata": {},
   "outputs": [
    {
     "data": {
      "text/html": [
       "<div>\n",
       "<style scoped>\n",
       "    .dataframe tbody tr th:only-of-type {\n",
       "        vertical-align: middle;\n",
       "    }\n",
       "\n",
       "    .dataframe tbody tr th {\n",
       "        vertical-align: top;\n",
       "    }\n",
       "\n",
       "    .dataframe thead th {\n",
       "        text-align: right;\n",
       "    }\n",
       "</style>\n",
       "<table border=\"1\" class=\"dataframe\">\n",
       "  <thead>\n",
       "    <tr style=\"text-align: right;\">\n",
       "      <th></th>\n",
       "      <th>first_name</th>\n",
       "      <th>last_name</th>\n",
       "      <th>age</th>\n",
       "      <th>preTestScore</th>\n",
       "      <th>postTestScore</th>\n",
       "    </tr>\n",
       "  </thead>\n",
       "  <tbody>\n",
       "    <tr>\n",
       "      <th>0</th>\n",
       "      <td>Bruce</td>\n",
       "      <td>Banner</td>\n",
       "      <td>38</td>\n",
       "      <td>4</td>\n",
       "      <td>25</td>\n",
       "    </tr>\n",
       "    <tr>\n",
       "      <th>1</th>\n",
       "      <td>Tony</td>\n",
       "      <td>Stark</td>\n",
       "      <td>42</td>\n",
       "      <td>24</td>\n",
       "      <td>94</td>\n",
       "    </tr>\n",
       "    <tr>\n",
       "      <th>2</th>\n",
       "      <td>Hal</td>\n",
       "      <td>Jordan</td>\n",
       "      <td>25</td>\n",
       "      <td>31</td>\n",
       "      <td>57</td>\n",
       "    </tr>\n",
       "    <tr>\n",
       "      <th>3</th>\n",
       "      <td>Bruce</td>\n",
       "      <td>Wayne</td>\n",
       "      <td>32</td>\n",
       "      <td>2</td>\n",
       "      <td>62</td>\n",
       "    </tr>\n",
       "  </tbody>\n",
       "</table>\n",
       "</div>"
      ],
      "text/plain": [
       "  first_name last_name  age  preTestScore  postTestScore\n",
       "0      Bruce    Banner   38             4             25\n",
       "1       Tony     Stark   42            24             94\n",
       "2        Hal    Jordan   25            31             57\n",
       "3      Bruce     Wayne   32             2             62"
      ]
     },
     "execution_count": 95,
     "metadata": {},
     "output_type": "execute_result"
    }
   ],
   "source": [
    "df.drop(4)                                   # drop row 4, axis=0 denotes row (default)"
   ]
  },
  {
   "cell_type": "code",
   "execution_count": 96,
   "id": "933542c4-6aab-4482-b0b1-bbc6f21a2ed7",
   "metadata": {},
   "outputs": [
    {
     "data": {
      "text/html": [
       "<div>\n",
       "<style scoped>\n",
       "    .dataframe tbody tr th:only-of-type {\n",
       "        vertical-align: middle;\n",
       "    }\n",
       "\n",
       "    .dataframe tbody tr th {\n",
       "        vertical-align: top;\n",
       "    }\n",
       "\n",
       "    .dataframe thead th {\n",
       "        text-align: right;\n",
       "    }\n",
       "</style>\n",
       "<table border=\"1\" class=\"dataframe\">\n",
       "  <thead>\n",
       "    <tr style=\"text-align: right;\">\n",
       "      <th></th>\n",
       "      <th>second</th>\n",
       "    </tr>\n",
       "  </thead>\n",
       "  <tbody>\n",
       "    <tr>\n",
       "      <th>a</th>\n",
       "      <td>1</td>\n",
       "    </tr>\n",
       "    <tr>\n",
       "      <th>b</th>\n",
       "      <td>2</td>\n",
       "    </tr>\n",
       "    <tr>\n",
       "      <th>c</th>\n",
       "      <td>3</td>\n",
       "    </tr>\n",
       "    <tr>\n",
       "      <th>d</th>\n",
       "      <td>4</td>\n",
       "    </tr>\n",
       "  </tbody>\n",
       "</table>\n",
       "</div>"
      ],
      "text/plain": [
       "   second\n",
       "a       1\n",
       "b       2\n",
       "c       3\n",
       "d       4"
      ]
     },
     "execution_count": 96,
     "metadata": {},
     "output_type": "execute_result"
    }
   ],
   "source": [
    "# This example shows we can use del function for dropping a column in DataFrame\n",
    "\n",
    "Data = {'first' : pd.Series([1, 2, 3], index=['a', 'b', 'c']),\n",
    "      'second' : pd.Series([1, 2, 3, 4], index=['a', 'b', 'c', 'd'])}\n",
    "\n",
    "df = pd.DataFrame(Data)\n",
    "\n",
    "# using del function\n",
    "\n",
    "del df['first']\n",
    "df"
   ]
  },
  {
   "cell_type": "markdown",
   "id": "5db4f6f7-131e-415b-b961-2c78ed62bfd0",
   "metadata": {},
   "source": [
    "## Basic Functionality in DataFrame"
   ]
  },
  {
   "cell_type": "markdown",
   "id": "0d3e0d37-243f-42d4-93bd-964798ea9868",
   "metadata": {},
   "source": [
    "```T``` Transposes rows and columns.\n",
    "\n",
    "```axes``` Returns a list of the row and column axis labels.\n",
    "\n",
    "```dtype``` Returns the dtype of the object.\n",
    "\n",
    "```empty``` Returns True if NDFrame is empty.\n",
    "\n",
    "```ndim```  Returns the number of axes / array dimensions.\n",
    "\n",
    "```size``` Returns the number of elements in the underlying data.\n",
    "\n",
    "```values``` Returns the NDFrame.\n",
    "\n",
    "```head()``` Returns the first n rows.\n",
    "\n",
    "```tail()``` Returns the last n rows.\n",
    "\n",
    "\n",
    "\n",
    "(Reference :www.tutorialspoint.com/python_pandas)"
   ]
  },
  {
   "cell_type": "code",
   "execution_count": 99,
   "id": "1672c792-61da-4995-837a-67ad3492d7d7",
   "metadata": {},
   "outputs": [
    {
     "name": "stdout",
     "output_type": "stream",
     "text": [
      "  first_name last_name  age  preTestScore  postTestScore\n",
      "0      Bruce      Borg   38             4             25\n",
      "1       Tony    Fenech   42            24             94\n",
      "2        Hal      9000   25            31             57\n",
      "3      Bruce    Willis   32             2             62\n",
      "4      Clark      Kent   28             3             70\n",
      "\n",
      "\n",
      "The transpose of the data series is: \n",
      "                   0       1     2       3      4\n",
      "first_name     Bruce    Tony   Hal   Bruce  Clark\n",
      "last_name       Borg  Fenech  9000  Willis   Kent\n",
      "age               38      42    25      32     28\n",
      "preTestScore       4      24    31       2      3\n",
      "postTestScore     25      94    57      62     70\n",
      "\n",
      "\n",
      "The row and column axis labels are: \n",
      "[RangeIndex(start=0, stop=5, step=1), Index(['first_name', 'last_name', 'age', 'preTestScore', 'postTestScore'], dtype='object')]\n",
      "\n",
      "\n",
      "The data types of each column are: \n",
      "first_name       object\n",
      "last_name        object\n",
      "age               int64\n",
      "preTestScore      int64\n",
      "postTestScore     int64\n",
      "dtype: object\n",
      "\n",
      "\n",
      "The dimension is: \n",
      "2\n",
      "\n",
      "\n",
      "The shape is: \n",
      "(5, 5)\n",
      "\n",
      "\n",
      "The total number of elements is: \n",
      "25\n"
     ]
    }
   ],
   "source": [
    "raw_data = {'first_name': ['Bruce','Tony','Hal','Bruce','Clark'], 'last_name': ['Borg','Fenech','9000','Willis','Kent'], \n",
    "           'age': [38,42,25,32,28], 'preTestScore': [4,24,31,2,3], 'postTestScore': [25,94,57,62,70]}\n",
    "df = pd.DataFrame (raw_data)\n",
    "\n",
    "print (df)\n",
    "print (\"\\n\")\n",
    "\n",
    "# Transpose\n",
    "\n",
    "print (\"The transpose of the data series is: \")\n",
    "print (df.T)\n",
    "print (\"\\n\")\n",
    "\n",
    "# Axes\n",
    "\n",
    "print (\"The row and column axis labels are: \")\n",
    "print (df.axes)\n",
    "print (\"\\n\")\n",
    "\n",
    "# dtypes\n",
    "\n",
    "print (\"The data types of each column are: \")\n",
    "print (df.dtypes)\n",
    "print (\"\\n\")\n",
    "\n",
    "# ndim\n",
    "\n",
    "print (\"The dimension is: \")\n",
    "print (df.ndim)\n",
    "print (\"\\n\")\n",
    "\n",
    "# shape\n",
    "\n",
    "print (\"The shape is: \")\n",
    "print (df.shape)\n",
    "print (\"\\n\")\n",
    "\n",
    "# size\n",
    "\n",
    "print (\"The total number of elements is: \")\n",
    "print (df.size)"
   ]
  },
  {
   "cell_type": "markdown",
   "id": "b91cc85e-6eba-4c48-ad19-b1ab9afdf828",
   "metadata": {},
   "source": [
    "## Interacting with data contained in Series and DataFrame\n",
    "\n",
    "On this notebook we introduce the fundamental mechanisms to interact with data contained in <code>Series</code> and  <code>DataFrame</code>, including:\n",
    "- <code>.reindex</code>\n",
    "- <code>.iloc</code> and <code>.loc</code>\n",
    "- Arithmetic operators and data alignment: <code>add()</code>, <code>sub()</code>, <code>mul()</code> and <code>div()</code>."
   ]
  },
  {
   "cell_type": "code",
   "execution_count": 101,
   "id": "b235271b-b20e-4947-ac25-7024f59b60e6",
   "metadata": {},
   "outputs": [],
   "source": [
    "import numpy as np\n",
    "import pandas as pd"
   ]
  },
  {
   "cell_type": "markdown",
   "id": "07888189-9cf6-4b0d-9643-fbe60dca3db6",
   "metadata": {},
   "source": [
    "The ```reindex``` method is used for changing the order of the rows and columns in a ```Series``` or a ```DataFrame```. \n",
    "- Primary argument is \"new index\" to provide a new index for a Series, or a new \"row index\" for a dataframe. \n",
    "- For dataframe, it also takes the argument <code>column='new column index'</code> to reorganize columns.\n",
    "- Secondary arguments include <code>fill_value=</code>, <code>method='ffill'</code>, <code>method='bfill'</code>, used to fill missing data with a set value, the value from previous row, or value from next row with data respectively\n",
    "- For a full description of the method use <code>pd.reindex?</code>, which returns all possible params.\n",
    "\n",
    "__Note:__ <code>reindex</code> does not change the original <code>Series</code> or <code>DataFrame</code> at all. It just produces a _new object_ (a copy) with the desired reorganized rows/columns"
   ]
  },
  {
   "cell_type": "markdown",
   "id": "130903a6-09e4-4f83-aaab-0ebc2c0f08ec",
   "metadata": {},
   "source": [
    "### Reindexing Series"
   ]
  },
  {
   "cell_type": "code",
   "execution_count": 104,
   "id": "c9a10b62-2be7-4b7e-8c01-4aec88149d05",
   "metadata": {},
   "outputs": [
    {
     "data": {
      "text/plain": [
       "15      blue\n",
       "3        red\n",
       "0     orange\n",
       "6     yellow\n",
       "10     black\n",
       "dtype: object"
      ]
     },
     "execution_count": 104,
     "metadata": {},
     "output_type": "execute_result"
    }
   ],
   "source": [
    "# creating a series with arbitraty index\n",
    "SeriesPixels = pd.Series(['blue','red','orange','yellow','black'], index=[15,3,0,6,10])\n",
    "SeriesPixels"
   ]
  },
  {
   "cell_type": "code",
   "execution_count": 105,
   "id": "4c59441c-6b7d-4965-b1dd-ff6086d5242c",
   "metadata": {},
   "outputs": [],
   "source": [
    "# using reindex method to reorganize the data so the index is in ascending order\n",
    "SeriesPixels2=SeriesPixels.reindex([0,3,6,10,15])"
   ]
  },
  {
   "cell_type": "code",
   "execution_count": 106,
   "id": "cf5e8c87-2743-4efa-8fa8-874ef1f14bf0",
   "metadata": {
    "scrolled": true
   },
   "outputs": [
    {
     "name": "stdout",
     "output_type": "stream",
     "text": [
      "range(0, 15)\n"
     ]
    },
    {
     "data": {
      "text/plain": [
       "0     orange\n",
       "1        NaN\n",
       "2        NaN\n",
       "3        red\n",
       "4        NaN\n",
       "5        NaN\n",
       "6     yellow\n",
       "7        NaN\n",
       "8        NaN\n",
       "9        NaN\n",
       "10     black\n",
       "11       NaN\n",
       "12       NaN\n",
       "13       NaN\n",
       "14       NaN\n",
       "15      blue\n",
       "16       NaN\n",
       "17       NaN\n",
       "dtype: object"
      ]
     },
     "execution_count": 106,
     "metadata": {},
     "output_type": "execute_result"
    }
   ],
   "source": [
    "print(range(15)) # using range to generate an array of integers from 0 to 17\n",
    "\n",
    "# using reindex to create a dataset with all rows present from 0 to 17, note that NaN are added by reindex\n",
    "SeriesPixels2.reindex(range(18))"
   ]
  },
  {
   "cell_type": "code",
   "execution_count": 107,
   "id": "c0d0d1b8-15d0-401e-809c-c183d2e8af51",
   "metadata": {
    "scrolled": true
   },
   "outputs": [
    {
     "data": {
      "text/plain": [
       "0     orange\n",
       "1      white\n",
       "2      white\n",
       "3        red\n",
       "4      white\n",
       "5      white\n",
       "6     yellow\n",
       "7      white\n",
       "8      white\n",
       "9      white\n",
       "10     black\n",
       "11     white\n",
       "12     white\n",
       "13     white\n",
       "14     white\n",
       "dtype: object"
      ]
     },
     "execution_count": 107,
     "metadata": {},
     "output_type": "execute_result"
    }
   ],
   "source": [
    "# reindex can \"fill\" missing data with any value using \"fill_value=\"\n",
    "SeriesPixels2.reindex(range(15), fill_value=\"white\")"
   ]
  },
  {
   "cell_type": "code",
   "execution_count": 108,
   "id": "cdfb997f-8f36-41c7-8f3a-c21d333d52fb",
   "metadata": {},
   "outputs": [
    {
     "data": {
      "text/plain": [
       "0     orange\n",
       "1     orange\n",
       "2     orange\n",
       "3        red\n",
       "4        red\n",
       "5        red\n",
       "6     yellow\n",
       "7     yellow\n",
       "8     yellow\n",
       "9     yellow\n",
       "10     black\n",
       "11     black\n",
       "12     black\n",
       "13     black\n",
       "14     black\n",
       "dtype: object"
      ]
     },
     "execution_count": 108,
     "metadata": {},
     "output_type": "execute_result"
    }
   ],
   "source": [
    "# reindex can also \"pad\" (carry values forward) or \"backfill\" (carry values backward)\n",
    "SeriesPixels2.reindex(range(15), method='ffill')"
   ]
  },
  {
   "cell_type": "markdown",
   "id": "60799bb1-420c-4f58-aa59-68d013baecc4",
   "metadata": {},
   "source": [
    "### Reindexing a DataFrame"
   ]
  },
  {
   "cell_type": "code",
   "execution_count": 110,
   "id": "aece04ae-61e3-45dc-836a-3fa73d3c62d3",
   "metadata": {},
   "outputs": [
    {
     "data": {
      "text/html": [
       "<div>\n",
       "<style scoped>\n",
       "    .dataframe tbody tr th:only-of-type {\n",
       "        vertical-align: middle;\n",
       "    }\n",
       "\n",
       "    .dataframe tbody tr th {\n",
       "        vertical-align: top;\n",
       "    }\n",
       "\n",
       "    .dataframe thead th {\n",
       "        text-align: right;\n",
       "    }\n",
       "</style>\n",
       "<table border=\"1\" class=\"dataframe\">\n",
       "  <thead>\n",
       "    <tr style=\"text-align: right;\">\n",
       "      <th></th>\n",
       "      <th>first_name</th>\n",
       "      <th>last_name</th>\n",
       "      <th>age</th>\n",
       "      <th>preTestScore</th>\n",
       "      <th>postTestScore</th>\n",
       "    </tr>\n",
       "  </thead>\n",
       "  <tbody>\n",
       "    <tr>\n",
       "      <th>e</th>\n",
       "      <td>Joe</td>\n",
       "      <td>Borg</td>\n",
       "      <td>42</td>\n",
       "      <td>4</td>\n",
       "      <td>25</td>\n",
       "    </tr>\n",
       "    <tr>\n",
       "      <th>a</th>\n",
       "      <td>Miriam</td>\n",
       "      <td>Caruana</td>\n",
       "      <td>52</td>\n",
       "      <td>24</td>\n",
       "      <td>94</td>\n",
       "    </tr>\n",
       "    <tr>\n",
       "      <th>b</th>\n",
       "      <td>Tina</td>\n",
       "      <td>Fenech</td>\n",
       "      <td>36</td>\n",
       "      <td>31</td>\n",
       "      <td>57</td>\n",
       "    </tr>\n",
       "    <tr>\n",
       "      <th>d</th>\n",
       "      <td>Jake</td>\n",
       "      <td>Sultana</td>\n",
       "      <td>24</td>\n",
       "      <td>2</td>\n",
       "      <td>62</td>\n",
       "    </tr>\n",
       "    <tr>\n",
       "      <th>f</th>\n",
       "      <td>Amy</td>\n",
       "      <td>Scerri</td>\n",
       "      <td>73</td>\n",
       "      <td>3</td>\n",
       "      <td>70</td>\n",
       "    </tr>\n",
       "  </tbody>\n",
       "</table>\n",
       "</div>"
      ],
      "text/plain": [
       "  first_name last_name  age  preTestScore  postTestScore\n",
       "e        Joe      Borg   42             4             25\n",
       "a     Miriam   Caruana   52            24             94\n",
       "b       Tina    Fenech   36            31             57\n",
       "d       Jake   Sultana   24             2             62\n",
       "f        Amy    Scerri   73             3             70"
      ]
     },
     "execution_count": 110,
     "metadata": {},
     "output_type": "execute_result"
    }
   ],
   "source": [
    "# Create DataFrame with arbitrary index\n",
    "\n",
    "raw_data = {'first_name': ['Joe','Miriam','Tina','Jake','Amy'], 'last_name': ['Borg','Caruana','Fenech','Sultana','Scerri'], \n",
    "         'age': [42,52,36,24,73], 'preTestScore': [4,24,31,2,3], 'postTestScore': [25,94,57,62,70]}\n",
    "\n",
    "df = pd.DataFrame(raw_data, index=['e','a','b','d','f'])\n",
    "df"
   ]
  },
  {
   "cell_type": "code",
   "execution_count": 111,
   "id": "7fdad810-3fd3-411e-b97e-71df323ae332",
   "metadata": {},
   "outputs": [
    {
     "data": {
      "text/html": [
       "<div>\n",
       "<style scoped>\n",
       "    .dataframe tbody tr th:only-of-type {\n",
       "        vertical-align: middle;\n",
       "    }\n",
       "\n",
       "    .dataframe tbody tr th {\n",
       "        vertical-align: top;\n",
       "    }\n",
       "\n",
       "    .dataframe thead th {\n",
       "        text-align: right;\n",
       "    }\n",
       "</style>\n",
       "<table border=\"1\" class=\"dataframe\">\n",
       "  <thead>\n",
       "    <tr style=\"text-align: right;\">\n",
       "      <th></th>\n",
       "      <th>first_name</th>\n",
       "      <th>last_name</th>\n",
       "      <th>age</th>\n",
       "      <th>preTestScore</th>\n",
       "      <th>postTestScore</th>\n",
       "    </tr>\n",
       "  </thead>\n",
       "  <tbody>\n",
       "    <tr>\n",
       "      <th>a</th>\n",
       "      <td>Miriam</td>\n",
       "      <td>Caruana</td>\n",
       "      <td>52</td>\n",
       "      <td>24</td>\n",
       "      <td>94</td>\n",
       "    </tr>\n",
       "    <tr>\n",
       "      <th>b</th>\n",
       "      <td>Tina</td>\n",
       "      <td>Fenech</td>\n",
       "      <td>36</td>\n",
       "      <td>31</td>\n",
       "      <td>57</td>\n",
       "    </tr>\n",
       "    <tr>\n",
       "      <th>d</th>\n",
       "      <td>Jake</td>\n",
       "      <td>Sultana</td>\n",
       "      <td>24</td>\n",
       "      <td>2</td>\n",
       "      <td>62</td>\n",
       "    </tr>\n",
       "    <tr>\n",
       "      <th>e</th>\n",
       "      <td>Joe</td>\n",
       "      <td>Borg</td>\n",
       "      <td>42</td>\n",
       "      <td>4</td>\n",
       "      <td>25</td>\n",
       "    </tr>\n",
       "    <tr>\n",
       "      <th>f</th>\n",
       "      <td>Amy</td>\n",
       "      <td>Scerri</td>\n",
       "      <td>73</td>\n",
       "      <td>3</td>\n",
       "      <td>70</td>\n",
       "    </tr>\n",
       "  </tbody>\n",
       "</table>\n",
       "</div>"
      ],
      "text/plain": [
       "  first_name last_name  age  preTestScore  postTestScore\n",
       "a     Miriam   Caruana   52            24             94\n",
       "b       Tina    Fenech   36            31             57\n",
       "d       Jake   Sultana   24             2             62\n",
       "e        Joe      Borg   42             4             25\n",
       "f        Amy    Scerri   73             3             70"
      ]
     },
     "execution_count": 111,
     "metadata": {},
     "output_type": "execute_result"
    }
   ],
   "source": [
    "# reindex or change the order of rows, save resulting dataframe as df2\n",
    "\n",
    "df2 = df.reindex (['a','b','d','e','f'])\n",
    "df2"
   ]
  },
  {
   "cell_type": "markdown",
   "id": "a4d92987-5bbe-4893-8e90-0adae87b6abc",
   "metadata": {},
   "source": [
    "Note: If we invoke a ```Series``` or ```DataFrame``` using an input list containing a label that is not in the original DataFrame index, the new row is filled with null value or NaN."
   ]
  },
  {
   "cell_type": "code",
   "execution_count": 113,
   "id": "cca4704d-0a29-4f17-b411-5bebd4150eb0",
   "metadata": {},
   "outputs": [
    {
     "data": {
      "text/html": [
       "<div>\n",
       "<style scoped>\n",
       "    .dataframe tbody tr th:only-of-type {\n",
       "        vertical-align: middle;\n",
       "    }\n",
       "\n",
       "    .dataframe tbody tr th {\n",
       "        vertical-align: top;\n",
       "    }\n",
       "\n",
       "    .dataframe thead th {\n",
       "        text-align: right;\n",
       "    }\n",
       "</style>\n",
       "<table border=\"1\" class=\"dataframe\">\n",
       "  <thead>\n",
       "    <tr style=\"text-align: right;\">\n",
       "      <th></th>\n",
       "      <th>first_name</th>\n",
       "      <th>last_name</th>\n",
       "      <th>age</th>\n",
       "      <th>preTestScore</th>\n",
       "      <th>postTestScore</th>\n",
       "    </tr>\n",
       "  </thead>\n",
       "  <tbody>\n",
       "    <tr>\n",
       "      <th>a</th>\n",
       "      <td>Miriam</td>\n",
       "      <td>Caruana</td>\n",
       "      <td>52.0</td>\n",
       "      <td>24.0</td>\n",
       "      <td>94.0</td>\n",
       "    </tr>\n",
       "    <tr>\n",
       "      <th>b</th>\n",
       "      <td>Tina</td>\n",
       "      <td>Fenech</td>\n",
       "      <td>36.0</td>\n",
       "      <td>31.0</td>\n",
       "      <td>57.0</td>\n",
       "    </tr>\n",
       "    <tr>\n",
       "      <th>c</th>\n",
       "      <td>NaN</td>\n",
       "      <td>NaN</td>\n",
       "      <td>NaN</td>\n",
       "      <td>NaN</td>\n",
       "      <td>NaN</td>\n",
       "    </tr>\n",
       "    <tr>\n",
       "      <th>d</th>\n",
       "      <td>Jake</td>\n",
       "      <td>Sultana</td>\n",
       "      <td>24.0</td>\n",
       "      <td>2.0</td>\n",
       "      <td>62.0</td>\n",
       "    </tr>\n",
       "    <tr>\n",
       "      <th>e</th>\n",
       "      <td>Joe</td>\n",
       "      <td>Borg</td>\n",
       "      <td>42.0</td>\n",
       "      <td>4.0</td>\n",
       "      <td>25.0</td>\n",
       "    </tr>\n",
       "    <tr>\n",
       "      <th>f</th>\n",
       "      <td>Amy</td>\n",
       "      <td>Scerri</td>\n",
       "      <td>73.0</td>\n",
       "      <td>3.0</td>\n",
       "      <td>70.0</td>\n",
       "    </tr>\n",
       "    <tr>\n",
       "      <th>g</th>\n",
       "      <td>NaN</td>\n",
       "      <td>NaN</td>\n",
       "      <td>NaN</td>\n",
       "      <td>NaN</td>\n",
       "      <td>NaN</td>\n",
       "    </tr>\n",
       "    <tr>\n",
       "      <th>h</th>\n",
       "      <td>NaN</td>\n",
       "      <td>NaN</td>\n",
       "      <td>NaN</td>\n",
       "      <td>NaN</td>\n",
       "      <td>NaN</td>\n",
       "    </tr>\n",
       "  </tbody>\n",
       "</table>\n",
       "</div>"
      ],
      "text/plain": [
       "  first_name last_name   age  preTestScore  postTestScore\n",
       "a     Miriam   Caruana  52.0          24.0           94.0\n",
       "b       Tina    Fenech  36.0          31.0           57.0\n",
       "c        NaN       NaN   NaN           NaN            NaN\n",
       "d       Jake   Sultana  24.0           2.0           62.0\n",
       "e        Joe      Borg  42.0           4.0           25.0\n",
       "f        Amy    Scerri  73.0           3.0           70.0\n",
       "g        NaN       NaN   NaN           NaN            NaN\n",
       "h        NaN       NaN   NaN           NaN            NaN"
      ]
     },
     "execution_count": 113,
     "metadata": {},
     "output_type": "execute_result"
    }
   ],
   "source": [
    "# reindex or change the order of rows with new inputs\n",
    "\n",
    "df2.reindex (['a','b','c','d','e','f','g','h'])"
   ]
  },
  {
   "cell_type": "code",
   "execution_count": 114,
   "id": "e4e4617b-f12b-4787-bfe0-fc44f5e4a25c",
   "metadata": {},
   "outputs": [
    {
     "data": {
      "text/html": [
       "<div>\n",
       "<style scoped>\n",
       "    .dataframe tbody tr th:only-of-type {\n",
       "        vertical-align: middle;\n",
       "    }\n",
       "\n",
       "    .dataframe tbody tr th {\n",
       "        vertical-align: top;\n",
       "    }\n",
       "\n",
       "    .dataframe thead th {\n",
       "        text-align: right;\n",
       "    }\n",
       "</style>\n",
       "<table border=\"1\" class=\"dataframe\">\n",
       "  <thead>\n",
       "    <tr style=\"text-align: right;\">\n",
       "      <th></th>\n",
       "      <th>first_name</th>\n",
       "      <th>last_name</th>\n",
       "      <th>age</th>\n",
       "      <th>preTestScore</th>\n",
       "      <th>postTestScore</th>\n",
       "    </tr>\n",
       "  </thead>\n",
       "  <tbody>\n",
       "    <tr>\n",
       "      <th>a</th>\n",
       "      <td>Miriam</td>\n",
       "      <td>Caruana</td>\n",
       "      <td>52</td>\n",
       "      <td>24</td>\n",
       "      <td>94</td>\n",
       "    </tr>\n",
       "    <tr>\n",
       "      <th>b</th>\n",
       "      <td>Tina</td>\n",
       "      <td>Fenech</td>\n",
       "      <td>36</td>\n",
       "      <td>31</td>\n",
       "      <td>57</td>\n",
       "    </tr>\n",
       "    <tr>\n",
       "      <th>c</th>\n",
       "      <td>Joe</td>\n",
       "      <td>Joe</td>\n",
       "      <td>Joe</td>\n",
       "      <td>Joe</td>\n",
       "      <td>Joe</td>\n",
       "    </tr>\n",
       "    <tr>\n",
       "      <th>d</th>\n",
       "      <td>Jake</td>\n",
       "      <td>Sultana</td>\n",
       "      <td>24</td>\n",
       "      <td>2</td>\n",
       "      <td>62</td>\n",
       "    </tr>\n",
       "    <tr>\n",
       "      <th>e</th>\n",
       "      <td>Joe</td>\n",
       "      <td>Borg</td>\n",
       "      <td>42</td>\n",
       "      <td>4</td>\n",
       "      <td>25</td>\n",
       "    </tr>\n",
       "    <tr>\n",
       "      <th>f</th>\n",
       "      <td>Amy</td>\n",
       "      <td>Scerri</td>\n",
       "      <td>73</td>\n",
       "      <td>3</td>\n",
       "      <td>70</td>\n",
       "    </tr>\n",
       "    <tr>\n",
       "      <th>g</th>\n",
       "      <td>Joe</td>\n",
       "      <td>Joe</td>\n",
       "      <td>Joe</td>\n",
       "      <td>Joe</td>\n",
       "      <td>Joe</td>\n",
       "    </tr>\n",
       "    <tr>\n",
       "      <th>h</th>\n",
       "      <td>Joe</td>\n",
       "      <td>Joe</td>\n",
       "      <td>Joe</td>\n",
       "      <td>Joe</td>\n",
       "      <td>Joe</td>\n",
       "    </tr>\n",
       "  </tbody>\n",
       "</table>\n",
       "</div>"
      ],
      "text/plain": [
       "  first_name last_name  age preTestScore postTestScore\n",
       "a     Miriam   Caruana   52           24            94\n",
       "b       Tina    Fenech   36           31            57\n",
       "c        Joe       Joe  Joe          Joe           Joe\n",
       "d       Jake   Sultana   24            2            62\n",
       "e        Joe      Borg   42            4            25\n",
       "f        Amy    Scerri   73            3            70\n",
       "g        Joe       Joe  Joe          Joe           Joe\n",
       "h        Joe       Joe  Joe          Joe           Joe"
      ]
     },
     "execution_count": 114,
     "metadata": {},
     "output_type": "execute_result"
    }
   ],
   "source": [
    "# reindex can also \"fill\" NaN with any desired value\n",
    "\n",
    "df.reindex (['a','b','c','d','e','f','g','h'], fill_value=\"Joe\")"
   ]
  },
  {
   "cell_type": "code",
   "execution_count": 115,
   "id": "485fdeeb-3714-4adb-9ae9-c30294a2ee89",
   "metadata": {},
   "outputs": [
    {
     "name": "stdout",
     "output_type": "stream",
     "text": [
      "  first_name last_name  age  preTestScore  postTestScore\n",
      "e        Joe      Borg   42             4             25\n",
      "a     Miriam   Caruana   52            24             94\n",
      "b       Tina    Fenech   36            31             57\n",
      "d       Jake   Sultana   24             2             62\n",
      "f        Amy    Scerri   73             3             70\n"
     ]
    },
    {
     "data": {
      "text/html": [
       "<div>\n",
       "<style scoped>\n",
       "    .dataframe tbody tr th:only-of-type {\n",
       "        vertical-align: middle;\n",
       "    }\n",
       "\n",
       "    .dataframe tbody tr th {\n",
       "        vertical-align: top;\n",
       "    }\n",
       "\n",
       "    .dataframe thead th {\n",
       "        text-align: right;\n",
       "    }\n",
       "</style>\n",
       "<table border=\"1\" class=\"dataframe\">\n",
       "  <thead>\n",
       "    <tr style=\"text-align: right;\">\n",
       "      <th></th>\n",
       "      <th>first_name</th>\n",
       "      <th>last_name</th>\n",
       "      <th>age</th>\n",
       "      <th>preTestScore</th>\n",
       "      <th>postTestScore</th>\n",
       "    </tr>\n",
       "  </thead>\n",
       "  <tbody>\n",
       "    <tr>\n",
       "      <th>a</th>\n",
       "      <td>Miriam</td>\n",
       "      <td>Caruana</td>\n",
       "      <td>52</td>\n",
       "      <td>24</td>\n",
       "      <td>94</td>\n",
       "    </tr>\n",
       "    <tr>\n",
       "      <th>b</th>\n",
       "      <td>Tina</td>\n",
       "      <td>Fenech</td>\n",
       "      <td>36</td>\n",
       "      <td>31</td>\n",
       "      <td>57</td>\n",
       "    </tr>\n",
       "    <tr>\n",
       "      <th>c</th>\n",
       "      <td>Tina</td>\n",
       "      <td>Fenech</td>\n",
       "      <td>36</td>\n",
       "      <td>31</td>\n",
       "      <td>57</td>\n",
       "    </tr>\n",
       "    <tr>\n",
       "      <th>d</th>\n",
       "      <td>Jake</td>\n",
       "      <td>Sultana</td>\n",
       "      <td>24</td>\n",
       "      <td>2</td>\n",
       "      <td>62</td>\n",
       "    </tr>\n",
       "    <tr>\n",
       "      <th>e</th>\n",
       "      <td>Joe</td>\n",
       "      <td>Borg</td>\n",
       "      <td>42</td>\n",
       "      <td>4</td>\n",
       "      <td>25</td>\n",
       "    </tr>\n",
       "    <tr>\n",
       "      <th>f</th>\n",
       "      <td>Amy</td>\n",
       "      <td>Scerri</td>\n",
       "      <td>73</td>\n",
       "      <td>3</td>\n",
       "      <td>70</td>\n",
       "    </tr>\n",
       "    <tr>\n",
       "      <th>g</th>\n",
       "      <td>Amy</td>\n",
       "      <td>Scerri</td>\n",
       "      <td>73</td>\n",
       "      <td>3</td>\n",
       "      <td>70</td>\n",
       "    </tr>\n",
       "    <tr>\n",
       "      <th>h</th>\n",
       "      <td>Amy</td>\n",
       "      <td>Scerri</td>\n",
       "      <td>73</td>\n",
       "      <td>3</td>\n",
       "      <td>70</td>\n",
       "    </tr>\n",
       "  </tbody>\n",
       "</table>\n",
       "</div>"
      ],
      "text/plain": [
       "  first_name last_name  age  preTestScore  postTestScore\n",
       "a     Miriam   Caruana   52            24             94\n",
       "b       Tina    Fenech   36            31             57\n",
       "c       Tina    Fenech   36            31             57\n",
       "d       Jake   Sultana   24             2             62\n",
       "e        Joe      Borg   42             4             25\n",
       "f        Amy    Scerri   73             3             70\n",
       "g        Amy    Scerri   73             3             70\n",
       "h        Amy    Scerri   73             3             70"
      ]
     },
     "execution_count": 115,
     "metadata": {},
     "output_type": "execute_result"
    }
   ],
   "source": [
    "# reindex can also \"pad\" NaN with previous value\n",
    "\n",
    "# code below produces an error... why? because index of \"df\" is NOT \"monotonically increasing/decreasing\", uncomment next line to test:\n",
    "#df.reindex (['a','b','c','d','e','f','g','h'], method='ffill')\n",
    "print(df)\n",
    "\n",
    "# but index for df2 is monotonically increasing, so works fine here:\n",
    "df3 = df2.reindex (['a','b','c','d','e','f','g','h'], method='ffill')\n",
    "df3"
   ]
  },
  {
   "cell_type": "code",
   "execution_count": 116,
   "id": "d3a66d95-cf76-414f-b4cc-9a599e268c94",
   "metadata": {},
   "outputs": [
    {
     "data": {
      "text/html": [
       "<div>\n",
       "<style scoped>\n",
       "    .dataframe tbody tr th:only-of-type {\n",
       "        vertical-align: middle;\n",
       "    }\n",
       "\n",
       "    .dataframe tbody tr th {\n",
       "        vertical-align: top;\n",
       "    }\n",
       "\n",
       "    .dataframe thead th {\n",
       "        text-align: right;\n",
       "    }\n",
       "</style>\n",
       "<table border=\"1\" class=\"dataframe\">\n",
       "  <thead>\n",
       "    <tr style=\"text-align: right;\">\n",
       "      <th></th>\n",
       "      <th>last_name</th>\n",
       "      <th>age</th>\n",
       "      <th>phone</th>\n",
       "      <th>first_name</th>\n",
       "    </tr>\n",
       "  </thead>\n",
       "  <tbody>\n",
       "    <tr>\n",
       "      <th>e</th>\n",
       "      <td>Borg</td>\n",
       "      <td>42</td>\n",
       "      <td>NaN</td>\n",
       "      <td>Joe</td>\n",
       "    </tr>\n",
       "    <tr>\n",
       "      <th>a</th>\n",
       "      <td>Caruana</td>\n",
       "      <td>52</td>\n",
       "      <td>NaN</td>\n",
       "      <td>Miriam</td>\n",
       "    </tr>\n",
       "    <tr>\n",
       "      <th>b</th>\n",
       "      <td>Fenech</td>\n",
       "      <td>36</td>\n",
       "      <td>NaN</td>\n",
       "      <td>Tina</td>\n",
       "    </tr>\n",
       "    <tr>\n",
       "      <th>d</th>\n",
       "      <td>Sultana</td>\n",
       "      <td>24</td>\n",
       "      <td>NaN</td>\n",
       "      <td>Jake</td>\n",
       "    </tr>\n",
       "    <tr>\n",
       "      <th>f</th>\n",
       "      <td>Scerri</td>\n",
       "      <td>73</td>\n",
       "      <td>NaN</td>\n",
       "      <td>Amy</td>\n",
       "    </tr>\n",
       "  </tbody>\n",
       "</table>\n",
       "</div>"
      ],
      "text/plain": [
       "  last_name  age  phone first_name\n",
       "e      Borg   42    NaN        Joe\n",
       "a   Caruana   52    NaN     Miriam\n",
       "b    Fenech   36    NaN       Tina\n",
       "d   Sultana   24    NaN       Jake\n",
       "f    Scerri   73    NaN        Amy"
      ]
     },
     "execution_count": 116,
     "metadata": {},
     "output_type": "execute_result"
    }
   ],
   "source": [
    "# reindex to change the order of columns, also selecting/adding columns\n",
    "\n",
    "columnsTitles = ['first_name','last_name','age','phone']\n",
    "\n",
    "df4=df.reindex (columns = columnsTitles)\n",
    "\n",
    "df4\n",
    "\n",
    "columnsTitles2 = ['last_name','age','phone','first_name']\n",
    "\n",
    "df5 = df4.reindex(columns = columnsTitles2)\n",
    "\n",
    "df5\n",
    "\n"
   ]
  },
  {
   "cell_type": "markdown",
   "id": "cbc2344e-3853-4cf7-b328-8eeed224f8f0",
   "metadata": {},
   "source": [
    "# How select multiple rows and columns from a ```DataFrame```"
   ]
  },
  {
   "cell_type": "markdown",
   "id": "52f02533-df85-4da1-b8ec-e21d260df4c1",
   "metadata": {},
   "source": [
    "- By using integer labels```.iloc``` and axis labels```.loc``` functions, we can select multiple rows and columns from a ```DataFrame```\n",
    "- Selected data can be updated\n",
    "- ```.iloc``` and ```.loc``` are designed to avoid confusion on which type of indexes are we using to access data:\n",
    "- (A) Internal, unchangeable, created by Pandas, always [0,1,2...N] indexes (use ```.iloc``` for internal location)\n",
    "- (B) Our row/column labels, created by us, can take any valus indexes (use  ```.loc``` for location)"
   ]
  },
  {
   "cell_type": "markdown",
   "id": "57708c4a-d868-4ac0-b5d5-4ebe444ef378",
   "metadata": {},
   "source": [
    "### ```.iloc``` function\n",
    "```.iloc``` function operates on \"implicit\" indices, similar to arrays = [0,1,2,...,N]"
   ]
  },
  {
   "cell_type": "code",
   "execution_count": 120,
   "id": "e6fb82c2-a37c-4ca1-b24a-b1e098482e0c",
   "metadata": {},
   "outputs": [],
   "source": [
    "# Lets use the following dataframe\n",
    "df=df2\n",
    "df\n",
    "\n",
    "df = df5"
   ]
  },
  {
   "cell_type": "code",
   "execution_count": 121,
   "id": "3d02166b-256d-402f-a2c0-c2d50bca6c2a",
   "metadata": {},
   "outputs": [
    {
     "data": {
      "text/plain": [
       "last_name     Sultana\n",
       "age                24\n",
       "phone             NaN\n",
       "first_name       Jake\n",
       "Name: d, dtype: object"
      ]
     },
     "execution_count": 121,
     "metadata": {},
     "output_type": "execute_result"
    }
   ],
   "source": [
    "# If we run this code, we will get a single row \n",
    "df.iloc[3]"
   ]
  },
  {
   "cell_type": "markdown",
   "id": "d9660205-85f3-4f7f-b59f-79e8920b5bc1",
   "metadata": {},
   "source": [
    "For getting the result in DataFrame format, we can pass this number in a list like:"
   ]
  },
  {
   "cell_type": "code",
   "execution_count": 123,
   "id": "745caad8-563c-4b20-9052-cabff6fe081a",
   "metadata": {},
   "outputs": [
    {
     "data": {
      "text/html": [
       "<div>\n",
       "<style scoped>\n",
       "    .dataframe tbody tr th:only-of-type {\n",
       "        vertical-align: middle;\n",
       "    }\n",
       "\n",
       "    .dataframe tbody tr th {\n",
       "        vertical-align: top;\n",
       "    }\n",
       "\n",
       "    .dataframe thead th {\n",
       "        text-align: right;\n",
       "    }\n",
       "</style>\n",
       "<table border=\"1\" class=\"dataframe\">\n",
       "  <thead>\n",
       "    <tr style=\"text-align: right;\">\n",
       "      <th></th>\n",
       "      <th>last_name</th>\n",
       "      <th>age</th>\n",
       "      <th>phone</th>\n",
       "      <th>first_name</th>\n",
       "    </tr>\n",
       "  </thead>\n",
       "  <tbody>\n",
       "    <tr>\n",
       "      <th>d</th>\n",
       "      <td>Sultana</td>\n",
       "      <td>24</td>\n",
       "      <td>NaN</td>\n",
       "      <td>Jake</td>\n",
       "    </tr>\n",
       "  </tbody>\n",
       "</table>\n",
       "</div>"
      ],
      "text/plain": [
       "  last_name  age  phone first_name\n",
       "d   Sultana   24    NaN       Jake"
      ]
     },
     "execution_count": 123,
     "metadata": {},
     "output_type": "execute_result"
    }
   ],
   "source": [
    "df.iloc[[3]]"
   ]
  },
  {
   "cell_type": "code",
   "execution_count": 124,
   "id": "cdd793f8-7fc5-4da2-8e1f-74982ce442c6",
   "metadata": {},
   "outputs": [
    {
     "data": {
      "text/html": [
       "<div>\n",
       "<style scoped>\n",
       "    .dataframe tbody tr th:only-of-type {\n",
       "        vertical-align: middle;\n",
       "    }\n",
       "\n",
       "    .dataframe tbody tr th {\n",
       "        vertical-align: top;\n",
       "    }\n",
       "\n",
       "    .dataframe thead th {\n",
       "        text-align: right;\n",
       "    }\n",
       "</style>\n",
       "<table border=\"1\" class=\"dataframe\">\n",
       "  <thead>\n",
       "    <tr style=\"text-align: right;\">\n",
       "      <th></th>\n",
       "      <th>last_name</th>\n",
       "      <th>age</th>\n",
       "      <th>phone</th>\n",
       "      <th>first_name</th>\n",
       "    </tr>\n",
       "  </thead>\n",
       "  <tbody>\n",
       "    <tr>\n",
       "      <th>f</th>\n",
       "      <td>Scerri</td>\n",
       "      <td>73</td>\n",
       "      <td>NaN</td>\n",
       "      <td>Amy</td>\n",
       "    </tr>\n",
       "  </tbody>\n",
       "</table>\n",
       "</div>"
      ],
      "text/plain": [
       "  last_name  age  phone first_name\n",
       "f    Scerri   73    NaN        Amy"
      ]
     },
     "execution_count": 124,
     "metadata": {},
     "output_type": "execute_result"
    }
   ],
   "source": [
    "df.iloc[[-1]]"
   ]
  },
  {
   "cell_type": "markdown",
   "id": "127a3153-e3b5-4f01-97cb-1be6f8868cf3",
   "metadata": {},
   "source": [
    "To select a single data element:"
   ]
  },
  {
   "cell_type": "code",
   "execution_count": 126,
   "id": "f712231e-e775-4aeb-bb3a-d25f06fb758d",
   "metadata": {},
   "outputs": [
    {
     "data": {
      "text/plain": [
       "nan"
      ]
     },
     "execution_count": 126,
     "metadata": {},
     "output_type": "execute_result"
    }
   ],
   "source": [
    "df.iloc[3,2]"
   ]
  },
  {
   "cell_type": "markdown",
   "id": "35ee25d9-5aad-46d4-b8ee-7b07ef1d1a64",
   "metadata": {},
   "source": [
    "or using the DataFrame format:"
   ]
  },
  {
   "cell_type": "code",
   "execution_count": 128,
   "id": "00e24beb-b591-4889-b38a-1d62a33ae2f0",
   "metadata": {},
   "outputs": [
    {
     "data": {
      "text/html": [
       "<div>\n",
       "<style scoped>\n",
       "    .dataframe tbody tr th:only-of-type {\n",
       "        vertical-align: middle;\n",
       "    }\n",
       "\n",
       "    .dataframe tbody tr th {\n",
       "        vertical-align: top;\n",
       "    }\n",
       "\n",
       "    .dataframe thead th {\n",
       "        text-align: right;\n",
       "    }\n",
       "</style>\n",
       "<table border=\"1\" class=\"dataframe\">\n",
       "  <thead>\n",
       "    <tr style=\"text-align: right;\">\n",
       "      <th></th>\n",
       "      <th>phone</th>\n",
       "    </tr>\n",
       "  </thead>\n",
       "  <tbody>\n",
       "    <tr>\n",
       "      <th>d</th>\n",
       "      <td>NaN</td>\n",
       "    </tr>\n",
       "  </tbody>\n",
       "</table>\n",
       "</div>"
      ],
      "text/plain": [
       "   phone\n",
       "d    NaN"
      ]
     },
     "execution_count": 128,
     "metadata": {},
     "output_type": "execute_result"
    }
   ],
   "source": [
    "df.iloc[[3],[2]]"
   ]
  },
  {
   "cell_type": "markdown",
   "id": "13b45369-231a-4bd4-8a34-f4ba255a8d0b",
   "metadata": {},
   "source": [
    "We can use <code>.iloc</code> to update values:"
   ]
  },
  {
   "cell_type": "code",
   "execution_count": 130,
   "id": "c723aead-affa-429b-925d-1f21692ff2e4",
   "metadata": {},
   "outputs": [
    {
     "name": "stderr",
     "output_type": "stream",
     "text": [
      "C:\\Users\\user\\AppData\\Local\\Temp\\ipykernel_1804\\3153083388.py:1: FutureWarning: Setting an item of incompatible dtype is deprecated and will raise an error in a future version of pandas. Value '101' has dtype incompatible with float64, please explicitly cast to a compatible dtype first.\n",
      "  df.iloc[[3],[2]]=\"101\"\n"
     ]
    },
    {
     "data": {
      "text/html": [
       "<div>\n",
       "<style scoped>\n",
       "    .dataframe tbody tr th:only-of-type {\n",
       "        vertical-align: middle;\n",
       "    }\n",
       "\n",
       "    .dataframe tbody tr th {\n",
       "        vertical-align: top;\n",
       "    }\n",
       "\n",
       "    .dataframe thead th {\n",
       "        text-align: right;\n",
       "    }\n",
       "</style>\n",
       "<table border=\"1\" class=\"dataframe\">\n",
       "  <thead>\n",
       "    <tr style=\"text-align: right;\">\n",
       "      <th></th>\n",
       "      <th>phone</th>\n",
       "    </tr>\n",
       "  </thead>\n",
       "  <tbody>\n",
       "    <tr>\n",
       "      <th>d</th>\n",
       "      <td>101</td>\n",
       "    </tr>\n",
       "  </tbody>\n",
       "</table>\n",
       "</div>"
      ],
      "text/plain": [
       "  phone\n",
       "d   101"
      ]
     },
     "execution_count": 130,
     "metadata": {},
     "output_type": "execute_result"
    }
   ],
   "source": [
    "df.iloc[[3],[2]]=\"101\"\n",
    "df.iloc[[3],[2]]"
   ]
  },
  {
   "cell_type": "markdown",
   "id": "bdfebb11-c257-480f-bddb-9e5ca968ebf7",
   "metadata": {},
   "source": [
    "To select more than one row using .iloc"
   ]
  },
  {
   "cell_type": "code",
   "execution_count": 132,
   "id": "ff149970-e4af-4ed6-9678-f595c80caf8e",
   "metadata": {},
   "outputs": [
    {
     "data": {
      "text/html": [
       "<div>\n",
       "<style scoped>\n",
       "    .dataframe tbody tr th:only-of-type {\n",
       "        vertical-align: middle;\n",
       "    }\n",
       "\n",
       "    .dataframe tbody tr th {\n",
       "        vertical-align: top;\n",
       "    }\n",
       "\n",
       "    .dataframe thead th {\n",
       "        text-align: right;\n",
       "    }\n",
       "</style>\n",
       "<table border=\"1\" class=\"dataframe\">\n",
       "  <thead>\n",
       "    <tr style=\"text-align: right;\">\n",
       "      <th></th>\n",
       "      <th>last_name</th>\n",
       "      <th>age</th>\n",
       "      <th>phone</th>\n",
       "      <th>first_name</th>\n",
       "    </tr>\n",
       "  </thead>\n",
       "  <tbody>\n",
       "    <tr>\n",
       "      <th>e</th>\n",
       "      <td>Borg</td>\n",
       "      <td>42</td>\n",
       "      <td>NaN</td>\n",
       "      <td>Joe</td>\n",
       "    </tr>\n",
       "    <tr>\n",
       "      <th>b</th>\n",
       "      <td>Fenech</td>\n",
       "      <td>36</td>\n",
       "      <td>NaN</td>\n",
       "      <td>Tina</td>\n",
       "    </tr>\n",
       "  </tbody>\n",
       "</table>\n",
       "</div>"
      ],
      "text/plain": [
       "  last_name  age phone first_name\n",
       "e      Borg   42   NaN        Joe\n",
       "b    Fenech   36   NaN       Tina"
      ]
     },
     "execution_count": 132,
     "metadata": {},
     "output_type": "execute_result"
    }
   ],
   "source": [
    "#Selecting more than one row using .iloc \n",
    "df.iloc[[0,2]]"
   ]
  },
  {
   "cell_type": "markdown",
   "id": "f5a4f94f-ef7d-4123-868b-deda64561351",
   "metadata": {},
   "source": [
    "Everything left to the comma belongs to rows and everything right to the comma belongs to the column."
   ]
  },
  {
   "cell_type": "code",
   "execution_count": 134,
   "id": "331c8fd8-99ff-4747-9c45-37d3280e3019",
   "metadata": {},
   "outputs": [
    {
     "data": {
      "text/html": [
       "<div>\n",
       "<style scoped>\n",
       "    .dataframe tbody tr th:only-of-type {\n",
       "        vertical-align: middle;\n",
       "    }\n",
       "\n",
       "    .dataframe tbody tr th {\n",
       "        vertical-align: top;\n",
       "    }\n",
       "\n",
       "    .dataframe thead th {\n",
       "        text-align: right;\n",
       "    }\n",
       "</style>\n",
       "<table border=\"1\" class=\"dataframe\">\n",
       "  <thead>\n",
       "    <tr style=\"text-align: right;\">\n",
       "      <th></th>\n",
       "      <th>last_name</th>\n",
       "      <th>age</th>\n",
       "      <th>phone</th>\n",
       "      <th>first_name</th>\n",
       "    </tr>\n",
       "  </thead>\n",
       "  <tbody>\n",
       "    <tr>\n",
       "      <th>e</th>\n",
       "      <td>Borg</td>\n",
       "      <td>42</td>\n",
       "      <td>NaN</td>\n",
       "      <td>Joe</td>\n",
       "    </tr>\n",
       "    <tr>\n",
       "      <th>a</th>\n",
       "      <td>Caruana</td>\n",
       "      <td>52</td>\n",
       "      <td>NaN</td>\n",
       "      <td>Miriam</td>\n",
       "    </tr>\n",
       "    <tr>\n",
       "      <th>b</th>\n",
       "      <td>Fenech</td>\n",
       "      <td>36</td>\n",
       "      <td>NaN</td>\n",
       "      <td>Tina</td>\n",
       "    </tr>\n",
       "    <tr>\n",
       "      <th>d</th>\n",
       "      <td>Sultana</td>\n",
       "      <td>24</td>\n",
       "      <td>101</td>\n",
       "      <td>Jake</td>\n",
       "    </tr>\n",
       "    <tr>\n",
       "      <th>f</th>\n",
       "      <td>Scerri</td>\n",
       "      <td>73</td>\n",
       "      <td>NaN</td>\n",
       "      <td>Amy</td>\n",
       "    </tr>\n",
       "  </tbody>\n",
       "</table>\n",
       "</div>"
      ],
      "text/plain": [
       "  last_name  age phone first_name\n",
       "e      Borg   42   NaN        Joe\n",
       "a   Caruana   52   NaN     Miriam\n",
       "b    Fenech   36   NaN       Tina\n",
       "d   Sultana   24   101       Jake\n",
       "f    Scerri   73   NaN        Amy"
      ]
     },
     "execution_count": 134,
     "metadata": {},
     "output_type": "execute_result"
    }
   ],
   "source": [
    "df"
   ]
  },
  {
   "cell_type": "code",
   "execution_count": 135,
   "id": "1f2a0f91-b47b-4734-aed7-9e83f94cf0a8",
   "metadata": {},
   "outputs": [
    {
     "data": {
      "text/html": [
       "<div>\n",
       "<style scoped>\n",
       "    .dataframe tbody tr th:only-of-type {\n",
       "        vertical-align: middle;\n",
       "    }\n",
       "\n",
       "    .dataframe tbody tr th {\n",
       "        vertical-align: top;\n",
       "    }\n",
       "\n",
       "    .dataframe thead th {\n",
       "        text-align: right;\n",
       "    }\n",
       "</style>\n",
       "<table border=\"1\" class=\"dataframe\">\n",
       "  <thead>\n",
       "    <tr style=\"text-align: right;\">\n",
       "      <th></th>\n",
       "      <th>phone</th>\n",
       "      <th>age</th>\n",
       "    </tr>\n",
       "  </thead>\n",
       "  <tbody>\n",
       "    <tr>\n",
       "      <th>e</th>\n",
       "      <td>NaN</td>\n",
       "      <td>42</td>\n",
       "    </tr>\n",
       "    <tr>\n",
       "      <th>b</th>\n",
       "      <td>NaN</td>\n",
       "      <td>36</td>\n",
       "    </tr>\n",
       "  </tbody>\n",
       "</table>\n",
       "</div>"
      ],
      "text/plain": [
       "  phone  age\n",
       "e   NaN   42\n",
       "b   NaN   36"
      ]
     },
     "execution_count": 135,
     "metadata": {},
     "output_type": "execute_result"
    }
   ],
   "source": [
    "df.iloc[[0,2],[2,1]]  #first set related to rows, second set related to the columns that I want to select from dataframe"
   ]
  },
  {
   "cell_type": "markdown",
   "id": "856183d9-7720-41f3-bfb8-9ff5f44cbd06",
   "metadata": {},
   "source": [
    "Finally, we can also use \"slice\" format for .iloc"
   ]
  },
  {
   "cell_type": "code",
   "execution_count": 137,
   "id": "2002c02e-57f4-46f0-8e1c-420ea82f0f1a",
   "metadata": {},
   "outputs": [
    {
     "data": {
      "text/html": [
       "<div>\n",
       "<style scoped>\n",
       "    .dataframe tbody tr th:only-of-type {\n",
       "        vertical-align: middle;\n",
       "    }\n",
       "\n",
       "    .dataframe tbody tr th {\n",
       "        vertical-align: top;\n",
       "    }\n",
       "\n",
       "    .dataframe thead th {\n",
       "        text-align: right;\n",
       "    }\n",
       "</style>\n",
       "<table border=\"1\" class=\"dataframe\">\n",
       "  <thead>\n",
       "    <tr style=\"text-align: right;\">\n",
       "      <th></th>\n",
       "      <th>age</th>\n",
       "      <th>phone</th>\n",
       "    </tr>\n",
       "  </thead>\n",
       "  <tbody>\n",
       "    <tr>\n",
       "      <th>e</th>\n",
       "      <td>42</td>\n",
       "      <td>NaN</td>\n",
       "    </tr>\n",
       "    <tr>\n",
       "      <th>a</th>\n",
       "      <td>52</td>\n",
       "      <td>NaN</td>\n",
       "    </tr>\n",
       "    <tr>\n",
       "      <th>b</th>\n",
       "      <td>36</td>\n",
       "      <td>NaN</td>\n",
       "    </tr>\n",
       "  </tbody>\n",
       "</table>\n",
       "</div>"
      ],
      "text/plain": [
       "   age phone\n",
       "e   42   NaN\n",
       "a   52   NaN\n",
       "b   36   NaN"
      ]
     },
     "execution_count": 137,
     "metadata": {},
     "output_type": "execute_result"
    }
   ],
   "source": [
    "df.iloc[0:3,1:3]"
   ]
  },
  {
   "cell_type": "markdown",
   "id": "93c24e90-849c-4302-92d1-ec549d82f204",
   "metadata": {},
   "source": [
    "### ```.loc``` function"
   ]
  },
  {
   "cell_type": "markdown",
   "id": "95986530-7111-49f3-9d2a-caf0dbfbcfdf",
   "metadata": {},
   "source": [
    "```loc``` function operates on the index labels we define for rows or columns"
   ]
  },
  {
   "cell_type": "code",
   "execution_count": 140,
   "id": "190b7c6b-6484-4b99-9c9f-6be2bd872f30",
   "metadata": {},
   "outputs": [
    {
     "data": {
      "text/html": [
       "<div>\n",
       "<style scoped>\n",
       "    .dataframe tbody tr th:only-of-type {\n",
       "        vertical-align: middle;\n",
       "    }\n",
       "\n",
       "    .dataframe tbody tr th {\n",
       "        vertical-align: top;\n",
       "    }\n",
       "\n",
       "    .dataframe thead th {\n",
       "        text-align: right;\n",
       "    }\n",
       "</style>\n",
       "<table border=\"1\" class=\"dataframe\">\n",
       "  <thead>\n",
       "    <tr style=\"text-align: right;\">\n",
       "      <th></th>\n",
       "      <th>student1</th>\n",
       "      <th>student2</th>\n",
       "      <th>student3</th>\n",
       "    </tr>\n",
       "  </thead>\n",
       "  <tbody>\n",
       "    <tr>\n",
       "      <th>score1</th>\n",
       "      <td>100</td>\n",
       "      <td>93</td>\n",
       "      <td>100</td>\n",
       "    </tr>\n",
       "    <tr>\n",
       "      <th>score2</th>\n",
       "      <td>93</td>\n",
       "      <td>96</td>\n",
       "      <td>99</td>\n",
       "    </tr>\n",
       "    <tr>\n",
       "      <th>score3</th>\n",
       "      <td>87</td>\n",
       "      <td>79</td>\n",
       "      <td>96</td>\n",
       "    </tr>\n",
       "    <tr>\n",
       "      <th>score4</th>\n",
       "      <td>100</td>\n",
       "      <td>98</td>\n",
       "      <td>89</td>\n",
       "    </tr>\n",
       "  </tbody>\n",
       "</table>\n",
       "</div>"
      ],
      "text/plain": [
       "        student1  student2  student3\n",
       "score1       100        93       100\n",
       "score2        93        96        99\n",
       "score3        87        79        96\n",
       "score4       100        98        89"
      ]
     },
     "execution_count": 140,
     "metadata": {},
     "output_type": "execute_result"
    }
   ],
   "source": [
    "#example (introducing a data frame)\n",
    "\n",
    "Score = {'student1' : pd.Series([100, 93,87,100], index=['score1', 'score2', 'score3', 'score4']),\n",
    "      'student2' : pd.Series([93,96,79,98], index=['score1', 'score2', 'score3', 'score4']),\n",
    "         'student3' : pd.Series([100,99,96,89], index=['score1', 'score2', 'score3', 'score4'])}\n",
    "\n",
    "df = pd.DataFrame(Score)\n",
    "df"
   ]
  },
  {
   "cell_type": "code",
   "execution_count": 141,
   "id": "ab344da7-4315-4a61-bbb4-ddab915d44c2",
   "metadata": {},
   "outputs": [
    {
     "data": {
      "text/html": [
       "<div>\n",
       "<style scoped>\n",
       "    .dataframe tbody tr th:only-of-type {\n",
       "        vertical-align: middle;\n",
       "    }\n",
       "\n",
       "    .dataframe tbody tr th {\n",
       "        vertical-align: top;\n",
       "    }\n",
       "\n",
       "    .dataframe thead th {\n",
       "        text-align: right;\n",
       "    }\n",
       "</style>\n",
       "<table border=\"1\" class=\"dataframe\">\n",
       "  <thead>\n",
       "    <tr style=\"text-align: right;\">\n",
       "      <th></th>\n",
       "      <th>student1</th>\n",
       "      <th>student2</th>\n",
       "      <th>student3</th>\n",
       "    </tr>\n",
       "  </thead>\n",
       "  <tbody>\n",
       "    <tr>\n",
       "      <th>score3</th>\n",
       "      <td>87</td>\n",
       "      <td>79</td>\n",
       "      <td>96</td>\n",
       "    </tr>\n",
       "  </tbody>\n",
       "</table>\n",
       "</div>"
      ],
      "text/plain": [
       "        student1  student2  student3\n",
       "score3        87        79        96"
      ]
     },
     "execution_count": 141,
     "metadata": {},
     "output_type": "execute_result"
    }
   ],
   "source": [
    "df.loc[['score3']]"
   ]
  },
  {
   "cell_type": "code",
   "execution_count": 142,
   "id": "d2617a6a-d6d3-4bce-98cb-6970b16e752f",
   "metadata": {},
   "outputs": [
    {
     "data": {
      "text/html": [
       "<div>\n",
       "<style scoped>\n",
       "    .dataframe tbody tr th:only-of-type {\n",
       "        vertical-align: middle;\n",
       "    }\n",
       "\n",
       "    .dataframe tbody tr th {\n",
       "        vertical-align: top;\n",
       "    }\n",
       "\n",
       "    .dataframe thead th {\n",
       "        text-align: right;\n",
       "    }\n",
       "</style>\n",
       "<table border=\"1\" class=\"dataframe\">\n",
       "  <thead>\n",
       "    <tr style=\"text-align: right;\">\n",
       "      <th></th>\n",
       "      <th>student2</th>\n",
       "    </tr>\n",
       "  </thead>\n",
       "  <tbody>\n",
       "    <tr>\n",
       "      <th>score2</th>\n",
       "      <td>96</td>\n",
       "    </tr>\n",
       "    <tr>\n",
       "      <th>score3</th>\n",
       "      <td>79</td>\n",
       "    </tr>\n",
       "  </tbody>\n",
       "</table>\n",
       "</div>"
      ],
      "text/plain": [
       "        student2\n",
       "score2        96\n",
       "score3        79"
      ]
     },
     "execution_count": 142,
     "metadata": {},
     "output_type": "execute_result"
    }
   ],
   "source": [
    "#everything left to the comma belongs to rows and everything right to the comma belongs to the column.\n",
    "\n",
    "df.loc[['score2','score3'],['student2']]"
   ]
  },
  {
   "cell_type": "code",
   "execution_count": 143,
   "id": "00b423a2-2bfb-4e6c-a3ba-639dec93f240",
   "metadata": {},
   "outputs": [
    {
     "data": {
      "text/html": [
       "<div>\n",
       "<style scoped>\n",
       "    .dataframe tbody tr th:only-of-type {\n",
       "        vertical-align: middle;\n",
       "    }\n",
       "\n",
       "    .dataframe tbody tr th {\n",
       "        vertical-align: top;\n",
       "    }\n",
       "\n",
       "    .dataframe thead th {\n",
       "        text-align: right;\n",
       "    }\n",
       "</style>\n",
       "<table border=\"1\" class=\"dataframe\">\n",
       "  <thead>\n",
       "    <tr style=\"text-align: right;\">\n",
       "      <th></th>\n",
       "      <th>student2</th>\n",
       "      <th>student3</th>\n",
       "    </tr>\n",
       "  </thead>\n",
       "  <tbody>\n",
       "    <tr>\n",
       "      <th>score1</th>\n",
       "      <td>93</td>\n",
       "      <td>100</td>\n",
       "    </tr>\n",
       "    <tr>\n",
       "      <th>score2</th>\n",
       "      <td>96</td>\n",
       "      <td>99</td>\n",
       "    </tr>\n",
       "  </tbody>\n",
       "</table>\n",
       "</div>"
      ],
      "text/plain": [
       "        student2  student3\n",
       "score1        93       100\n",
       "score2        96        99"
      ]
     },
     "execution_count": 143,
     "metadata": {},
     "output_type": "execute_result"
    }
   ],
   "source": [
    "df.loc['score1':'score2','student2':'student3']"
   ]
  },
  {
   "cell_type": "markdown",
   "id": "d82d50e6-be0c-45f4-81fe-45a9ff0d7a9e",
   "metadata": {},
   "source": [
    "## Arithmetic and Data Alignment\n",
    "\n",
    "When doing arithmetic or any other operations on Series and DataFrames, Pandas will automatically attemp to:\n",
    "   - Fill in missing data \n",
    "   - Align data so operations make sence\n",
    "   - The main arithmetic operators are: ```add()```, ```sub()```, ````mul()````,````div()````"
   ]
  },
  {
   "cell_type": "code",
   "execution_count": 145,
   "id": "9b48387f-e6de-4e3d-9860-1321b61061f6",
   "metadata": {},
   "outputs": [
    {
     "data": {
      "text/html": [
       "<div>\n",
       "<style scoped>\n",
       "    .dataframe tbody tr th:only-of-type {\n",
       "        vertical-align: middle;\n",
       "    }\n",
       "\n",
       "    .dataframe tbody tr th {\n",
       "        vertical-align: top;\n",
       "    }\n",
       "\n",
       "    .dataframe thead th {\n",
       "        text-align: right;\n",
       "    }\n",
       "</style>\n",
       "<table border=\"1\" class=\"dataframe\">\n",
       "  <thead>\n",
       "    <tr style=\"text-align: right;\">\n",
       "      <th></th>\n",
       "      <th>Valletta</th>\n",
       "      <th>Hamrun</th>\n",
       "      <th>Mellieha</th>\n",
       "    </tr>\n",
       "  </thead>\n",
       "  <tbody>\n",
       "    <tr>\n",
       "      <th>b</th>\n",
       "      <td>0</td>\n",
       "      <td>1</td>\n",
       "      <td>2</td>\n",
       "    </tr>\n",
       "    <tr>\n",
       "      <th>d</th>\n",
       "      <td>3</td>\n",
       "      <td>4</td>\n",
       "      <td>5</td>\n",
       "    </tr>\n",
       "    <tr>\n",
       "      <th>e</th>\n",
       "      <td>6</td>\n",
       "      <td>7</td>\n",
       "      <td>8</td>\n",
       "    </tr>\n",
       "  </tbody>\n",
       "</table>\n",
       "</div>"
      ],
      "text/plain": [
       "   Valletta  Hamrun  Mellieha\n",
       "b         0       1         2\n",
       "d         3       4         5\n",
       "e         6       7         8"
      ]
     },
     "execution_count": 145,
     "metadata": {},
     "output_type": "execute_result"
    }
   ],
   "source": [
    "# example DataFrame 1 - values from 0 to 9 in a 3x3 matrix\n",
    "df1 = pd.DataFrame(np.arange(9).reshape((3,3)), columns=['Valletta', 'Hamrun', 'Mellieha'], index=['b','d','e'])\n",
    "df1"
   ]
  },
  {
   "cell_type": "code",
   "execution_count": 146,
   "id": "d0480433-0510-4936-9148-281e505132da",
   "metadata": {},
   "outputs": [
    {
     "data": {
      "text/html": [
       "<div>\n",
       "<style scoped>\n",
       "    .dataframe tbody tr th:only-of-type {\n",
       "        vertical-align: middle;\n",
       "    }\n",
       "\n",
       "    .dataframe tbody tr th {\n",
       "        vertical-align: top;\n",
       "    }\n",
       "\n",
       "    .dataframe thead th {\n",
       "        text-align: right;\n",
       "    }\n",
       "</style>\n",
       "<table border=\"1\" class=\"dataframe\">\n",
       "  <thead>\n",
       "    <tr style=\"text-align: right;\">\n",
       "      <th></th>\n",
       "      <th>Valletta</th>\n",
       "      <th>Hamrun</th>\n",
       "      <th>Mellieha</th>\n",
       "      <th>Manikata</th>\n",
       "    </tr>\n",
       "  </thead>\n",
       "  <tbody>\n",
       "    <tr>\n",
       "      <th>a</th>\n",
       "      <td>10</td>\n",
       "      <td>12</td>\n",
       "      <td>14</td>\n",
       "      <td>16</td>\n",
       "    </tr>\n",
       "    <tr>\n",
       "      <th>b</th>\n",
       "      <td>18</td>\n",
       "      <td>20</td>\n",
       "      <td>22</td>\n",
       "      <td>24</td>\n",
       "    </tr>\n",
       "    <tr>\n",
       "      <th>c</th>\n",
       "      <td>26</td>\n",
       "      <td>28</td>\n",
       "      <td>30</td>\n",
       "      <td>32</td>\n",
       "    </tr>\n",
       "    <tr>\n",
       "      <th>d</th>\n",
       "      <td>34</td>\n",
       "      <td>36</td>\n",
       "      <td>38</td>\n",
       "      <td>40</td>\n",
       "    </tr>\n",
       "  </tbody>\n",
       "</table>\n",
       "</div>"
      ],
      "text/plain": [
       "   Valletta  Hamrun  Mellieha  Manikata\n",
       "a        10      12        14        16\n",
       "b        18      20        22        24\n",
       "c        26      28        30        32\n",
       "d        34      36        38        40"
      ]
     },
     "execution_count": 146,
     "metadata": {},
     "output_type": "execute_result"
    }
   ],
   "source": [
    "# example DataFrame 2\n",
    "df2 = pd.DataFrame(np.arange(10,42,2).reshape((4,4)), columns=['Valletta', 'Hamrun', 'Mellieha', 'Manikata'], index=['a','b','c','d'])\n",
    "df2"
   ]
  },
  {
   "cell_type": "markdown",
   "id": "a17dedda-5c0e-4924-b42a-6fad93f23b6a",
   "metadata": {},
   "source": [
    "To add two DataFrames simply:"
   ]
  },
  {
   "cell_type": "code",
   "execution_count": 148,
   "id": "31830e40-ebd7-4700-9e81-7ac879031f5a",
   "metadata": {},
   "outputs": [
    {
     "data": {
      "text/html": [
       "<div>\n",
       "<style scoped>\n",
       "    .dataframe tbody tr th:only-of-type {\n",
       "        vertical-align: middle;\n",
       "    }\n",
       "\n",
       "    .dataframe tbody tr th {\n",
       "        vertical-align: top;\n",
       "    }\n",
       "\n",
       "    .dataframe thead th {\n",
       "        text-align: right;\n",
       "    }\n",
       "</style>\n",
       "<table border=\"1\" class=\"dataframe\">\n",
       "  <thead>\n",
       "    <tr style=\"text-align: right;\">\n",
       "      <th></th>\n",
       "      <th>Hamrun</th>\n",
       "      <th>Manikata</th>\n",
       "      <th>Mellieha</th>\n",
       "      <th>Valletta</th>\n",
       "    </tr>\n",
       "  </thead>\n",
       "  <tbody>\n",
       "    <tr>\n",
       "      <th>a</th>\n",
       "      <td>NaN</td>\n",
       "      <td>NaN</td>\n",
       "      <td>NaN</td>\n",
       "      <td>NaN</td>\n",
       "    </tr>\n",
       "    <tr>\n",
       "      <th>b</th>\n",
       "      <td>21.0</td>\n",
       "      <td>NaN</td>\n",
       "      <td>24.0</td>\n",
       "      <td>18.0</td>\n",
       "    </tr>\n",
       "    <tr>\n",
       "      <th>c</th>\n",
       "      <td>NaN</td>\n",
       "      <td>NaN</td>\n",
       "      <td>NaN</td>\n",
       "      <td>NaN</td>\n",
       "    </tr>\n",
       "    <tr>\n",
       "      <th>d</th>\n",
       "      <td>40.0</td>\n",
       "      <td>NaN</td>\n",
       "      <td>43.0</td>\n",
       "      <td>37.0</td>\n",
       "    </tr>\n",
       "    <tr>\n",
       "      <th>e</th>\n",
       "      <td>NaN</td>\n",
       "      <td>NaN</td>\n",
       "      <td>NaN</td>\n",
       "      <td>NaN</td>\n",
       "    </tr>\n",
       "  </tbody>\n",
       "</table>\n",
       "</div>"
      ],
      "text/plain": [
       "   Hamrun  Manikata  Mellieha  Valletta\n",
       "a     NaN       NaN       NaN       NaN\n",
       "b    21.0       NaN      24.0      18.0\n",
       "c     NaN       NaN       NaN       NaN\n",
       "d    40.0       NaN      43.0      37.0\n",
       "e     NaN       NaN       NaN       NaN"
      ]
     },
     "execution_count": 148,
     "metadata": {},
     "output_type": "execute_result"
    }
   ],
   "source": [
    "df1 + df2  # df1.add(df2)"
   ]
  },
  {
   "cell_type": "markdown",
   "id": "487a4058-2266-4932-ad0a-f39210880d9c",
   "metadata": {},
   "source": [
    "Alternatively use:"
   ]
  },
  {
   "cell_type": "code",
   "execution_count": 150,
   "id": "27df0004-308a-4314-9286-eb021429aae5",
   "metadata": {},
   "outputs": [
    {
     "data": {
      "text/html": [
       "<div>\n",
       "<style scoped>\n",
       "    .dataframe tbody tr th:only-of-type {\n",
       "        vertical-align: middle;\n",
       "    }\n",
       "\n",
       "    .dataframe tbody tr th {\n",
       "        vertical-align: top;\n",
       "    }\n",
       "\n",
       "    .dataframe thead th {\n",
       "        text-align: right;\n",
       "    }\n",
       "</style>\n",
       "<table border=\"1\" class=\"dataframe\">\n",
       "  <thead>\n",
       "    <tr style=\"text-align: right;\">\n",
       "      <th></th>\n",
       "      <th>Hamrun</th>\n",
       "      <th>Manikata</th>\n",
       "      <th>Mellieha</th>\n",
       "      <th>Valletta</th>\n",
       "    </tr>\n",
       "  </thead>\n",
       "  <tbody>\n",
       "    <tr>\n",
       "      <th>a</th>\n",
       "      <td>NaN</td>\n",
       "      <td>NaN</td>\n",
       "      <td>NaN</td>\n",
       "      <td>NaN</td>\n",
       "    </tr>\n",
       "    <tr>\n",
       "      <th>b</th>\n",
       "      <td>21.0</td>\n",
       "      <td>NaN</td>\n",
       "      <td>24.0</td>\n",
       "      <td>18.0</td>\n",
       "    </tr>\n",
       "    <tr>\n",
       "      <th>c</th>\n",
       "      <td>NaN</td>\n",
       "      <td>NaN</td>\n",
       "      <td>NaN</td>\n",
       "      <td>NaN</td>\n",
       "    </tr>\n",
       "    <tr>\n",
       "      <th>d</th>\n",
       "      <td>40.0</td>\n",
       "      <td>NaN</td>\n",
       "      <td>43.0</td>\n",
       "      <td>37.0</td>\n",
       "    </tr>\n",
       "    <tr>\n",
       "      <th>e</th>\n",
       "      <td>NaN</td>\n",
       "      <td>NaN</td>\n",
       "      <td>NaN</td>\n",
       "      <td>NaN</td>\n",
       "    </tr>\n",
       "  </tbody>\n",
       "</table>\n",
       "</div>"
      ],
      "text/plain": [
       "   Hamrun  Manikata  Mellieha  Valletta\n",
       "a     NaN       NaN       NaN       NaN\n",
       "b    21.0       NaN      24.0      18.0\n",
       "c     NaN       NaN       NaN       NaN\n",
       "d    40.0       NaN      43.0      37.0\n",
       "e     NaN       NaN       NaN       NaN"
      ]
     },
     "execution_count": 150,
     "metadata": {},
     "output_type": "execute_result"
    }
   ],
   "source": [
    "df1.add(df2)"
   ]
  },
  {
   "cell_type": "markdown",
   "id": "60c31cd1-a24a-4d5e-a306-399cc6065649",
   "metadata": {},
   "source": [
    "Note that the addition is successful only when there are two numbers to be added. Everywhere else is filled by Pandas as \"NaN\" = Not A Number.\n",
    "In some cases we may want to insert a special value when there is no data, for instance \"0\" or \"1\" if we want to keep the current values:"
   ]
  },
  {
   "cell_type": "code",
   "execution_count": 152,
   "id": "6b87728e-5c17-43b0-a124-cee9cd1af522",
   "metadata": {},
   "outputs": [
    {
     "data": {
      "text/html": [
       "<div>\n",
       "<style scoped>\n",
       "    .dataframe tbody tr th:only-of-type {\n",
       "        vertical-align: middle;\n",
       "    }\n",
       "\n",
       "    .dataframe tbody tr th {\n",
       "        vertical-align: top;\n",
       "    }\n",
       "\n",
       "    .dataframe thead th {\n",
       "        text-align: right;\n",
       "    }\n",
       "</style>\n",
       "<table border=\"1\" class=\"dataframe\">\n",
       "  <thead>\n",
       "    <tr style=\"text-align: right;\">\n",
       "      <th></th>\n",
       "      <th>Hamrun</th>\n",
       "      <th>Manikata</th>\n",
       "      <th>Mellieha</th>\n",
       "      <th>Valletta</th>\n",
       "    </tr>\n",
       "  </thead>\n",
       "  <tbody>\n",
       "    <tr>\n",
       "      <th>a</th>\n",
       "      <td>12.0</td>\n",
       "      <td>16.0</td>\n",
       "      <td>14.0</td>\n",
       "      <td>10.0</td>\n",
       "    </tr>\n",
       "    <tr>\n",
       "      <th>b</th>\n",
       "      <td>21.0</td>\n",
       "      <td>24.0</td>\n",
       "      <td>24.0</td>\n",
       "      <td>18.0</td>\n",
       "    </tr>\n",
       "    <tr>\n",
       "      <th>c</th>\n",
       "      <td>28.0</td>\n",
       "      <td>32.0</td>\n",
       "      <td>30.0</td>\n",
       "      <td>26.0</td>\n",
       "    </tr>\n",
       "    <tr>\n",
       "      <th>d</th>\n",
       "      <td>40.0</td>\n",
       "      <td>40.0</td>\n",
       "      <td>43.0</td>\n",
       "      <td>37.0</td>\n",
       "    </tr>\n",
       "    <tr>\n",
       "      <th>e</th>\n",
       "      <td>7.0</td>\n",
       "      <td>NaN</td>\n",
       "      <td>8.0</td>\n",
       "      <td>6.0</td>\n",
       "    </tr>\n",
       "  </tbody>\n",
       "</table>\n",
       "</div>"
      ],
      "text/plain": [
       "   Hamrun  Manikata  Mellieha  Valletta\n",
       "a    12.0      16.0      14.0      10.0\n",
       "b    21.0      24.0      24.0      18.0\n",
       "c    28.0      32.0      30.0      26.0\n",
       "d    40.0      40.0      43.0      37.0\n",
       "e     7.0       NaN       8.0       6.0"
      ]
     },
     "execution_count": 152,
     "metadata": {},
     "output_type": "execute_result"
    }
   ],
   "source": [
    "df1.add(df2, fill_value=0)"
   ]
  },
  {
   "cell_type": "code",
   "execution_count": 153,
   "id": "8e835924-41d9-400c-b45f-4e295ff993b9",
   "metadata": {},
   "outputs": [
    {
     "data": {
      "text/html": [
       "<div>\n",
       "<style scoped>\n",
       "    .dataframe tbody tr th:only-of-type {\n",
       "        vertical-align: middle;\n",
       "    }\n",
       "\n",
       "    .dataframe tbody tr th {\n",
       "        vertical-align: top;\n",
       "    }\n",
       "\n",
       "    .dataframe thead th {\n",
       "        text-align: right;\n",
       "    }\n",
       "</style>\n",
       "<table border=\"1\" class=\"dataframe\">\n",
       "  <thead>\n",
       "    <tr style=\"text-align: right;\">\n",
       "      <th></th>\n",
       "      <th>Hamrun</th>\n",
       "      <th>Manikata</th>\n",
       "      <th>Mellieha</th>\n",
       "      <th>Valletta</th>\n",
       "    </tr>\n",
       "  </thead>\n",
       "  <tbody>\n",
       "    <tr>\n",
       "      <th>a</th>\n",
       "      <td>0.0</td>\n",
       "      <td>0.0</td>\n",
       "      <td>0.0</td>\n",
       "      <td>0.0</td>\n",
       "    </tr>\n",
       "    <tr>\n",
       "      <th>b</th>\n",
       "      <td>20.0</td>\n",
       "      <td>0.0</td>\n",
       "      <td>44.0</td>\n",
       "      <td>0.0</td>\n",
       "    </tr>\n",
       "    <tr>\n",
       "      <th>c</th>\n",
       "      <td>0.0</td>\n",
       "      <td>0.0</td>\n",
       "      <td>0.0</td>\n",
       "      <td>0.0</td>\n",
       "    </tr>\n",
       "    <tr>\n",
       "      <th>d</th>\n",
       "      <td>144.0</td>\n",
       "      <td>0.0</td>\n",
       "      <td>190.0</td>\n",
       "      <td>102.0</td>\n",
       "    </tr>\n",
       "    <tr>\n",
       "      <th>e</th>\n",
       "      <td>0.0</td>\n",
       "      <td>NaN</td>\n",
       "      <td>0.0</td>\n",
       "      <td>0.0</td>\n",
       "    </tr>\n",
       "  </tbody>\n",
       "</table>\n",
       "</div>"
      ],
      "text/plain": [
       "   Hamrun  Manikata  Mellieha  Valletta\n",
       "a     0.0       0.0       0.0       0.0\n",
       "b    20.0       0.0      44.0       0.0\n",
       "c     0.0       0.0       0.0       0.0\n",
       "d   144.0       0.0     190.0     102.0\n",
       "e     0.0       NaN       0.0       0.0"
      ]
     },
     "execution_count": 153,
     "metadata": {},
     "output_type": "execute_result"
    }
   ],
   "source": [
    "df1.mul(df2, fill_value=0)"
   ]
  },
  {
   "cell_type": "code",
   "execution_count": 154,
   "id": "2a85b3e1-5be2-42b5-b1fd-2cb83c33563c",
   "metadata": {},
   "outputs": [
    {
     "data": {
      "text/html": [
       "<div>\n",
       "<style scoped>\n",
       "    .dataframe tbody tr th:only-of-type {\n",
       "        vertical-align: middle;\n",
       "    }\n",
       "\n",
       "    .dataframe tbody tr th {\n",
       "        vertical-align: top;\n",
       "    }\n",
       "\n",
       "    .dataframe thead th {\n",
       "        text-align: right;\n",
       "    }\n",
       "</style>\n",
       "<table border=\"1\" class=\"dataframe\">\n",
       "  <thead>\n",
       "    <tr style=\"text-align: right;\">\n",
       "      <th></th>\n",
       "      <th>Hamrun</th>\n",
       "      <th>Manikata</th>\n",
       "      <th>Mellieha</th>\n",
       "      <th>Valletta</th>\n",
       "    </tr>\n",
       "  </thead>\n",
       "  <tbody>\n",
       "    <tr>\n",
       "      <th>a</th>\n",
       "      <td>12.0</td>\n",
       "      <td>16.0</td>\n",
       "      <td>14.0</td>\n",
       "      <td>10.0</td>\n",
       "    </tr>\n",
       "    <tr>\n",
       "      <th>b</th>\n",
       "      <td>20.0</td>\n",
       "      <td>24.0</td>\n",
       "      <td>44.0</td>\n",
       "      <td>0.0</td>\n",
       "    </tr>\n",
       "    <tr>\n",
       "      <th>c</th>\n",
       "      <td>28.0</td>\n",
       "      <td>32.0</td>\n",
       "      <td>30.0</td>\n",
       "      <td>26.0</td>\n",
       "    </tr>\n",
       "    <tr>\n",
       "      <th>d</th>\n",
       "      <td>144.0</td>\n",
       "      <td>40.0</td>\n",
       "      <td>190.0</td>\n",
       "      <td>102.0</td>\n",
       "    </tr>\n",
       "    <tr>\n",
       "      <th>e</th>\n",
       "      <td>7.0</td>\n",
       "      <td>NaN</td>\n",
       "      <td>8.0</td>\n",
       "      <td>6.0</td>\n",
       "    </tr>\n",
       "  </tbody>\n",
       "</table>\n",
       "</div>"
      ],
      "text/plain": [
       "   Hamrun  Manikata  Mellieha  Valletta\n",
       "a    12.0      16.0      14.0      10.0\n",
       "b    20.0      24.0      44.0       0.0\n",
       "c    28.0      32.0      30.0      26.0\n",
       "d   144.0      40.0     190.0     102.0\n",
       "e     7.0       NaN       8.0       6.0"
      ]
     },
     "execution_count": 154,
     "metadata": {},
     "output_type": "execute_result"
    }
   ],
   "source": [
    "df1.mul(df2, fill_value=1)"
   ]
  },
  {
   "cell_type": "code",
   "execution_count": 155,
   "id": "946e244f-4987-4c7a-9ef9-d29cff01b75b",
   "metadata": {},
   "outputs": [
    {
     "data": {
      "text/html": [
       "<div>\n",
       "<style scoped>\n",
       "    .dataframe tbody tr th:only-of-type {\n",
       "        vertical-align: middle;\n",
       "    }\n",
       "\n",
       "    .dataframe tbody tr th {\n",
       "        vertical-align: top;\n",
       "    }\n",
       "\n",
       "    .dataframe thead th {\n",
       "        text-align: right;\n",
       "    }\n",
       "</style>\n",
       "<table border=\"1\" class=\"dataframe\">\n",
       "  <thead>\n",
       "    <tr style=\"text-align: right;\">\n",
       "      <th></th>\n",
       "      <th>Hamrun</th>\n",
       "      <th>Manikata</th>\n",
       "      <th>Mellieha</th>\n",
       "      <th>Valletta</th>\n",
       "    </tr>\n",
       "  </thead>\n",
       "  <tbody>\n",
       "    <tr>\n",
       "      <th>a</th>\n",
       "      <td>0.000000</td>\n",
       "      <td>0.0</td>\n",
       "      <td>0.000000</td>\n",
       "      <td>0.000000</td>\n",
       "    </tr>\n",
       "    <tr>\n",
       "      <th>b</th>\n",
       "      <td>0.050000</td>\n",
       "      <td>0.0</td>\n",
       "      <td>0.090909</td>\n",
       "      <td>0.000000</td>\n",
       "    </tr>\n",
       "    <tr>\n",
       "      <th>c</th>\n",
       "      <td>0.000000</td>\n",
       "      <td>0.0</td>\n",
       "      <td>0.000000</td>\n",
       "      <td>0.000000</td>\n",
       "    </tr>\n",
       "    <tr>\n",
       "      <th>d</th>\n",
       "      <td>0.111111</td>\n",
       "      <td>0.0</td>\n",
       "      <td>0.131579</td>\n",
       "      <td>0.088235</td>\n",
       "    </tr>\n",
       "    <tr>\n",
       "      <th>e</th>\n",
       "      <td>inf</td>\n",
       "      <td>NaN</td>\n",
       "      <td>inf</td>\n",
       "      <td>inf</td>\n",
       "    </tr>\n",
       "  </tbody>\n",
       "</table>\n",
       "</div>"
      ],
      "text/plain": [
       "     Hamrun  Manikata  Mellieha  Valletta\n",
       "a  0.000000       0.0  0.000000  0.000000\n",
       "b  0.050000       0.0  0.090909  0.000000\n",
       "c  0.000000       0.0  0.000000  0.000000\n",
       "d  0.111111       0.0  0.131579  0.088235\n",
       "e       inf       NaN       inf       inf"
      ]
     },
     "execution_count": 155,
     "metadata": {},
     "output_type": "execute_result"
    }
   ],
   "source": [
    "df1.div(df2, fill_value=0)"
   ]
  },
  {
   "cell_type": "markdown",
   "id": "978b9057-8835-46e9-9025-1e089f756f39",
   "metadata": {
    "pycharm": {
     "name": "#%% md\n"
    }
   },
   "source": [
    "## Data Ingestion\n",
    "\n",
    "The very first step in any data science project is _data ingestion_. Data could be structured (SQL tables, CSV files, Excel files) or unstructured. The standard for unstructured data is a file format called JSON (JavaScript Object Notation). It is also important to be able to \"write\" your results into these formats for other people to reproduce and/or validate your results."
   ]
  },
  {
   "cell_type": "markdown",
   "id": "4f68d3e7-538d-445c-a389-d2369556be77",
   "metadata": {
    "pycharm": {
     "name": "#%% md\n"
    }
   },
   "source": [
    "-```read_csv``` load data from file or URL. Use comma as delimiter.\n",
    "\n",
    "-```read_table``` load data from file or URL. Use tab ('\\t') as default delimiter."
   ]
  },
  {
   "cell_type": "markdown",
   "id": "bda11c2b-01c0-47e0-99c8-91d1f998507d",
   "metadata": {
    "pycharm": {
     "name": "#%% md\n"
    }
   },
   "source": [
    "# ```read_csv```\n",
    "We use <code>read_csv</code> to create a Panda DataFrame from an external _Comma-Separated Value (CSV)_ formated data file. For instance, see the example below, where a CSV file called __housing_dataset.csv__ is loaded using this method"
   ]
  },
  {
   "cell_type": "code",
   "execution_count": 159,
   "id": "bf8584ad-bff4-49df-adb9-9a7d5b530de2",
   "metadata": {
    "pycharm": {
     "is_executing": true,
     "name": "#%%\n"
    }
   },
   "outputs": [
    {
     "ename": "FileNotFoundError",
     "evalue": "[Errno 2] No such file or directory: 'CSV_Data/housing_dataset.csv'",
     "output_type": "error",
     "traceback": [
      "\u001b[1;31m---------------------------------------------------------------------------\u001b[0m",
      "\u001b[1;31mFileNotFoundError\u001b[0m                         Traceback (most recent call last)",
      "Cell \u001b[1;32mIn[159], line 2\u001b[0m\n\u001b[0;32m      1\u001b[0m csv_path \u001b[38;5;241m=\u001b[39m \u001b[38;5;124m'\u001b[39m\u001b[38;5;124mCSV_Data/housing_dataset.csv\u001b[39m\u001b[38;5;124m'\u001b[39m\n\u001b[1;32m----> 2\u001b[0m df \u001b[38;5;241m=\u001b[39m pd\u001b[38;5;241m.\u001b[39mread_csv (csv_path)\n\u001b[0;32m      3\u001b[0m df\u001b[38;5;241m.\u001b[39mtail()\n",
      "File \u001b[1;32m~\\anaconda3\\Lib\\site-packages\\pandas\\io\\parsers\\readers.py:1026\u001b[0m, in \u001b[0;36mread_csv\u001b[1;34m(filepath_or_buffer, sep, delimiter, header, names, index_col, usecols, dtype, engine, converters, true_values, false_values, skipinitialspace, skiprows, skipfooter, nrows, na_values, keep_default_na, na_filter, verbose, skip_blank_lines, parse_dates, infer_datetime_format, keep_date_col, date_parser, date_format, dayfirst, cache_dates, iterator, chunksize, compression, thousands, decimal, lineterminator, quotechar, quoting, doublequote, escapechar, comment, encoding, encoding_errors, dialect, on_bad_lines, delim_whitespace, low_memory, memory_map, float_precision, storage_options, dtype_backend)\u001b[0m\n\u001b[0;32m   1013\u001b[0m kwds_defaults \u001b[38;5;241m=\u001b[39m _refine_defaults_read(\n\u001b[0;32m   1014\u001b[0m     dialect,\n\u001b[0;32m   1015\u001b[0m     delimiter,\n\u001b[1;32m   (...)\u001b[0m\n\u001b[0;32m   1022\u001b[0m     dtype_backend\u001b[38;5;241m=\u001b[39mdtype_backend,\n\u001b[0;32m   1023\u001b[0m )\n\u001b[0;32m   1024\u001b[0m kwds\u001b[38;5;241m.\u001b[39mupdate(kwds_defaults)\n\u001b[1;32m-> 1026\u001b[0m \u001b[38;5;28;01mreturn\u001b[39;00m _read(filepath_or_buffer, kwds)\n",
      "File \u001b[1;32m~\\anaconda3\\Lib\\site-packages\\pandas\\io\\parsers\\readers.py:620\u001b[0m, in \u001b[0;36m_read\u001b[1;34m(filepath_or_buffer, kwds)\u001b[0m\n\u001b[0;32m    617\u001b[0m _validate_names(kwds\u001b[38;5;241m.\u001b[39mget(\u001b[38;5;124m\"\u001b[39m\u001b[38;5;124mnames\u001b[39m\u001b[38;5;124m\"\u001b[39m, \u001b[38;5;28;01mNone\u001b[39;00m))\n\u001b[0;32m    619\u001b[0m \u001b[38;5;66;03m# Create the parser.\u001b[39;00m\n\u001b[1;32m--> 620\u001b[0m parser \u001b[38;5;241m=\u001b[39m TextFileReader(filepath_or_buffer, \u001b[38;5;241m*\u001b[39m\u001b[38;5;241m*\u001b[39mkwds)\n\u001b[0;32m    622\u001b[0m \u001b[38;5;28;01mif\u001b[39;00m chunksize \u001b[38;5;129;01mor\u001b[39;00m iterator:\n\u001b[0;32m    623\u001b[0m     \u001b[38;5;28;01mreturn\u001b[39;00m parser\n",
      "File \u001b[1;32m~\\anaconda3\\Lib\\site-packages\\pandas\\io\\parsers\\readers.py:1620\u001b[0m, in \u001b[0;36mTextFileReader.__init__\u001b[1;34m(self, f, engine, **kwds)\u001b[0m\n\u001b[0;32m   1617\u001b[0m     \u001b[38;5;28mself\u001b[39m\u001b[38;5;241m.\u001b[39moptions[\u001b[38;5;124m\"\u001b[39m\u001b[38;5;124mhas_index_names\u001b[39m\u001b[38;5;124m\"\u001b[39m] \u001b[38;5;241m=\u001b[39m kwds[\u001b[38;5;124m\"\u001b[39m\u001b[38;5;124mhas_index_names\u001b[39m\u001b[38;5;124m\"\u001b[39m]\n\u001b[0;32m   1619\u001b[0m \u001b[38;5;28mself\u001b[39m\u001b[38;5;241m.\u001b[39mhandles: IOHandles \u001b[38;5;241m|\u001b[39m \u001b[38;5;28;01mNone\u001b[39;00m \u001b[38;5;241m=\u001b[39m \u001b[38;5;28;01mNone\u001b[39;00m\n\u001b[1;32m-> 1620\u001b[0m \u001b[38;5;28mself\u001b[39m\u001b[38;5;241m.\u001b[39m_engine \u001b[38;5;241m=\u001b[39m \u001b[38;5;28mself\u001b[39m\u001b[38;5;241m.\u001b[39m_make_engine(f, \u001b[38;5;28mself\u001b[39m\u001b[38;5;241m.\u001b[39mengine)\n",
      "File \u001b[1;32m~\\anaconda3\\Lib\\site-packages\\pandas\\io\\parsers\\readers.py:1880\u001b[0m, in \u001b[0;36mTextFileReader._make_engine\u001b[1;34m(self, f, engine)\u001b[0m\n\u001b[0;32m   1878\u001b[0m     \u001b[38;5;28;01mif\u001b[39;00m \u001b[38;5;124m\"\u001b[39m\u001b[38;5;124mb\u001b[39m\u001b[38;5;124m\"\u001b[39m \u001b[38;5;129;01mnot\u001b[39;00m \u001b[38;5;129;01min\u001b[39;00m mode:\n\u001b[0;32m   1879\u001b[0m         mode \u001b[38;5;241m+\u001b[39m\u001b[38;5;241m=\u001b[39m \u001b[38;5;124m\"\u001b[39m\u001b[38;5;124mb\u001b[39m\u001b[38;5;124m\"\u001b[39m\n\u001b[1;32m-> 1880\u001b[0m \u001b[38;5;28mself\u001b[39m\u001b[38;5;241m.\u001b[39mhandles \u001b[38;5;241m=\u001b[39m get_handle(\n\u001b[0;32m   1881\u001b[0m     f,\n\u001b[0;32m   1882\u001b[0m     mode,\n\u001b[0;32m   1883\u001b[0m     encoding\u001b[38;5;241m=\u001b[39m\u001b[38;5;28mself\u001b[39m\u001b[38;5;241m.\u001b[39moptions\u001b[38;5;241m.\u001b[39mget(\u001b[38;5;124m\"\u001b[39m\u001b[38;5;124mencoding\u001b[39m\u001b[38;5;124m\"\u001b[39m, \u001b[38;5;28;01mNone\u001b[39;00m),\n\u001b[0;32m   1884\u001b[0m     compression\u001b[38;5;241m=\u001b[39m\u001b[38;5;28mself\u001b[39m\u001b[38;5;241m.\u001b[39moptions\u001b[38;5;241m.\u001b[39mget(\u001b[38;5;124m\"\u001b[39m\u001b[38;5;124mcompression\u001b[39m\u001b[38;5;124m\"\u001b[39m, \u001b[38;5;28;01mNone\u001b[39;00m),\n\u001b[0;32m   1885\u001b[0m     memory_map\u001b[38;5;241m=\u001b[39m\u001b[38;5;28mself\u001b[39m\u001b[38;5;241m.\u001b[39moptions\u001b[38;5;241m.\u001b[39mget(\u001b[38;5;124m\"\u001b[39m\u001b[38;5;124mmemory_map\u001b[39m\u001b[38;5;124m\"\u001b[39m, \u001b[38;5;28;01mFalse\u001b[39;00m),\n\u001b[0;32m   1886\u001b[0m     is_text\u001b[38;5;241m=\u001b[39mis_text,\n\u001b[0;32m   1887\u001b[0m     errors\u001b[38;5;241m=\u001b[39m\u001b[38;5;28mself\u001b[39m\u001b[38;5;241m.\u001b[39moptions\u001b[38;5;241m.\u001b[39mget(\u001b[38;5;124m\"\u001b[39m\u001b[38;5;124mencoding_errors\u001b[39m\u001b[38;5;124m\"\u001b[39m, \u001b[38;5;124m\"\u001b[39m\u001b[38;5;124mstrict\u001b[39m\u001b[38;5;124m\"\u001b[39m),\n\u001b[0;32m   1888\u001b[0m     storage_options\u001b[38;5;241m=\u001b[39m\u001b[38;5;28mself\u001b[39m\u001b[38;5;241m.\u001b[39moptions\u001b[38;5;241m.\u001b[39mget(\u001b[38;5;124m\"\u001b[39m\u001b[38;5;124mstorage_options\u001b[39m\u001b[38;5;124m\"\u001b[39m, \u001b[38;5;28;01mNone\u001b[39;00m),\n\u001b[0;32m   1889\u001b[0m )\n\u001b[0;32m   1890\u001b[0m \u001b[38;5;28;01massert\u001b[39;00m \u001b[38;5;28mself\u001b[39m\u001b[38;5;241m.\u001b[39mhandles \u001b[38;5;129;01mis\u001b[39;00m \u001b[38;5;129;01mnot\u001b[39;00m \u001b[38;5;28;01mNone\u001b[39;00m\n\u001b[0;32m   1891\u001b[0m f \u001b[38;5;241m=\u001b[39m \u001b[38;5;28mself\u001b[39m\u001b[38;5;241m.\u001b[39mhandles\u001b[38;5;241m.\u001b[39mhandle\n",
      "File \u001b[1;32m~\\anaconda3\\Lib\\site-packages\\pandas\\io\\common.py:873\u001b[0m, in \u001b[0;36mget_handle\u001b[1;34m(path_or_buf, mode, encoding, compression, memory_map, is_text, errors, storage_options)\u001b[0m\n\u001b[0;32m    868\u001b[0m \u001b[38;5;28;01melif\u001b[39;00m \u001b[38;5;28misinstance\u001b[39m(handle, \u001b[38;5;28mstr\u001b[39m):\n\u001b[0;32m    869\u001b[0m     \u001b[38;5;66;03m# Check whether the filename is to be opened in binary mode.\u001b[39;00m\n\u001b[0;32m    870\u001b[0m     \u001b[38;5;66;03m# Binary mode does not support 'encoding' and 'newline'.\u001b[39;00m\n\u001b[0;32m    871\u001b[0m     \u001b[38;5;28;01mif\u001b[39;00m ioargs\u001b[38;5;241m.\u001b[39mencoding \u001b[38;5;129;01mand\u001b[39;00m \u001b[38;5;124m\"\u001b[39m\u001b[38;5;124mb\u001b[39m\u001b[38;5;124m\"\u001b[39m \u001b[38;5;129;01mnot\u001b[39;00m \u001b[38;5;129;01min\u001b[39;00m ioargs\u001b[38;5;241m.\u001b[39mmode:\n\u001b[0;32m    872\u001b[0m         \u001b[38;5;66;03m# Encoding\u001b[39;00m\n\u001b[1;32m--> 873\u001b[0m         handle \u001b[38;5;241m=\u001b[39m \u001b[38;5;28mopen\u001b[39m(\n\u001b[0;32m    874\u001b[0m             handle,\n\u001b[0;32m    875\u001b[0m             ioargs\u001b[38;5;241m.\u001b[39mmode,\n\u001b[0;32m    876\u001b[0m             encoding\u001b[38;5;241m=\u001b[39mioargs\u001b[38;5;241m.\u001b[39mencoding,\n\u001b[0;32m    877\u001b[0m             errors\u001b[38;5;241m=\u001b[39merrors,\n\u001b[0;32m    878\u001b[0m             newline\u001b[38;5;241m=\u001b[39m\u001b[38;5;124m\"\u001b[39m\u001b[38;5;124m\"\u001b[39m,\n\u001b[0;32m    879\u001b[0m         )\n\u001b[0;32m    880\u001b[0m     \u001b[38;5;28;01melse\u001b[39;00m:\n\u001b[0;32m    881\u001b[0m         \u001b[38;5;66;03m# Binary mode\u001b[39;00m\n\u001b[0;32m    882\u001b[0m         handle \u001b[38;5;241m=\u001b[39m \u001b[38;5;28mopen\u001b[39m(handle, ioargs\u001b[38;5;241m.\u001b[39mmode)\n",
      "\u001b[1;31mFileNotFoundError\u001b[0m: [Errno 2] No such file or directory: 'CSV_Data/housing_dataset.csv'"
     ]
    }
   ],
   "source": [
    "csv_path = 'CSV_Data/housing_dataset.csv'\n",
    "df = pd.read_csv (csv_path)\n",
    "df.tail()"
   ]
  },
  {
   "cell_type": "code",
   "execution_count": null,
   "id": "490c1c04-3258-4070-985e-6f9f9ae22a54",
   "metadata": {},
   "outputs": [],
   "source": []
  },
  {
   "cell_type": "markdown",
   "id": "074623de-09d0-48ec-9eaa-8610dd1da9e5",
   "metadata": {
    "pycharm": {
     "name": "#%% md\n"
    }
   },
   "source": [
    "# Writing DataFrame into a CSV File \n",
    "Using <code>.to_csv</code>, we can now write this new dataset into a CSV file as follows:"
   ]
  },
  {
   "cell_type": "code",
   "execution_count": null,
   "id": "c004d12c-ebb8-4f9c-840c-4f94084d3287",
   "metadata": {
    "pycharm": {
     "name": "#%%\n"
    }
   },
   "outputs": [],
   "source": [
    "df.to_csv('CSV_Data/my_output_file.csv')"
   ]
  },
  {
   "cell_type": "markdown",
   "id": "107739df-3600-407e-bc66-250d3448d84c",
   "metadata": {
    "pycharm": {
     "name": "#%% md\n"
    }
   },
   "source": [
    "__Note:__ You should be able to access your file system and find the file _../Data/my_output_file.csv_ on your computer. Try open it with Excel or a text editing program.\n",
    "\n",
    "Now we can load this csv file and introduce some modification while importing it, such as changing index or including multiple indexes"
   ]
  },
  {
   "cell_type": "code",
   "execution_count": null,
   "id": "e99a3856-cf32-4f4f-a0a6-344b2b71069c",
   "metadata": {
    "pycharm": {
     "name": "#%%\n"
    }
   },
   "outputs": [],
   "source": [
    "csv_path = 'CSV_Data/my_output_file.csv'\n",
    "df2 = pd.read_csv (csv_path)\n",
    "df2.tail()\n",
    "#df4"
   ]
  },
  {
   "cell_type": "markdown",
   "id": "20d99029-4310-425e-a3ce-731cf9cb656c",
   "metadata": {
    "pycharm": {
     "name": "#%% md\n"
    }
   },
   "source": [
    "This DataFrame resulted with a repeated column due to writing index fist, then loading with a new index. Lets now export the DataFrame but without index or colum headers:"
   ]
  },
  {
   "cell_type": "code",
   "execution_count": null,
   "id": "67f31299-7826-4e04-8f73-493d7164911d",
   "metadata": {
    "pycharm": {
     "name": "#%%\n"
    }
   },
   "outputs": [],
   "source": [
    "df3.to_csv('CSV_Data/my_output_file2.csv', index=False, header=False)"
   ]
  },
  {
   "cell_type": "code",
   "execution_count": null,
   "id": "249b30f8-28f8-4fd5-84af-e6911934c0a3",
   "metadata": {
    "pycharm": {
     "name": "#%%\n"
    }
   },
   "outputs": [],
   "source": [
    "csv_path = 'CSV_Data/my_output_file2.csv'\n",
    "df5 = pd.read_csv (csv_path)\n",
    "df5.head()\n",
    "#df5"
   ]
  },
  {
   "cell_type": "markdown",
   "id": "dcc91fbe-87aa-439a-95f5-ef2178649d97",
   "metadata": {
    "pycharm": {
     "name": "#%% md\n"
    }
   },
   "source": [
    "Loading our newly created CSV file results in erroneously making the first raw of data the \"header\". We know this data does not have a header, so we can let python assing any column header or we can assign column headers to data as follows:"
   ]
  },
  {
   "cell_type": "code",
   "execution_count": null,
   "id": "b888fd8a-7ecc-4c64-8612-6937188ffdac",
   "metadata": {
    "pycharm": {
     "name": "#%%\n"
    }
   },
   "outputs": [],
   "source": [
    "df5 = pd.read_csv (csv_path, header=None) # no header option, Python assign headers \n",
    "df5.head()"
   ]
  },
  {
   "cell_type": "code",
   "execution_count": null,
   "id": "f58c50ee-31e0-4c68-b026-0d0eeface101",
   "metadata": {
    "pycharm": {
     "name": "#%%\n"
    }
   },
   "outputs": [],
   "source": [
    "df5 = pd.read_csv (csv_path, names=['First_Name', 'Last_Name','Age','Pretest Score','Posttest Score' ])\n",
    "df5.head()"
   ]
  },
  {
   "cell_type": "markdown",
   "id": "3e07af13-f3c0-4d75-a411-0415005f6e04",
   "metadata": {
    "pycharm": {
     "name": "#%% md\n"
    }
   },
   "source": [
    "## ```read_table```\n",
    "We use <code>read_table</code> to create a Panda DataFrame from an external _Tab Separated Values_ formated data file (default). We can also specify the charater (or characters) that  are separating the data values in the file we want to load, for instance '|' or any other charater or sequence used as separator. In the example below we work with a TXT file: __SampleTextFile.txt__."
   ]
  },
  {
   "cell_type": "code",
   "execution_count": null,
   "id": "88fe6caa-7c67-4074-ac8d-166b0363da46",
   "metadata": {
    "pycharm": {
     "name": "#%%\n"
    }
   },
   "outputs": [],
   "source": [
    "Text = pd.read_table ('CSV_Data/SampleTextFile.txt')\n",
    "Text\n"
   ]
  },
  {
   "cell_type": "code",
   "execution_count": null,
   "id": "55dbf843-a161-4737-b27b-d4280f9972a8",
   "metadata": {
    "pycharm": {
     "name": "#%%\n"
    }
   },
   "outputs": [],
   "source": [
    "Text = pd.read_table ('CSV_Data/SampleTextFile.txt')\n",
    "#Text\n",
    "Text.tail()"
   ]
  },
  {
   "cell_type": "markdown",
   "id": "d32bb17b-a250-4769-b49d-762ba2353490",
   "metadata": {
    "pycharm": {
     "name": "#%% md\n"
    }
   },
   "source": [
    "Since the text does not contain 'tab's the entire row of text is loaded as a single data field. Also, this file does not contain headers, so lets import it again but this time: (A) lets specify a header \"text\""
   ]
  },
  {
   "cell_type": "code",
   "execution_count": null,
   "id": "89d16166-3332-4f7f-ad1c-a26c073cd1f8",
   "metadata": {
    "pycharm": {
     "name": "#%%\n"
    }
   },
   "outputs": [],
   "source": [
    "Text = pd.read_table ('CSV_Data/SampleTextFile.txt', names=['text'])\n",
    "#Text\n",
    "Text.tail()"
   ]
  },
  {
   "cell_type": "markdown",
   "id": "7206ecb1-81b9-4903-bdfd-82975d210c24",
   "metadata": {
    "pycharm": {
     "name": "#%% md\n"
    }
   },
   "source": [
    "For some __very large data sets__ it would not be possible (or convenient) to load the entire data into a DataFrame at once. For this cases, we can select to just load few of the first rows of data using <code>nrows=</code>"
   ]
  },
  {
   "cell_type": "code",
   "execution_count": null,
   "id": "0d2b2771-e801-48a5-b2e8-54ec8fdaa8de",
   "metadata": {
    "pycharm": {
     "name": "#%%\n"
    }
   },
   "outputs": [],
   "source": [
    "Text = pd.read_table ('CSV_Data/SampleTextFile.txt',names=['text'], nrows = 5)\n",
    "Text"
   ]
  },
  {
   "cell_type": "markdown",
   "id": "d0baec35-2736-4703-a4e0-81d3f92f5741",
   "metadata": {
    "pycharm": {
     "name": "#%% md\n"
    }
   },
   "source": [
    "# Dealing with Missing Data\n"
   ]
  },
  {
   "cell_type": "markdown",
   "id": "cf4b020d-6136-4263-a04a-1955e322a96b",
   "metadata": {
    "pycharm": {
     "name": "#%% md\n"
    }
   },
   "source": [
    "The important point of reading files with any format is, considering missing data. pandas automatically fills missing data by returning NA or NULL.\n",
    "\n",
    "The best way to check whether a ```DataFrame``` has any NaN values is by using ```.isnull``` function. "
   ]
  },
  {
   "cell_type": "code",
   "execution_count": null,
   "id": "c0e03322-261c-429a-8a5c-cb6986c66da5",
   "metadata": {
    "pycharm": {
     "name": "#%%\n"
    }
   },
   "outputs": [],
   "source": [
    "pd.isnull(Text) "
   ]
  },
  {
   "cell_type": "markdown",
   "id": "7febe41b-2e7d-42ce-9014-cfc8b5d6dce5",
   "metadata": {
    "pycharm": {
     "name": "#%% md\n"
    }
   },
   "source": [
    "# Reading and Writing Unstructured Data \n",
    "The most populat format to handling unstructured data is __JSON__ (JavaScript Object Notation).\n",
    "JSON files can be used to store structured or unstructured data. Unstructured data contain elements that often do not all contain the same data. They also contain data that is \"nested\" and not in a tabular format."
   ]
  },
  {
   "cell_type": "markdown",
   "id": "acb5347d-e5b3-4d85-bca1-c36c0fb58183",
   "metadata": {
    "pycharm": {
     "name": "#%% md\n"
    }
   },
   "source": [
    "## Reading a simple JSON object\n",
    "\n",
    "<code>.read_json</code> will read a JSON object from a file and return a Pandas Series or DataFame (default). For example, lets read the following JSON object from __\"../Data/sample_load_json1.json\"__\n",
    "\n",
    "{<br>\n",
    "&nbsp;&nbsp;&nbsp;&nbsp;&nbsp;&nbsp;\"fruit\": {\"0\", \"Apple\"},<br>\n",
    "&nbsp;&nbsp;&nbsp;&nbsp;&nbsp;&nbsp;\"size\": {\"1\", \"Large\"},<br>\n",
    "&nbsp;&nbsp;&nbsp;&nbsp;&nbsp;&nbsp;\"color\": {\"2\", \"Red\"]<br>\n",
    "}<br>"
   ]
  },
  {
   "cell_type": "code",
   "execution_count": null,
   "id": "8af4be8f-7c39-485b-bf7a-91eafde4b3f5",
   "metadata": {
    "pycharm": {
     "name": "#%%\n"
    }
   },
   "outputs": [],
   "source": [
    "df6 = pd.read_json(\"CSV_Data/sample_load_json1.json\") #load JSON from file to DataFrame df6\n",
    "df6"
   ]
  },
  {
   "cell_type": "markdown",
   "id": "43cd3925-3950-458a-b851-14f1ffae41a8",
   "metadata": {
    "pycharm": {
     "name": "#%% md\n"
    }
   },
   "source": [
    "## Creating a simple JSON object from a DataFrame\n",
    "<code>.to_json</code> method cerates a JSON object from a DataFrame as follows:"
   ]
  },
  {
   "cell_type": "code",
   "execution_count": null,
   "id": "5101380c-7994-48f5-af5d-be3e51f3ac8b",
   "metadata": {
    "pycharm": {
     "name": "#%%\n"
    }
   },
   "outputs": [],
   "source": [
    "my_json_object = df6.to_json() # variable my_json_object\n",
    "print(my_json_object)"
   ]
  },
  {
   "cell_type": "markdown",
   "id": "8634e78c-2d10-4a06-8297-d12251f152f9",
   "metadata": {
    "pycharm": {
     "name": "#%% md\n"
    }
   },
   "source": [
    "We can also directly write the JSON object into a file:"
   ]
  },
  {
   "cell_type": "code",
   "execution_count": null,
   "id": "ef9fdff9-4bef-43dc-8caf-b1bb64c07702",
   "metadata": {
    "pycharm": {
     "name": "#%%\n"
    }
   },
   "outputs": [],
   "source": [
    "df6.to_json(\"CSV_Data/sample_write_json2.json\") #writing JSON to a file\n",
    "df7=pd.read_json(\"CSV_Data/sample_write_json2.json\") #loading from file and displaying\n",
    "df7"
   ]
  },
  {
   "cell_type": "code",
   "execution_count": null,
   "id": "7d38b21a-93db-4ff7-b9be-5726b3246536",
   "metadata": {
    "pycharm": {
     "name": "#%%\n"
    }
   },
   "outputs": [],
   "source": [
    "df8= pd.read_table('http://bit.ly/chiporders') # reading the dataset\n",
    "\n",
    "#how would you save it to json?\n",
    "\n",
    "df8.to_json(\"CSV_Data/foodlist.json\")"
   ]
  },
  {
   "cell_type": "code",
   "execution_count": null,
   "id": "7c33cf12-8147-4f49-b4d1-b28ed12842bb",
   "metadata": {},
   "outputs": [],
   "source": []
  }
 ],
 "metadata": {
  "kernelspec": {
   "display_name": "Python [conda env:base] *",
   "language": "python",
   "name": "conda-base-py"
  },
  "language_info": {
   "codemirror_mode": {
    "name": "ipython",
    "version": 3
   },
   "file_extension": ".py",
   "mimetype": "text/x-python",
   "name": "python",
   "nbconvert_exporter": "python",
   "pygments_lexer": "ipython3",
   "version": "3.12.7"
  }
 },
 "nbformat": 4,
 "nbformat_minor": 5
}
