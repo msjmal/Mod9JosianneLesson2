{
 "cells": [
  {
   "cell_type": "markdown",
   "metadata": {},
   "source": [
    "# ```If``` Statements"
   ]
  },
  {
   "cell_type": "markdown",
   "metadata": {},
   "source": [
    "The general python syntax for a ```if``` statement is\n",
    "\n",
    "```if``` condition:\n",
    "\n",
    "    statements "
   ]
  },
  {
   "cell_type": "code",
   "execution_count": 5,
   "metadata": {},
   "outputs": [
    {
     "name": "stdin",
     "output_type": "stream",
     "text": [
      "Enter your number (<100):  3\n"
     ]
    },
    {
     "name": "stdout",
     "output_type": "stream",
     "text": [
      "3 : smaller than 10\n"
     ]
    }
   ],
   "source": [
    "number = int(input(\"Enter your number (<100): \"))\n",
    "if number > 10:\n",
    "    print(number, \": greather than 10\")\n",
    "if number == 10:\n",
    "    print(number, \": equal to 10\")\n",
    "if number < 10:\n",
    "    print(number, \": smaller than 10\")\n",
    "else:\n",
    "    print(\"number is invalid\")"
   ]
  },
  {
   "cell_type": "code",
   "execution_count": 9,
   "metadata": {},
   "outputs": [
    {
     "name": "stdin",
     "output_type": "stream",
     "text": [
      "Enter your number:  3\n"
     ]
    },
    {
     "name": "stdout",
     "output_type": "stream",
     "text": [
      "Number is odd\n",
      "Done!\n"
     ]
    }
   ],
   "source": [
    "# odd or even\n",
    "\n",
    "num = int (input(\"Enter your number: \"))\n",
    "\n",
    "if num%2 == 0:\n",
    "    print(\"Number is Even\")\n",
    "\n",
    "if num%2 != 0:\n",
    "    print(\"Number is odd\")\n",
    "    \n",
    "    \n",
    "print(\"Done!\")"
   ]
  },
  {
   "cell_type": "code",
   "execution_count": 11,
   "metadata": {},
   "outputs": [
    {
     "name": "stdin",
     "output_type": "stream",
     "text": [
      "Enter your number  7\n"
     ]
    },
    {
     "name": "stdout",
     "output_type": "stream",
     "text": [
      "14\n",
      "Done!\n"
     ]
    }
   ],
   "source": [
    "number = int(input(\"Enter your number \"))\n",
    "\n",
    "if number < 100:\n",
    "    if number%2 == 0:\n",
    "        if number%5 == 0:\n",
    "            print (number)\n",
    "        if number%5 != 0:\n",
    "            print (number * 5)\n",
    "            \n",
    "    if number%2 != 0:\n",
    "        print (number * 2)\n",
    "        \n",
    "if number >= 100:\n",
    "    print (\"The number is out of range!\")\n",
    "    \n",
    "print(\"Done!\")\n",
    "            \n",
    "        \n",
    "    "
   ]
  },
  {
   "cell_type": "markdown",
   "metadata": {},
   "source": [
    "# ```if - else``` Statements"
   ]
  },
  {
   "cell_type": "markdown",
   "metadata": {},
   "source": [
    " "
   ]
  },
  {
   "cell_type": "markdown",
   "metadata": {},
   "source": [
    "The general python syntax for a <code>If... Else</code> statement is\n",
    "<br>\n",
    "<br>\n",
    "<code>If</code> condition:<br>\n",
    "statements <br>\n",
    "   \n",
    "<code>Elif</code> condition:<br>\n",
    "    statements<br>\n",
    "   \n",
    "<code>Else</code>:<br>\n",
    "    statements\n",
    "    \n",
    " By using this statement we can simplify the previous example:"
   ]
  },
  {
   "cell_type": "code",
   "execution_count": 17,
   "metadata": {},
   "outputs": [
    {
     "name": "stdin",
     "output_type": "stream",
     "text": [
      "Enter your number (<100) 13\n"
     ]
    },
    {
     "name": "stdout",
     "output_type": "stream",
     "text": [
      "13 : greater than 10\n"
     ]
    }
   ],
   "source": [
    "number = int(input(\"Enter your number (<100)\"))\n",
    "if number > 10:\n",
    "    print(number, \": greater than 10\")\n",
    "elif number == 10:  ##if else if\n",
    "    print(number, \": equal to 10\")\n",
    "else:\n",
    "    print(number, \": smaller than 10\")"
   ]
  },
  {
   "cell_type": "code",
   "execution_count": 21,
   "metadata": {},
   "outputs": [
    {
     "name": "stdin",
     "output_type": "stream",
     "text": [
      "Enter your number:  23\n"
     ]
    },
    {
     "name": "stdout",
     "output_type": "stream",
     "text": [
      "46\n",
      "Done!\n"
     ]
    }
   ],
   "source": [
    "number = int(input(\"Enter your number: \"))\n",
    "\n",
    "if (number < 100):\n",
    "    if( number%2 == 0):\n",
    "        if (number%5 == 0):\n",
    "            print (number)\n",
    "        else:\n",
    "            print (number * 5)\n",
    "            \n",
    "    else:\n",
    "        print (number * 2)\n",
    "        \n",
    "if (number > 100):\n",
    "    print (\"The number is out of range!\")\n",
    "    \n",
    "print(\"Done!\")\n",
    "            "
   ]
  },
  {
   "cell_type": "code",
   "execution_count": 23,
   "metadata": {},
   "outputs": [
    {
     "name": "stdin",
     "output_type": "stream",
     "text": [
      "How many days are in February?  25\n"
     ]
    },
    {
     "name": "stdout",
     "output_type": "stream",
     "text": [
      "Try again!\n",
      "Thank you\n"
     ]
    }
   ],
   "source": [
    "# The number of days in a month\n",
    "\n",
    "days = int(input(\"How many days are in February? \"))\n",
    "\n",
    "if days == 28:\n",
    "    print(\"You got it.\")\n",
    "    \n",
    "else:\n",
    "    print(\"Try again!\")\n",
    "    \n",
    "print(\"Thank you\")"
   ]
  },
  {
   "cell_type": "markdown",
   "metadata": {},
   "source": [
    "# Loops in Python"
   ]
  },
  {
   "cell_type": "markdown",
   "metadata": {},
   "source": [
    "- When you want to repeat a fixed number of times, loops are useful to reduce the number of iterations.\n",
    "\n",
    "- There are two types of loops in python: ```for``` and ```while```"
   ]
  },
  {
   "cell_type": "markdown",
   "metadata": {},
   "source": [
    "# While loop\n",
    "\n",
    "```while``` condition:\n",
    "\n",
    "    statements"
   ]
  },
  {
   "cell_type": "code",
   "execution_count": 1,
   "metadata": {},
   "outputs": [
    {
     "name": "stdout",
     "output_type": "stream",
     "text": [
      "7\n",
      "6\n",
      "5\n",
      "4\n",
      "3\n",
      "2\n",
      "1\n"
     ]
    }
   ],
   "source": [
    "num = 7\n",
    "\n",
    "while num > 0:\n",
    "    print (num)\n",
    "    num = num - 1"
   ]
  },
  {
   "cell_type": "code",
   "execution_count": 25,
   "metadata": {},
   "outputs": [
    {
     "name": "stdout",
     "output_type": "stream",
     "text": [
      "Today is :  sunday\n",
      "Today is :  Monday\n",
      "Today is :  Tuesday\n",
      "Today is :  Wednesday\n",
      "Today is :  Thursday\n",
      "Today is :  Friday\n",
      "Today is :  Saturday\n"
     ]
    }
   ],
   "source": [
    "Day = [\"sunday\", \"Monday\", \"Tuesday\", \"Wednesday\", \"Thursday\", \"Friday\", \"Saturday\"]\n",
    "\n",
    "Count = 0\n",
    "\n",
    "while Count <= 6:\n",
    "    print (\"Today is : \", Day[Count])\n",
    "    Count = Count + 1"
   ]
  },
  {
   "cell_type": "code",
   "execution_count": 27,
   "metadata": {},
   "outputs": [
    {
     "name": "stdin",
     "output_type": "stream",
     "text": [
      "Enter your number :  25\n"
     ]
    },
    {
     "name": "stdout",
     "output_type": "stream",
     "text": [
      "8\n",
      "Done!\n"
     ]
    }
   ],
   "source": [
    "num = int(input(\"Enter your number : \"))\n",
    "\n",
    "while num < 10:\n",
    "    while num <= 5:\n",
    "        print (num * 4)\n",
    "        num = num + 1\n",
    "        \n",
    "    else:\n",
    "        print (num - 1)\n",
    "        num = num + 1\n",
    "        \n",
    "else:\n",
    "    print (num // 3)\n",
    "    num = num + 1\n",
    "    \n",
    "print(\"Done!\")"
   ]
  },
  {
   "cell_type": "code",
   "execution_count": 33,
   "metadata": {},
   "outputs": [
    {
     "name": "stdin",
     "output_type": "stream",
     "text": [
      "Enter your word:  supercalifragelistic\n"
     ]
    },
    {
     "name": "stdout",
     "output_type": "stream",
     "text": [
      "['s', 'u', 'p', 'e', 'r', 'c', 'a', 'l', 'i', 'f', 'r', 'a', 'g', 'e', 'l', 'i', 's', 't', 'i', 'c']\n"
     ]
    }
   ],
   "source": [
    "Word = str (input(\"Enter your word: \")) # Use \"input\" for Python2 and \"input\" for Python3\n",
    "\n",
    "index = 0\n",
    "List_Word = []\n",
    "\n",
    "while index < len (Word):\n",
    "    letter = Word[index]\n",
    "    List_Word.append(letter)\n",
    "    index = index + 1\n",
    "    \n",
    "print (List_Word)##type supercalifragelistic  to check different characters that there are available in the words"
   ]
  },
  {
   "cell_type": "markdown",
   "metadata": {},
   "source": [
    "# For loop\n",
    "\n",
    "```for``` variable ```in``` iterator:\n",
    "\n",
    "    statements"
   ]
  },
  {
   "cell_type": "code",
   "execution_count": 35,
   "metadata": {},
   "outputs": [
    {
     "name": "stdout",
     "output_type": "stream",
     "text": [
      "['Python', 'C', 'Java', 'Julia', 'R', 'C++']\n"
     ]
    }
   ],
   "source": [
    "MyExampleList = [\"Python\", \"C\", \"Java\", \"Julia\", \"R\", \"C++\"]\n",
    "print (MyExampleList)"
   ]
  },
  {
   "cell_type": "code",
   "execution_count": 39,
   "metadata": {},
   "outputs": [
    {
     "name": "stdout",
     "output_type": "stream",
     "text": [
      "Python\n",
      "C\n",
      "Java\n",
      "Julia\n",
      "R\n",
      "C++\n"
     ]
    }
   ],
   "source": [
    "for l in MyExampleList:\n",
    "    print(l)"
   ]
  },
  {
   "cell_type": "code",
   "execution_count": 41,
   "metadata": {},
   "outputs": [
    {
     "name": "stdin",
     "output_type": "stream",
     "text": [
      "Enter your word:  Kilimangaro\n"
     ]
    },
    {
     "name": "stdout",
     "output_type": "stream",
     "text": [
      "K\n",
      "i\n",
      "l\n",
      "i\n",
      "m\n",
      "a\n",
      "n\n",
      "g\n",
      "a\n",
      "r\n",
      "o\n"
     ]
    }
   ],
   "source": [
    "Word = str (input(\"Enter your word: \"))\n",
    "\n",
    "for letter in range (len(Word)):\n",
    "    print (Word[letter])##running a print for every run\n",
    "    "
   ]
  },
  {
   "cell_type": "code",
   "execution_count": 45,
   "metadata": {},
   "outputs": [
    {
     "name": "stdout",
     "output_type": "stream",
     "text": [
      "2 3 6\n",
      "2 4 8\n",
      "2 5 10\n",
      "3 3 9\n",
      "3 4 12\n",
      "3 5 15\n"
     ]
    }
   ],
   "source": [
    "for x in range (2,4): #from the range of 2 to 4\n",
    "    for y in range (3,6): #from range 3 to 6\n",
    "        print(x, y, (x * y)) #first it starts from the inside then goes to 3, then 4, then to 5"
   ]
  },
  {
   "cell_type": "code",
   "execution_count": 49,
   "metadata": {},
   "outputs": [
    {
     "name": "stdin",
     "output_type": "stream",
     "text": [
      "Enter your sentence:  architecture assessment bureau\n"
     ]
    },
    {
     "name": "stdout",
     "output_type": "stream",
     "text": [
      "3\n"
     ]
    }
   ],
   "source": [
    "# counting the number of specific letter in a sentence\n",
    "\n",
    "Sentence = str(input(\"Enter your sentence: \"))\n",
    "\n",
    "count = 0\n",
    "\n",
    "for char in Sentence:\n",
    "    if char == \"a\": ##looking for character a\n",
    "        count = count + 1\n",
    "        \n",
    "print(count)"
   ]
  },
  {
   "cell_type": "markdown",
   "metadata": {},
   "source": [
    "Some more example:\n"
   ]
  },
  {
   "cell_type": "code",
   "execution_count": 57,
   "metadata": {},
   "outputs": [
    {
     "name": "stdout",
     "output_type": "stream",
     "text": [
      "7\n",
      "6\n",
      "5\n",
      "End\n",
      "2 3 6\n",
      "2 4 8\n",
      "2 5 10\n",
      "3 3 9\n",
      "3 4 12\n"
     ]
    }
   ],
   "source": [
    "# using \"break\" in loop \n",
    "\n",
    "value = 7\n",
    "\n",
    "while value > 0:\n",
    "    print(value)\n",
    "    value = value - 1\n",
    "    if value == 4:\n",
    "        break ##breaks it into the previous loop\n",
    "        \n",
    "print(\"End\")\n",
    "\n",
    "for x in range (2,4): #from the range of 2 to 4\n",
    "    for y in range (3,6): #from range 3 to 6\n",
    "        print(x, y, (x * y))\n",
    "        if (x*y ==12):\n",
    "            break  ##if you find a record in a big list and you want to break it so loop finishes early"
   ]
  },
  {
   "cell_type": "code",
   "execution_count": 59,
   "metadata": {},
   "outputs": [
    {
     "name": "stdout",
     "output_type": "stream",
     "text": [
      "6\n",
      "5\n",
      "3\n",
      "2\n",
      "1\n",
      "0\n",
      "End\n"
     ]
    }
   ],
   "source": [
    "# using \"continue\" in loop \n",
    "\n",
    "value = 7\n",
    "\n",
    "while value > 0:\n",
    "    value = value - 1\n",
    "    if value == 4: # to skip a particular element in the loop\n",
    "        continue ##this keeps the loop going\n",
    "    print (value)\n",
    "        \n",
    "print(\"End\")"
   ]
  },
  {
   "cell_type": "code",
   "execution_count": 63,
   "metadata": {
    "scrolled": true
   },
   "outputs": [
    {
     "name": "stdout",
     "output_type": "stream",
     "text": [
      "2 is prime!\n",
      "3 is prime!\n",
      "4 is not prime!\n",
      "5 is prime!\n",
      "6 is not prime!\n",
      "7 is prime!\n",
      "8 is not prime!\n",
      "9 is not prime!\n",
      "10 is not prime!\n",
      "11 is prime!\n",
      "12 is not prime!\n",
      "13 is prime!\n",
      "14 is not prime!\n",
      "15 is not prime!\n",
      "16 is not prime!\n",
      "17 is prime!\n",
      "18 is not prime!\n",
      "19 is prime!\n",
      "20 is not prime!\n",
      "21 is not prime!\n",
      "22 is not prime!\n",
      "23 is prime!\n",
      "24 is not prime!\n",
      "25 is not prime!\n",
      "26 is not prime!\n",
      "27 is not prime!\n",
      "28 is not prime!\n",
      "29 is prime!\n"
     ]
    }
   ],
   "source": [
    "# Identify the prime number\n",
    "\n",
    "for number in range (2,30):\n",
    "    for x in range (2,number):\n",
    "        if number % x == 0:  ##checking if divisible by itself or 1 so it shows that it is a prime number\n",
    "            print (number, \"is not prime!\") \n",
    "            break               # check the result with/without break and compare them. \n",
    "    else:\n",
    "        print (number, \"is prime!\" )"
   ]
  },
  {
   "cell_type": "code",
   "execution_count": 65,
   "metadata": {},
   "outputs": [
    {
     "name": "stdout",
     "output_type": "stream",
     "text": [
      "31\n",
      "32\n",
      "33\n",
      "34\n",
      "35\n",
      "36\n",
      "37\n",
      "38\n",
      "39\n"
     ]
    }
   ],
   "source": [
    "for i in range (20,40):\n",
    "    if 20 <= i <= 30:\n",
    "        continue\n",
    "    print (i)"
   ]
  },
  {
   "cell_type": "code",
   "execution_count": 67,
   "metadata": {},
   "outputs": [
    {
     "name": "stdin",
     "output_type": "stream",
     "text": [
      "Enter your number:  59\n"
     ]
    },
    {
     "name": "stdout",
     "output_type": "stream",
     "text": [
      "59 is prime\n"
     ]
    }
   ],
   "source": [
    "number = int (input(\"Enter your number: \"))\n",
    "\n",
    "if number > 1:\n",
    "    for x in range (2,number):\n",
    "        if number % x == 0:\n",
    "            print (number, \"is not prime\")\n",
    "            break\n",
    "            \n",
    "    else:\n",
    "        print (number, \"is prime\")\n",
    "        \n",
    "else:\n",
    "    print (number, \"is not prime\")\n"
   ]
  },
  {
   "cell_type": "markdown",
   "metadata": {},
   "source": [
    "# Built-in functions\n",
    "Functions that are allways available in Python. Few examples:"
   ]
  },
  {
   "cell_type": "markdown",
   "metadata": {},
   "source": [
    "-```raw_input(prompt)```                             \n",
    "\n",
    "-```abs(x)```\n",
    "\n",
    "-```help()```\n",
    "\n",
    "-```float(obj)```\n",
    "\n",
    "-```int(obj)```\n",
    "\n",
    "-```long(obj)```\n",
    "\n",
    "-```print()```\n",
    "\n",
    "-```round()```\n",
    "\n",
    "-```type()```\n",
    "\n",
    "-```range()```\n"
   ]
  },
  {
   "cell_type": "markdown",
   "metadata": {},
   "source": [
    "# Mathematic functions\n",
    "-The math module gives access to the C library functions for floating point mathematics. Few examples:\n",
    "\n",
    "-```math.sqrt(x)```\n",
    "\n",
    "-```math.floor(x)```\n",
    "\n",
    "-```math.pow(x,y,z)```"
   ]
  },
  {
   "cell_type": "code",
   "execution_count": 21,
   "metadata": {},
   "outputs": [],
   "source": [
    "import math"
   ]
  },
  {
   "cell_type": "code",
   "execution_count": 22,
   "metadata": {},
   "outputs": [
    {
     "data": {
      "text/plain": [
       "8.0"
      ]
     },
     "execution_count": 22,
     "metadata": {},
     "output_type": "execute_result"
    }
   ],
   "source": [
    "x = 2\n",
    "y = 3\n",
    "z = 4\n",
    "math.pow(x,y)"
   ]
  },
  {
   "cell_type": "code",
   "execution_count": 19,
   "metadata": {},
   "outputs": [
    {
     "data": {
      "text/plain": [
       "3.0"
      ]
     },
     "execution_count": 19,
     "metadata": {},
     "output_type": "execute_result"
    }
   ],
   "source": [
    "math.floor(3.2)"
   ]
  },
  {
   "cell_type": "code",
   "execution_count": 20,
   "metadata": {},
   "outputs": [
    {
     "data": {
      "text/plain": [
       "-0.9991351502732795"
      ]
     },
     "execution_count": 20,
     "metadata": {},
     "output_type": "execute_result"
    }
   ],
   "source": [
    "math.cos(3.1)"
   ]
  },
  {
   "cell_type": "markdown",
   "metadata": {},
   "source": [
    "# Defining Functions "
   ]
  },
  {
   "cell_type": "markdown",
   "metadata": {},
   "source": [
    "If you want to define a function in python,you need to use the keyword ```def``` \n",
    "\n",
    "The structure of defining a function is like below:\n",
    "\n",
    "\n",
    "\n",
    "```def``` functionName (V,a):\n",
    "\n",
    "    statements"
   ]
  },
  {
   "cell_type": "code",
   "execution_count": 75,
   "metadata": {},
   "outputs": [
    {
     "name": "stdout",
     "output_type": "stream",
     "text": [
      "True\n"
     ]
    },
    {
     "name": "stdin",
     "output_type": "stream",
     "text": [
      "Enter your name:  Jamaica\n"
     ]
    },
    {
     "name": "stdout",
     "output_type": "stream",
     "text": [
      "Say Jamaica\n",
      "Say Josi\n",
      "Say Josi\n",
      "Say Josi\n",
      "Say Josi\n",
      "Say Josi\n",
      "Say Josi\n",
      "Say Josi\n",
      "Say Josi\n",
      "Say Josi\n",
      "Say Josi\n",
      "6\n"
     ]
    }
   ],
   "source": [
    "# Is a number prime?\n",
    "\n",
    "def prime (Candidate_num):\n",
    "    if Candidate_num > 1:\n",
    "        for x in range (2,Candidate_num):\n",
    "            if Candidate_num % x == 0:\n",
    "                return False\n",
    "    return True\n",
    "\n",
    "\n",
    "print (prime(23))\n",
    "\n",
    "thename=str(input(\"Enter your name: \"))##variable\n",
    "def saymyname(myname): #myname is a parameter\n",
    "    print(\"Say\", myname)\n",
    "\n",
    "saymyname(thename)\n",
    "\n",
    "#We want to create a function that says our name according to the number of times we ask it to say it for us.\n",
    "\n",
    "def saymyname2(myname, times):\n",
    "    for i in range(times):\n",
    "        print(\"Say\", myname)\n",
    "\n",
    "saymyname2(\"Josi\", 10)\n",
    "\n",
    "def multiplytwonumber(a,b):\n",
    "    return a * b\n",
    "    \n",
    "print(multiplytwonumber(2,3))"
   ]
  },
  {
   "cell_type": "code",
   "execution_count": 22,
   "metadata": {},
   "outputs": [
    {
     "name": "stdout",
     "output_type": "stream",
     "text": [
      "Enter your number: 231\n",
      "False\n"
     ]
    }
   ],
   "source": [
    "Number = int (input(\"Enter your number: \"))\n",
    "\n",
    "print (prime (Number))\n",
    "\n"
   ]
  },
  {
   "cell_type": "code",
   "execution_count": 23,
   "metadata": {},
   "outputs": [
    {
     "name": "stdout",
     "output_type": "stream",
     "text": [
      "5040\n"
     ]
    }
   ],
   "source": [
    "# Defining factorial function\n",
    "\n",
    "def factorial (number):\n",
    "    if number == 0:\n",
    "        return 1\n",
    "    else:\n",
    "        return number * factorial (number - 1)\n",
    "    \n",
    "    \n",
    "    \n",
    "print (factorial (7))"
   ]
  },
  {
   "cell_type": "markdown",
   "metadata": {},
   "source": [
    "# Exercises\n",
    "\n",
    "\n",
    "## Programming Exercises\n",
    "\n",
    "### **Exercise 1: Number Classification**\n",
    "**Topic:** `if-elif-else`  \n",
    "**Task:**  \n",
    "Ask the user to input a number and print:\n",
    "- \"Negative number\" if the number is less than 0  \n",
    "- \"Zero\" if the number is 0  \n",
    "- \"Positive even number\" if it's even and positive  \n",
    "- \"Positive odd number\" otherwise\n",
    "\n",
    "---\n",
    "\n",
    "### **Exercise 2: Vowel Counter**\n",
    "**Topic:** `for` loop, conditionals, string handling  \n",
    "**Task:**  \n",
    "Ask the user to input a sentence and count how many vowels (`a, e, i, o, u`) are in it.  \n",
    "Print the count for each vowel.\n",
    "\n",
    "---\n",
    "\n",
    "### **Exercise 3: Factorial Using a While Loop**\n",
    "**Topic:** `while` loop  \n",
    "**Task:**  \n",
    "Ask the user for a number and use a `while` loop to calculate its factorial (don’t use recursion).  \n",
    "Print the result.\n",
    "\n",
    "---\n",
    "\n",
    "### **Exercise 4: Prime Number Finder (Function + Loop)**\n",
    "**Topic:** Functions, `for` loop, `if`  \n",
    "**Task:**  \n",
    "Define a function `is_prime(n)` and use it in a loop to print all prime numbers between 10 and 50.\n",
    "\n",
    "---\n",
    "\n",
    "### **Exercise 5: Number Guessing Game**\n",
    "**Topic:** `while` loop, `if-else`  \n",
    "**Task:**  \n",
    "Create a number guessing game where:\n",
    "- The program randomly picks a number from 1 to 20  \n",
    "- The user keeps guessing until they get it right  \n",
    "- After each guess, print \"Too high\", \"Too low\", or \"Correct!\"\n",
    "\n",
    "*(Tip: use `import random` and `random.randint(1, 20)`)*\n",
    "\n",
    "---"
   ]
  },
  {
   "cell_type": "markdown",
   "metadata": {},
   "source": [
    "\n",
    "### **Exercise 2: Vowel Counter**\n",
    "**Topic:** `for` loop, conditionals, string handling  \n",
    "**Task:**  \n",
    "Ask the user to input a sentence and count how many vowels (`a, e, i, o, u`) are in it.  \n",
    "Print the count for each vowel."
   ]
  },
  {
   "cell_type": "code",
   "execution_count": 86,
   "metadata": {},
   "outputs": [
    {
     "name": "stdin",
     "output_type": "stream",
     "text": [
      "Kindly enter a sentence:  hello there\n"
     ]
    },
    {
     "name": "stdout",
     "output_type": "stream",
     "text": [
      "The number of vowels in the sentence is 4\n"
     ]
    }
   ],
   "source": [
    "sentence=str(input(\"Kindly enter a sentence: \")).lower()#else if capital it will not add it\n",
    "vowels = (\"a\",\"e\",\"i\",\"o\",\"u\")\n",
    "vowel_count = 0\n",
    "List_Word = []\n",
    "index =0\n",
    "\n",
    "while index < len (sentence):\n",
    "    letter = sentence[index]\n",
    "    List_Word.append(letter)\n",
    "    index += 1\n",
    "    if letter in vowels:\n",
    "        vowel_count += 1\n",
    "    else:\n",
    "        continue\n",
    "\n",
    "print(f'The number of vowels in the sentence is {vowel_count}')"
   ]
  },
  {
   "cell_type": "markdown",
   "metadata": {},
   "source": [
    "# Homework (not graded)\n",
    "Please complete all the exercises on this Notebook. Some exercises will be solved in class, but you should complete solving all the remaining exersices at the end of each Notebook on every class. If you can not solve an exercise, please contact the class teaching assistant for help inmmediately."
   ]
  },
  {
   "cell_type": "markdown",
   "metadata": {},
   "source": [
    "# References\n",
    "\n",
    "- If... Else, While, Lists: https://www.w3schools.com/python/python_while_loops.asp\n",
    "- Mathematics module: https://docs.python.org/2/tutorial/stdlib.html\n",
    "- Built-in functions: https://docs.python.org/2/library/functions.html\n"
   ]
  },
  {
   "cell_type": "markdown",
   "metadata": {},
   "source": []
  }
 ],
 "metadata": {
  "kernelspec": {
   "display_name": "Python [conda env:base] *",
   "language": "python",
   "name": "conda-base-py"
  },
  "language_info": {
   "codemirror_mode": {
    "name": "ipython",
    "version": 3
   },
   "file_extension": ".py",
   "mimetype": "text/x-python",
   "name": "python",
   "nbconvert_exporter": "python",
   "pygments_lexer": "ipython3",
   "version": "3.12.7"
  }
 },
 "nbformat": 4,
 "nbformat_minor": 4
}
